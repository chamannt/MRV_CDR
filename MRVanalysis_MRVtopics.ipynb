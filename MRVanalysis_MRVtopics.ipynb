{
 "cells": [
  {
   "cell_type": "markdown",
   "id": "d1510fca-79a4-477d-b2d0-bcda82db9b5a",
   "metadata": {
    "jp-MarkdownHeadingCollapsed": true
   },
   "source": [
    "# Tools"
   ]
  },
  {
   "cell_type": "code",
   "execution_count": null,
   "id": "20255c29-074c-4a74-a278-61ba94c1de3b",
   "metadata": {
    "scrolled": true
   },
   "outputs": [],
   "source": [
    "import pandas as pd"
   ]
  },
  {
   "cell_type": "code",
   "execution_count": null,
   "id": "ef5655fd-cf8a-4c72-a3dd-18a7f901574c",
   "metadata": {},
   "outputs": [],
   "source": [
    "from IPython.display import display"
   ]
  },
  {
   "cell_type": "code",
   "execution_count": null,
   "id": "0b33c60e-8cf9-412a-8cbf-ee3cfec28471",
   "metadata": {},
   "outputs": [],
   "source": [
    "from pandas.plotting import table"
   ]
  },
  {
   "cell_type": "code",
   "execution_count": null,
   "id": "b863fa21-86d1-4abb-85d6-a5a4ac103089",
   "metadata": {},
   "outputs": [],
   "source": [
    "import matplotlib.pyplot as plt"
   ]
  },
  {
   "cell_type": "code",
   "execution_count": null,
   "id": "1f0f20fc-e542-43bb-9cb9-1a6d947d0fd7",
   "metadata": {},
   "outputs": [],
   "source": [
    "import numpy as np"
   ]
  },
  {
   "cell_type": "code",
   "execution_count": null,
   "id": "778367ac-7f24-401d-b987-4f6436610bc2",
   "metadata": {},
   "outputs": [],
   "source": [
    "from matplotlib import cm"
   ]
  },
  {
   "cell_type": "code",
   "execution_count": null,
   "id": "60c77d00-06fd-43cd-b563-882a2ec66302",
   "metadata": {},
   "outputs": [],
   "source": [
    "from itertools import combinations"
   ]
  },
  {
   "cell_type": "code",
   "execution_count": null,
   "id": "f8efe797-12c4-4915-bc38-5804094234ea",
   "metadata": {},
   "outputs": [],
   "source": [
    "from matplotlib import colormaps"
   ]
  },
  {
   "cell_type": "code",
   "execution_count": null,
   "id": "b68c030b-d491-4c23-88ef-807f8773d5f0",
   "metadata": {},
   "outputs": [],
   "source": [
    "import networkx as nx"
   ]
  },
  {
   "cell_type": "code",
   "execution_count": null,
   "id": "90539404-3001-4123-a633-2415e3682c2b",
   "metadata": {},
   "outputs": [],
   "source": [
    "import matplotlib.pyplot as plt"
   ]
  },
  {
   "cell_type": "code",
   "execution_count": null,
   "id": "1c5a9481-806b-4822-b83d-382705c21470",
   "metadata": {},
   "outputs": [],
   "source": [
    "import plotly.graph_objects as go"
   ]
  },
  {
   "cell_type": "code",
   "execution_count": null,
   "id": "702bfb5f-1d9e-4e81-a7a8-f457f173df0e",
   "metadata": {},
   "outputs": [],
   "source": [
    "import seaborn as sns"
   ]
  },
  {
   "cell_type": "code",
   "execution_count": null,
   "id": "a0131676-37fb-4e90-a38c-460eb9da1f23",
   "metadata": {},
   "outputs": [],
   "source": [
    "import textwrap"
   ]
  },
  {
   "cell_type": "markdown",
   "id": "0faf04d9-42de-43d7-a41c-b91abd864826",
   "metadata": {},
   "source": [
    "# Analysis MRV topics"
   ]
  },
  {
   "cell_type": "markdown",
   "id": "1de04b06-b920-4f07-81e3-4498ec2cf241",
   "metadata": {},
   "source": [
    "### 0 Data preparation"
   ]
  },
  {
   "cell_type": "markdown",
   "id": "09db30bf-2991-472a-8b8f-f3b6e19ab88e",
   "metadata": {},
   "source": [
    "#### 0.1 Import files"
   ]
  },
  {
   "cell_type": "code",
   "execution_count": null,
   "id": "3bacc83f-3827-4703-97ef-29984dafbe00",
   "metadata": {},
   "outputs": [],
   "source": [
    "df = pd.read_excel(\"MRVdata_2210.xlsx\")\n",
    "pd.options.display.max_columns = None\n",
    "#display(df)\n",
    "#code above: shows excel table"
   ]
  },
  {
   "cell_type": "code",
   "execution_count": null,
   "id": "23bcf79e-f4cb-459f-878a-a8ced52e428e",
   "metadata": {},
   "outputs": [],
   "source": [
    "# read excel file with continent data \n",
    "continent_data = pd.read_excel('continents.xlsx')"
   ]
  },
  {
   "cell_type": "markdown",
   "id": "dc7515d8-3513-41ba-880c-2056efdd7872",
   "metadata": {},
   "source": [
    "#### 0.2 Exclusion of data"
   ]
  },
  {
   "cell_type": "code",
   "execution_count": null,
   "id": "f45b0aac-6761-46e7-9836-753101c476a3",
   "metadata": {},
   "outputs": [],
   "source": [
    "# filter data frame to exclude studies from 2024\n",
    "df_filtered = df[df['Year'] != 2024]"
   ]
  },
  {
   "cell_type": "code",
   "execution_count": null,
   "id": "994575d2-c9da-4b4c-a917-8151a988aa17",
   "metadata": {},
   "outputs": [],
   "source": [
    "df_included = df_filtered[df_filtered['Inclusion/exclusion'] == 'Inclusion'] # new dataframe defined to exclude studies without access or excluded papers\n",
    "#controll new data frame\n",
    "#df_included['Inclusion/exclusion'].value_counts()"
   ]
  },
  {
   "cell_type": "markdown",
   "id": "64e99842-f55c-49ff-8ec4-f8cd69153abd",
   "metadata": {
    "jp-MarkdownHeadingCollapsed": true
   },
   "source": [
    "#### 0.3 Change study location to continent"
   ]
  },
  {
   "cell_type": "code",
   "execution_count": null,
   "id": "fda8646b-217b-4c41-a4de-2f3c5b04637b",
   "metadata": {},
   "outputs": [],
   "source": [
    "# create a dictionary for the assignment of countries to continents\n",
    "country_to_continent = dict(zip(continent_data['Country'], continent_data['Continent']))\n",
    "\n",
    "# Function to determine the continent based on the country\n",
    "def get_continent(study_location, continent_column): #part of the function, not column names of the df; will be defined later when function is applied\n",
    "    if pd.isna(study_location):\n",
    "        return \"Not specified\"\n",
    "    if study_location == \"Multiple countries\":\n",
    "        return continent_column  # uses the manually definied continents for the category \"Multiple countries\"\n",
    "    return country_to_continent.get(study_location.strip(), \"Not specified\")  # Search for the country in the dictionary and return the continent or 'not specified'\n",
    "\n",
    "# avoid warning\n",
    "df_included = df_included.copy()\n",
    "\n",
    "# apply function to df_included\n",
    "df_included['Study location_continent'] = df_included.apply(\n",
    "    lambda row: get_continent(row['Study location'], row['Study location: Continent']),\n",
    "    axis=1\n",
    ")\n",
    "\n",
    "#pd.options.display.max_columns = None\n",
    "#display(df_included)"
   ]
  },
  {
   "cell_type": "markdown",
   "id": "cc886236-9077-4962-ac7c-6d7aeaf6f655",
   "metadata": {
    "jp-MarkdownHeadingCollapsed": true
   },
   "source": [
    "#### 0.4 Group CDR method and color scheme"
   ]
  },
  {
   "cell_type": "code",
   "execution_count": null,
   "id": "c458ccf4-5ca1-4ceb-834d-3ea60fbb1ac0",
   "metadata": {},
   "outputs": [],
   "source": [
    "#columns with all CDR methods\n",
    "CDR_columns = ['BECCS', 'General forestry', 'A/R', 'Agroforestry', 'Forest management', 'DACCS', 'EW', 'OAE', 'OIF/AU', 'Biochar', 'SCS', 'Blue carbon', 'Restoration of landscapes and peats', 'CCUS', 'Other', 'General CDR', 'DOC', 'Algae ', 'CCS']"
   ]
  },
  {
   "cell_type": "code",
   "execution_count": null,
   "id": "f23f5c39-d100-4bf5-bad6-ffd9def96fc2",
   "metadata": {},
   "outputs": [],
   "source": [
    "# Define the custom color scheme for each CDR method\n",
    "custom_colors_CDR_method = {\n",
    "    'BECCS': '#f4d6ae', 'General forestry': '#bcbd22', 'A/R': '#aab792', \n",
    "    'Agroforestry': '#e9ede2', 'Forest management': '#d2bfac', 'DACCS': '#dd7500',\n",
    "    'EW': '#d6b8c1', 'OAE': '#ecf1f9', 'OIF/AU': '#709fca', 'Biochar': '#b7768bff',\n",
    "    'SCS': '#769112', 'Blue carbon': '#d8e3f1', 'Restoration of landscapes and peats': '#d3dbc7',\n",
    "    'CCUS': '#b55d00', 'Other': '#e5e5e5', 'General CDR': '#e5b138', 'DOC': '#17becf',\n",
    "    'Algae ': '#2ca02c', 'CCS': '#d62728'\n",
    "}"
   ]
  },
  {
   "cell_type": "markdown",
   "id": "77e9fab0-7c48-4112-a832-6240b12df717",
   "metadata": {
    "jp-MarkdownHeadingCollapsed": true
   },
   "source": [
    "#### 0.5 Group MRV topics and color scheme"
   ]
  },
  {
   "cell_type": "code",
   "execution_count": null,
   "id": "12feebff-dd04-4729-9c22-524d2621c62a",
   "metadata": {},
   "outputs": [],
   "source": [
    "#columns with all MRV topics\n",
    "MRV_columns = ['General MRV', 'Quantification', 'Monitoring', 'Quality', 'Governance', 'Reporting', 'Verification', 'External impacts']"
   ]
  },
  {
   "cell_type": "code",
   "execution_count": null,
   "id": "2ad64d8a-4cd9-4f0c-a44d-87696c130b32",
   "metadata": {},
   "outputs": [],
   "source": [
    "# Define the new custom color scheme for MRV topics\n",
    "mrv_topic_colors = {\n",
    "    'General MRV': '#e5b138',      # muted yellow\n",
    "    'Quantification': '#7da7b8',   # darker bluish-grey\n",
    "    'Monitoring': '#8dc39f',        # stronger soft green\n",
    "    'Quality': '#c76a85',           # berry red\n",
    "    'Governance': '#b39bc8',        # stronger lavender\n",
    "    'Reporting': '#e1a6b8',         # stronger soft pink\n",
    "    'Verification': '#a8a8a8',      # medium grey\n",
    "    'External impacts': '#d0c97b'   # stronger soft yellow\n",
    "}"
   ]
  },
  {
   "cell_type": "markdown",
   "id": "f614c53d-55cb-4814-b3be-e61d165198e4",
   "metadata": {
    "jp-MarkdownHeadingCollapsed": true
   },
   "source": [
    "#### 0.6 Dataset explosion"
   ]
  },
  {
   "cell_type": "code",
   "execution_count": null,
   "id": "c423ee03-1bce-4b13-8d44-dbba3578835f",
   "metadata": {},
   "outputs": [],
   "source": [
    "#add new column for CDR method and study focus in the dataset\n",
    "def extract_CDR_method_focus(row):\n",
    "    CDR_method = []\n",
    "    CDR_focus = []\n",
    "    \n",
    "    for column in CDR_columns:  # previously defined list with columns that contain CDR methods\n",
    "        if row[column] > 0:\n",
    "            CDR_method.append(column)\n",
    "            CDR_focus.append(row[column])\n",
    "    \n",
    "    return pd.Series([CDR_method, CDR_focus])\n",
    "\n",
    "# new copy of the data set to avoid warning\n",
    "df_included = df_included.copy()\n",
    "\n",
    "# add new columns to the data frame\n",
    "df_included['CDR_method'] = df_included.apply(lambda row: extract_CDR_method_focus(row)[0], axis=1)\n",
    "df_included['CDR_focus'] = df_included.apply(lambda row: extract_CDR_method_focus(row)[1], axis=1)\n",
    "\n",
    "#display dataset to see if newly added columns are correct\n",
    "#pd.options.display.max_columns = None\n",
    "#display(df_included)"
   ]
  },
  {
   "cell_type": "code",
   "execution_count": null,
   "id": "f4d6516d-296a-472c-8fc0-1cc3f49c84da",
   "metadata": {},
   "outputs": [],
   "source": [
    "#add new column for MRV topic and study focus to the dataset\n",
    "def extract_MRV_topic_focus(row):\n",
    "    MRV_topic = []\n",
    "    MRV_focus = []\n",
    "    \n",
    "    for column in MRV_columns:  # previously defined list with columns that contain MRV topics\n",
    "        if row[column] > 0:\n",
    "            MRV_topic.append(column)\n",
    "            MRV_focus.append(row[column])\n",
    "    \n",
    "    return pd.Series([MRV_topic, MRV_focus])\n",
    "\n",
    "# new copy of the data set to avoid warning\n",
    "df_included = df_included.copy()\n",
    "\n",
    "# add new columns to the data frame\n",
    "df_included['MRV_topic'] = df_included.apply(lambda row: extract_MRV_topic_focus(row)[0], axis=1)\n",
    "df_included['MRV_focus'] = df_included.apply(lambda row: extract_MRV_topic_focus(row)[1], axis=1)\n",
    "\n",
    "#display dataset to see if newly added columns are correct\n",
    "#pd.options.display.max_columns = None\n",
    "#display(df_included)"
   ]
  },
  {
   "cell_type": "code",
   "execution_count": null,
   "id": "28ffd678-f64c-4536-adad-b788f1c77fe0",
   "metadata": {},
   "outputs": [],
   "source": [
    "# explode CDR method and focus\n",
    "df_CDRexplode = df_included.explode(['CDR_method', 'CDR_focus'])\n",
    "\n",
    "# explode MRV topic and focus\n",
    "df_exploded = df_CDRexplode.explode(['MRV_topic', 'MRV_focus'])\n",
    "\n",
    "# every CDR method and every MRV topic is in one line (in combination with study focus)\n",
    "\n",
    "#display dataset to see if newly added columns are correct\n",
    "#pd.options.display.max_columns = None\n",
    "#display(df_exploded)"
   ]
  },
  {
   "cell_type": "markdown",
   "id": "631b9cb8-ea7e-46ce-a7cc-5f3b523865ff",
   "metadata": {
    "jp-MarkdownHeadingCollapsed": true
   },
   "source": [
    "#### 0.7 Definition CDR groups & color scheme"
   ]
  },
  {
   "cell_type": "code",
   "execution_count": null,
   "id": "6062ccab-2ecb-436f-ba1c-d72ef94b57aa",
   "metadata": {},
   "outputs": [],
   "source": [
    "# Group CDR Methods to marine, terrestrial, and CCS technologies. Keep A/R and SCS as individual technologies\n",
    "cdr_group_mapping = {\n",
    "     # Marine CDR group\n",
    "    \"OIF/AU\":\"Marine CDR\",\n",
    "    \"Blue carbon\": \"Marine CDR\",\n",
    "    \"OAE\": \"Marine CDR\",\n",
    "    \"DOC\": \"Marine CDR\",\n",
    "    \"Algae \": \"Marine CDR\",\n",
    "    \n",
    "    # Terrestrial CDR group\n",
    "    \"EW\": \"Terrestrial CDR\",\n",
    "    \"Biochar\": \"Terrestrial CDR\",\n",
    "    \"Restoration of landscapes and peats\": \"Terrestrial CDR\",\n",
    "    \n",
    "    # CCS group\n",
    "    \"DACCS\": \"CCS\",\n",
    "    \"BECCS\": \"CCS\",\n",
    "    \"CCUS\": \"CCS\",\n",
    "    \"CCS\": \"CCS\",\n",
    "    \n",
    "    # General CDR/Other group\n",
    "    \"General CDR\": \"General CDR/Other\",\n",
    "    \"Other\": \"General CDR/Other\",\n",
    "\n",
    "    # SCS\n",
    "    \"SCS\": \"SCS\",\n",
    "\n",
    "    # Forestry\n",
    "    \"General forestry\": \"Forestry\",\n",
    "    \"A/R\": \"Forestry\",\n",
    "    \"Agroforestry\": \"Forestry\",\n",
    "    \"Forest management\": \"Forestry\",\n",
    "}\n",
    "# Create a new column ‘CDR_group’ in df_exploded based on the ‘CDR_method’ column\n",
    "df_exploded['CDR_group'] = df_exploded['CDR_method'].map(cdr_group_mapping)\n",
    "\n",
    "# Display the updated DataFrame\n",
    "#pd.options.display.max_columns = None  # Show all columns\n",
    "#display(df_exploded)"
   ]
  },
  {
   "cell_type": "code",
   "execution_count": null,
   "id": "628a7c73-452b-486f-89ff-21b016311a39",
   "metadata": {},
   "outputs": [],
   "source": [
    "# Define the custom color scheme for each CDR group\n",
    "cdr_group_colors = {\n",
    "    \"Marine CDR\": '#7eaed3',    # bluew for Marine CDR\n",
    "    \"Terrestrial CDR\": '#b2df8a',  # green for Terrestrial CDR\n",
    "    \"CCS\": '#ff7f00',            # orange for CCS\n",
    "    \"General CDR/Other\": '#e5e5e5', # grey for General/Other\n",
    "    \"SCS\": '#C1A28A' ,            # brown for SCS\n",
    "    \"Forestry\": '#8fbc8f'         # green for Forestry\n",
    "}\n"
   ]
  },
  {
   "cell_type": "markdown",
   "id": "1b34ed30-f9a6-47dc-9ea0-6f81f74badcd",
   "metadata": {},
   "source": [
    "### 1 Exploded dataset: CDR method & MRV topic"
   ]
  },
  {
   "cell_type": "markdown",
   "id": "4dcf6324-0d9d-4492-8e08-f73537723f10",
   "metadata": {
    "jp-MarkdownHeadingCollapsed": true
   },
   "source": [
    "#### Figure 1: MRV topics per CDR method"
   ]
  },
  {
   "cell_type": "code",
   "execution_count": null,
   "id": "c21bf579-15e6-4d20-8e78-af1990cbea1b",
   "metadata": {},
   "outputs": [],
   "source": [
    "# group data for CDR method and MRV topic\n",
    "grouped_data = df_exploded.groupby(['CDR_method', 'MRV_topic'], observed=False).size().reset_index(name='Count')\n",
    "\n",
    "# pivot tables\n",
    "pivot_table = grouped_data.pivot(index='CDR_method', columns='MRV_topic', values='Count').fillna(0)\n",
    "\n",
    "# sum MRV topics per CDR method and sort data \n",
    "pivot_table['Total'] = pivot_table.sum(axis=1)\n",
    "pivot_table = pivot_table.sort_values(by='Total', ascending=True)  # sort for total sum\n",
    "pivot_table = pivot_table.drop(columns='Total')  # remove column total sum\n",
    "\n",
    "# Get colors for each MRV topic based on the new color scheme\n",
    "mrv_topics = pivot_table.columns\n",
    "colors_MRV = [mrv_topic_colors.get(topic, '#cccccc') for topic in mrv_topics]  # Default to grey if topic not in mrv_topic_colors\n",
    "\n",
    "# stacked bar chart\n",
    "fig, ax = plt.subplots(figsize=(12, 8))\n",
    "pivot_table.plot(kind='barh', stacked=True, ax=ax, color = colors_MRV)  # 'barh' for horizontal bars\n",
    "plt.title('MRV topics per CDR method', fontsize=14)\n",
    "plt.xlabel('Number of MRV topics', fontsize=12)\n",
    "plt.ylabel('CDR methods', fontsize=12)\n",
    "plt.yticks(rotation=0)\n",
    "\n",
    "# legend\n",
    "plt.legend(title='MRV topics', bbox_to_anchor=(1.05, 1), loc='upper left')\n",
    "plt.tight_layout() \n",
    "plt.show()"
   ]
  },
  {
   "cell_type": "markdown",
   "id": "31845fe9-408b-4170-b6f3-02870f1d6a68",
   "metadata": {
    "jp-MarkdownHeadingCollapsed": true
   },
   "source": [
    "#### Figure 2: MRV topics per CDR group"
   ]
  },
  {
   "cell_type": "code",
   "execution_count": null,
   "id": "cd40509d-072d-4e0f-9547-65020c2cbdca",
   "metadata": {},
   "outputs": [],
   "source": [
    "# group data for CDR method and MRV topic\n",
    "grouped_data = df_exploded.groupby(['CDR_group', 'MRV_topic']).size().reset_index(name='Count')\n",
    "\n",
    "# pivot tables\n",
    "pivot_table = grouped_data.pivot(index='CDR_group', columns='MRV_topic', values='Count').fillna(0)\n",
    "\n",
    "# sum MRV topics per CDR group and sort data \n",
    "pivot_table['Total'] = pivot_table.sum(axis=1)\n",
    "pivot_table = pivot_table.sort_values(by='Total', ascending=True)  # sort for total sum\n",
    "pivot_table = pivot_table.drop(columns='Total')  # remove column totoal sum\n",
    "\n",
    "# Get colors for each MRV topic based on the new color scheme\n",
    "mrv_topics = pivot_table.columns\n",
    "colors_MRV = [mrv_topic_colors.get(topic, '#cccccc') for topic in mrv_topics]  # Default to grey if topic not in mrv_topic_colors\n",
    "\n",
    "# stacked bar chart\n",
    "fig, ax = plt.subplots(figsize=(12, 8))\n",
    "pivot_table.plot(kind='barh', stacked=True, ax=ax, color = colors_MRV)  # 'barh' for horizontal bars\n",
    "plt.title('MRV topics per grouped CDR method', fontsize=14)\n",
    "plt.xlabel('Number of MRV topics', fontsize=12)\n",
    "plt.ylabel('CDR methods', fontsize=12)\n",
    "plt.yticks(rotation=0)\n",
    "\n",
    "# legend\n",
    "plt.legend(title='MRV topics', bbox_to_anchor=(1.05, 1), loc='upper left')\n",
    "plt.tight_layout() \n",
    "plt.show()"
   ]
  },
  {
   "cell_type": "markdown",
   "id": "29120252-f992-4d4e-8110-cc5b80831825",
   "metadata": {},
   "source": [
    "### 2 Exploded datset: MRV topics and different foci per CDR method"
   ]
  },
  {
   "cell_type": "markdown",
   "id": "425efd87-f39b-4d0c-bcb3-d9c495141a2e",
   "metadata": {
    "jp-MarkdownHeadingCollapsed": true
   },
   "source": [
    "#### 2.1 MRV topics with main focus per CDR method"
   ]
  },
  {
   "cell_type": "code",
   "execution_count": null,
   "id": "0007c3c0-0583-4010-9fc2-83afe6b0ffa7",
   "metadata": {},
   "outputs": [],
   "source": [
    "# count MRV main topics\n",
    "main_topics = df_exploded[df_exploded['MRV_focus'] == 1].groupby(['CDR_method', 'MRV_topic']).size().reset_index(name='Main_Topic_Count')\n",
    "\n",
    "# create pivot table for MRV main topics per CDR method\n",
    "main_topics_pivot = main_topics.pivot(index='CDR_method', columns='MRV_topic', values='Main_Topic_Count').fillna(0)\n",
    "\n",
    "# Reset index to bring 'CDR_method' back as a column\n",
    "main_topics_pivot_reset = main_topics_pivot.reset_index()\n",
    "\n",
    "# Rename 'CDR_method' column to 'CDR methods'\n",
    "main_topics_pivot_reset.rename(columns={'CDR_method': 'CDR method'}, inplace=True)\n",
    "\n",
    "# Sort columns by sum of Main_Topic_Count\n",
    "maintopic_sorted = main_topics_pivot.sum().sort_values(ascending=False)\n",
    "\n",
    "# Create a sorted column list (keeping 'CDR_method' at the front)\n",
    "sorted_columns_m = ['CDR method'] + maintopic_sorted.index.tolist()\n",
    "\n",
    "# Select and sort the columns in the final table\n",
    "sorted_maintopic_table = main_topics_pivot_reset[sorted_columns_m]\n",
    "\n",
    "# show final table\n",
    "# pd.options.display.max_columns = None  # show all columns\n",
    "# print(sorted_maintopic_table)"
   ]
  },
  {
   "cell_type": "markdown",
   "id": "19a3d2a7-0173-4380-901c-8712e1b21d7c",
   "metadata": {
    "jp-MarkdownHeadingCollapsed": true
   },
   "source": [
    "#### Figure 3: Overview table"
   ]
  },
  {
   "cell_type": "code",
   "execution_count": null,
   "id": "646082d2-0bca-4fe0-8a45-1fe4440892c5",
   "metadata": {},
   "outputs": [],
   "source": [
    "# colozize the columns\n",
    "def colorize_table(table_plot, dataframe, cmap_name='Blues'):\n",
    "    numeric_df = dataframe.select_dtypes(include=[np.number])  # Only numeric values\n",
    "    cmap = colormaps.get_cmap(cmap_name)  # use a color map\n",
    "    norm = plt.Normalize(vmin=numeric_df.min().min(), vmax=numeric_df.max().max())  # normalization of values\n",
    "\n",
    "    for i in range(len(dataframe)):\n",
    "        for j in range(1, len(dataframe.columns)):  # do not color column 1 (CDR methods)\n",
    "            if dataframe.columns[j] in numeric_df.columns:  # Only numeric values\n",
    "                cell_value = dataframe.iloc[i, j]\n",
    "                color = cmap(norm(cell_value))\n",
    "                table_plot[(i+1, j)].set_facecolor(color)\n",
    "\n",
    "# Create a figure and axes for the table\n",
    "fig, ax = plt.subplots(figsize=(15, 8))\n",
    "\n",
    "# remove axes\n",
    "ax.axis('off')\n",
    "\n",
    "# leave the index for CDR methods out\n",
    "table_plot = ax.table(cellText=sorted_maintopic_table.values,\n",
    "                      colLabels=sorted_maintopic_table.columns,\n",
    "                      cellLoc='center',\n",
    "                      colLoc='center',\n",
    "                      loc='center')\n",
    "\n",
    "# Adjust the column width\n",
    "table_plot.auto_set_column_width([0])\n",
    "table_plot.auto_set_font_size(False)\n",
    "table_plot.set_fontsize(10)\n",
    "\n",
    "\n",
    "colorize_table(table_plot, sorted_maintopic_table, cmap_name='Blues')\n",
    "plt.show()"
   ]
  },
  {
   "cell_type": "markdown",
   "id": "101e1ffd-addd-45c9-8e13-c7fde382037c",
   "metadata": {
    "jp-MarkdownHeadingCollapsed": true
   },
   "source": [
    "#### 2.2 MRV topics with side focus"
   ]
  },
  {
   "cell_type": "code",
   "execution_count": null,
   "id": "51dc57c4-b644-4e4f-9a65-b3faa856783a",
   "metadata": {},
   "outputs": [],
   "source": [
    "# count MRV side topics\n",
    "side_topics = df_exploded[df_exploded['MRV_focus'] == 2].groupby(['CDR_method', 'MRV_topic']).size().reset_index(name='Side_Topic_Count')\n",
    "\n",
    "# create pivot table for MRV side topics per CDR method\n",
    "side_topics_pivot = side_topics.pivot(index='CDR_method', columns='MRV_topic', values='Side_Topic_Count').fillna(0)\n",
    "\n",
    "# Reset index to bring 'CDR_method' back as a column\n",
    "side_topics_pivot_reset = side_topics_pivot.reset_index()\n",
    "\n",
    "# Rename 'CDR_method' column to 'CDR methods'\n",
    "side_topics_pivot_reset.rename(columns={'CDR_method': 'CDR method'}, inplace=True)\n",
    "\n",
    "# Sort columns by sum of Side_Topic_Count\n",
    "sidetopic_sorted = side_topics_pivot_reset.iloc[:, 1:].sum().sort_values(ascending=False)\n",
    "\n",
    "# Create a sorted column list (keeping 'CDR methods' at the front)\n",
    "sorted_columns_s = ['CDR method'] + sidetopic_sorted.index.tolist()\n",
    "\n",
    "# Select and sort the columns in the final table\n",
    "sorted_sidetopic_table = side_topics_pivot_reset[sorted_columns_s]\n",
    "\n",
    "# Show final table\n",
    "#pd.options.display.max_columns = None  # Show all columns\n",
    "#print(sorted_sidetopic_table)"
   ]
  },
  {
   "cell_type": "markdown",
   "id": "b2ea975c-ca31-4ccf-afb1-816154875681",
   "metadata": {
    "jp-MarkdownHeadingCollapsed": true
   },
   "source": [
    "#### Figure 4: Overview table "
   ]
  },
  {
   "cell_type": "code",
   "execution_count": null,
   "id": "554151d3-419d-4124-959d-f1c56b83ba48",
   "metadata": {},
   "outputs": [],
   "source": [
    "# colozize the columns\n",
    "def colorize_table(table_plot, dataframe, cmap_name='Blues'):\n",
    "    numeric_df = dataframe.select_dtypes(include=[np.number])  # Only numeric values\n",
    "    cmap = colormaps.get_cmap(cmap_name)  # use a color map\n",
    "    norm = plt.Normalize(vmin=numeric_df.min().min(), vmax=numeric_df.max().max())  # normalization of values\n",
    "\n",
    "    for i in range(len(dataframe)):\n",
    "        for j in range(1, len(dataframe.columns)):  # do not color column 1 (CDR methods)\n",
    "            if dataframe.columns[j] in numeric_df.columns:  # Only numeric values\n",
    "                cell_value = dataframe.iloc[i, j]\n",
    "                color = cmap(norm(cell_value))\n",
    "                table_plot[(i+1, j)].set_facecolor(color)\n",
    "\n",
    "# Create a figure and axes for the table\n",
    "fig, ax = plt.subplots(figsize=(15, 8))\n",
    "\n",
    "# remove axes\n",
    "ax.axis('off')\n",
    "\n",
    "# leave the index for CDR methods out\n",
    "table_plot = ax.table(cellText=sorted_sidetopic_table.values, #includes table that is displayed\n",
    "                      colLabels=sorted_sidetopic_table.columns,\n",
    "                      cellLoc='center',\n",
    "                      colLoc='center',\n",
    "                      loc='center')\n",
    "\n",
    "# Adjust the column width\n",
    "table_plot.auto_set_column_width([0])\n",
    "table_plot.auto_set_font_size(False)\n",
    "table_plot.set_fontsize(10)\n",
    "\n",
    "\n",
    "colorize_table(table_plot, sorted_sidetopic_table, cmap_name='Blues') #define table\n",
    "\n",
    "plt.show()"
   ]
  },
  {
   "cell_type": "code",
   "execution_count": null,
   "id": "16d0c3cd-1fe5-4ee6-a936-6d39fe5c47a1",
   "metadata": {},
   "outputs": [],
   "source": [
    "# learning from these results: combine some of the CDR methods and focus on Quantification as main MRV topic"
   ]
  },
  {
   "cell_type": "markdown",
   "id": "e5ddd594-2e2b-42a6-8b5c-2448dce5a149",
   "metadata": {
    "jp-MarkdownHeadingCollapsed": true
   },
   "source": [
    "#### 2.3 Overview of MRV topics and foci"
   ]
  },
  {
   "cell_type": "markdown",
   "id": "78a36605-ba71-4a96-9713-32caf864e9be",
   "metadata": {
    "jp-MarkdownHeadingCollapsed": true
   },
   "source": [
    "#### Figure 5: Stacked bar plot MRV topic by focus"
   ]
  },
  {
   "cell_type": "code",
   "execution_count": null,
   "id": "b84e0e49-31b6-4864-9665-a5d065911b73",
   "metadata": {},
   "outputs": [],
   "source": [
    "# Get the counts of each CDR_focus per CDR_method\n",
    "df_counts = df_exploded.groupby(['MRV_topic', 'MRV_focus']).size().unstack(fill_value=0)\n",
    "\n",
    "# Plotting\n",
    "fig, ax = plt.subplots(figsize=(8, 6))\n",
    "\n",
    "# Stacked bar plot\n",
    "df_counts.plot(kind='bar', stacked=True, ax=ax, color=['#87CEEB', '#6CA6CD'])\n",
    "\n",
    "# Customizing plot\n",
    "ax.set_xlabel('MRV Topic')\n",
    "ax.set_ylabel('Count')\n",
    "ax.set_title('Stacked Bar Plot of MRV Topic by Focus')\n",
    "plt.xticks(rotation=90)\n",
    "legend_mrvfocus = ['Main focus', 'Side focus']\n",
    "plt.legend(legend_mrvfocus, title='MRV Focus', bbox_to_anchor=(1.05, 1), loc='upper left')  # Legend outside the plot\n",
    "plt.tight_layout()\n",
    "plt.show()"
   ]
  },
  {
   "cell_type": "code",
   "execution_count": null,
   "id": "96644f97-879a-4b58-868c-a82c8cc54d4a",
   "metadata": {},
   "outputs": [],
   "source": []
  },
  {
   "cell_type": "markdown",
   "id": "642ae5b4-47e0-44d5-a827-4415700c41b2",
   "metadata": {},
   "source": [
    "### 3 MRV topic & study location"
   ]
  },
  {
   "cell_type": "markdown",
   "id": "d7c7a5a3-8c41-4035-9bed-98e418856992",
   "metadata": {
    "jp-MarkdownHeadingCollapsed": true
   },
   "source": [
    "#### Figure 6: Bar chart MRV topics per continent"
   ]
  },
  {
   "cell_type": "code",
   "execution_count": null,
   "id": "bdca5b3c-8d12-428f-aa66-fc47f9e30c3e",
   "metadata": {},
   "outputs": [],
   "source": [
    "# Set the order of continents to be shown on the x-axis\n",
    "desired_order = ['Africa', 'Asia', 'Europe', 'North America', 'South America', 'Oceania', 'USA', 'China', 'Global', 'Not specified']  \n",
    "\n",
    "# Convert the Study location_continent column to a categorical type with the specified order\n",
    "df_exploded['Study location_continent'] = pd.Categorical(\n",
    "    df_exploded['Study location_continent'],\n",
    "    categories=desired_order,\n",
    "    ordered=True\n",
    ")\n",
    "\n",
    "# Group by continent and CDR method, and count occurrences\n",
    "continent_method_counts = df_exploded.groupby(['Study location_continent', 'MRV_topic'], observed=False).size().reset_index(name='Count')\n",
    "\n",
    "# Pivot the data for the stacked bar plot\n",
    "pivot_data = continent_method_counts.pivot(index='Study location_continent', columns='MRV_topic', values='Count').fillna(0)\n",
    "\n",
    "# Create a stacked bar plot\n",
    "pivot_data.plot(kind='bar', stacked=True, figsize=(12, 8), color=colors_MRV)  # Use the colors_MRV for the plot\n",
    "\n",
    "plt.title(\"MRV Methods Analyzed per Continent\")\n",
    "plt.xlabel(\"Continents\")\n",
    "plt.ylabel(\"Count of MRV topics\")\n",
    "plt.xticks(rotation=45)\n",
    "plt.legend(title=\"Grouped MRV Methods\", bbox_to_anchor=(1.05, 1), loc='upper left')\n",
    "plt.tight_layout()\n",
    "plt.show()"
   ]
  },
  {
   "cell_type": "markdown",
   "id": "dea2c3e7-61a7-4ea7-b334-e1990ba77661",
   "metadata": {},
   "source": [
    "### 4 Which MRV Topics are analyzed together?"
   ]
  },
  {
   "cell_type": "markdown",
   "id": "8e6787ca-0bc2-4ad1-a723-541a0314610d",
   "metadata": {
    "jp-MarkdownHeadingCollapsed": true
   },
   "source": [
    "#### 4.1 Data preparation"
   ]
  },
  {
   "cell_type": "code",
   "execution_count": null,
   "id": "1126c8b4-2e7a-4d6f-ad19-7e66c4e1fdb3",
   "metadata": {},
   "outputs": [],
   "source": [
    "# Group by 'Publication ID' and aggregate the unique CDR methods per publication\n",
    "grouped = df_exploded.groupby('Publication ID')['MRV_topic'].unique()\n",
    "\n",
    "# Create pairs of CDR methods for each publication, including both directions\n",
    "pairs = []\n",
    "\n",
    "for methods in grouped:\n",
    "    # Create all possible combinations of CDR methods within each publication\n",
    "    for combo in combinations(methods, 2):\n",
    "        # Add both directions of the pair\n",
    "        pairs.append(combo)  # Method 1 -> Method 2\n",
    "        pairs.append(combo[::-1])  # Method 2 -> Method 1 (reverse)\n",
    "\n",
    "# Create a DataFrame of pairs and count the occurrences\n",
    "pair_counts_MRV = pd.DataFrame(pairs, columns=['Topic 1', 'Topic 2']).value_counts().reset_index(name='Count')\n",
    "\n",
    "# Display the results\n",
    "#print(pair_counts_MRV)"
   ]
  },
  {
   "cell_type": "markdown",
   "id": "d019f22f-82c1-4f6f-98de-12d5ace90f8b",
   "metadata": {
    "jp-MarkdownHeadingCollapsed": true
   },
   "source": [
    "#### Figure 7: Network Graph for MRV topics"
   ]
  },
  {
   "cell_type": "code",
   "execution_count": null,
   "id": "79570cef-7353-4d3f-ab9b-a53986223b34",
   "metadata": {},
   "outputs": [],
   "source": [
    "# Create a graph from the pair counts\n",
    "G = nx.Graph()\n",
    "\n",
    "# Add edges to the graph, with the weight being the count of co-occurrence\n",
    "for _, row in pair_counts_MRV.iterrows():\n",
    "    G.add_edge(row['Topic 1'], row['Topic 2'], weight=row['Count'])\n",
    "\n",
    "# Extract node colors based on the color scheme\n",
    "node_colors = [mrv_topic_colors.get(node, 'skyblue') for node in G.nodes]  # Default to 'skyblue' if the method is not found\n",
    "\n",
    "# Plot the network graph\n",
    "plt.figure(figsize=(10, 8))\n",
    "\n",
    "# Use edge weights to adjust the width of the edges\n",
    "edges = G.edges(data=True)\n",
    "weights = [edge[2]['weight'] for edge in edges]\n",
    "\n",
    "# Draw the graph with nodes, edges, and labels\n",
    "pos = nx.spring_layout(G, k=0.5, seed=42)  # Positioning the nodes\n",
    "nx.draw(G, pos, with_labels=True, node_color=node_colors, node_size=2000, font_size=10, edge_color='gray', width=weights)\n",
    "\n",
    "plt.title(\"Network graph showing which MRV Topics are analyzed together\")\n",
    "plt.show()"
   ]
  },
  {
   "cell_type": "markdown",
   "id": "c53ad3ae-408c-4951-bc9c-b2221e2c0b98",
   "metadata": {
    "jp-MarkdownHeadingCollapsed": true
   },
   "source": [
    "#### Figure 8: Heatmap for MRV methods"
   ]
  },
  {
   "cell_type": "code",
   "execution_count": null,
   "id": "5f0e7680-c184-4f57-91f8-0b770bb1e27d",
   "metadata": {},
   "outputs": [],
   "source": [
    "# Group by 'Publication ID' and count the number of unique MRV topics for each publication\n",
    "grouped_mrv = df_exploded.groupby('Publication ID')['MRV_topic'].unique()\n",
    "\n",
    "# Calculate the number of publications that focus on only one MRV topic\n",
    "single_focus_counts = grouped_mrv.explode().value_counts()\n",
    "\n",
    "# Initialize the matrix of MRV co-occurrences (including both directions)\n",
    "pairs = []\n",
    "\n",
    "for topics in grouped_mrv:\n",
    "    for combo in combinations(topics, 2):\n",
    "        # Add both directions of the pair (MRV topic 1 -> MRV topic 2, and vice versa)\n",
    "        pairs.append(combo)\n",
    "        pairs.append(combo[::-1])\n",
    "\n",
    "# Create a DataFrame of pairs and count the occurrences\n",
    "pair_counts_MRV = pd.DataFrame(pairs, columns=['Topic 1', 'Topic 2']).value_counts().reset_index(name='Count')\n",
    "\n",
    "# Pivot the data to create a matrix of MRV co-occurrences\n",
    "heatmap_data = pair_counts_MRV.pivot(index='Topic 1', columns='Topic 2', values='Count').fillna(0)\n",
    "\n",
    "# Fill the diagonal with the number of studies focusing on a single MRV topic\n",
    "for topic in heatmap_data.index:\n",
    "    heatmap_data.loc[topic, topic] = single_focus_counts.get(topic, 0)\n",
    "\n",
    "# Create a heatmap with standard integer formatting for annotations\n",
    "plt.figure(figsize=(10, 8))\n",
    "sns.heatmap(heatmap_data, annot=True, cmap=\"Blues\", linewidths=.5, fmt='g')  # 'g' for general number format\n",
    "\n",
    "plt.title(\"Co-occurrence Heatmap of MRV Topics (Including Single-Focus Studies)\")\n",
    "plt.show()"
   ]
  },
  {
   "cell_type": "markdown",
   "id": "4c8a310d-4700-46a4-bf17-a1779b53aa45",
   "metadata": {
    "jp-MarkdownHeadingCollapsed": true
   },
   "source": [
    "#### 4. 2 Heatmap of MRV topics considering the focus levels"
   ]
  },
  {
   "cell_type": "code",
   "execution_count": null,
   "id": "0256ff7d-c211-4669-b9c0-3092fb3f4627",
   "metadata": {},
   "outputs": [],
   "source": [
    "# Convert the CDR_focus column to integers, converting non-numeric values to NaN\n",
    "df_exploded['MRV_focus'] = pd.to_numeric(df_exploded['MRV_focus'], errors='coerce').astype('Int64')"
   ]
  },
  {
   "cell_type": "markdown",
   "id": "028e7b65-7290-466f-b60c-fa215a49881e",
   "metadata": {
    "jp-MarkdownHeadingCollapsed": true
   },
   "source": [
    "#### Figure 9:  Heatmap for MRV topics considering main and side focus"
   ]
  },
  {
   "cell_type": "code",
   "execution_count": null,
   "id": "ae0e9f9d-4112-4ddf-bd6d-7140ca613c83",
   "metadata": {},
   "outputs": [],
   "source": [
    "# Create separate DataFrames for main focus (CDR_focus = 1) and side focus (CDR_focus = 2)\n",
    "main_focus_df_mrv = df_exploded[df_exploded['MRV_focus'] == 1][['Publication ID', 'MRV_topic']].rename(columns={'MRV_topic': 'MRV_topic_main'})\n",
    "side_focus_df_mrv = df_exploded[df_exploded['MRV_focus'] == 2][['Publication ID', 'MRV_topic']].rename(columns={'MRV_topic': 'MRV_topic_side'})\n",
    "\n",
    "# Merge the main and side focus DataFrames on 'Publication ID'\n",
    "# This merge keeps only publications that have both a main focus and a side focus\n",
    "merged_df = pd.merge(main_focus_df_mrv, side_focus_df_mrv, on='Publication ID')\n",
    "\n",
    "# Remove duplicates to ensure each publication is only counted once\n",
    "# Drop duplicate rows based on Publication ID and the CDR_method_main/CDR_method_side combination\n",
    "deduped_df = merged_df.drop_duplicates(subset=['Publication ID', 'MRV_topic_main', 'MRV_topic_side'])\n",
    "\n",
    "# Create the pivot table to show relationships between main and side focuses\n",
    "# Index represents CDR_method_main (y-axis), columns represent CDR_method_side (x-axis)\n",
    "pivot_table = deduped_df.pivot_table(index='MRV_topic_main', columns='MRV_topic_side', aggfunc='size', fill_value=0)\n",
    "\n",
    "# Display the pivot table\n",
    "#print(\"Pivot table with unique publications counted:\\n\", pivot_table)\n",
    "\n",
    "plt.figure(figsize=(10, 8))\n",
    "sns.heatmap(pivot_table, annot=True, cmap=\"Blues\", linewidths=.5)\n",
    "plt.title(\"Main Focus vs Side Focus of MRV Topic (Unique Publications)\")\n",
    "plt.xlabel(\"Side Focus (MRV_focus = 2)\")\n",
    "plt.ylabel(\"Main Focus (MRV_focus = 1)\")\n",
    "plt.xticks(rotation=45)\n",
    "plt.tight_layout()\n",
    "plt.show()"
   ]
  },
  {
   "cell_type": "markdown",
   "id": "cebb6e81-1d0c-4024-a84b-9625b8a01fbf",
   "metadata": {
    "jp-MarkdownHeadingCollapsed": true
   },
   "source": [
    "### 5 MRV topic: Quality"
   ]
  },
  {
   "cell_type": "code",
   "execution_count": null,
   "id": "97c14941-314b-4222-adda-30689a5a8aaa",
   "metadata": {},
   "outputs": [],
   "source": [
    "# Define the columns\n",
    "columns_MRV_quality = [\n",
    "    \"Durability: longevity\", \n",
    "    \"Durabilitiy: disturbance/reversal risks\", \n",
    "    \"Leakage: potential sources\", \n",
    "    \"Leakage: Detection\", \n",
    "    \"Leakage: Safeguards \", \n",
    "    \"Additionality\", \n",
    "    \"sources of uncertainty\", \n",
    "    \"uncertainty management\"\n",
    "]"
   ]
  },
  {
   "cell_type": "markdown",
   "id": "9b04d483-a9eb-45b4-941a-7a28a1f647ce",
   "metadata": {},
   "source": [
    "#### Figure 8: Quality topics per CDR method"
   ]
  },
  {
   "cell_type": "code",
   "execution_count": null,
   "id": "35e72fcb-902a-4afa-9d92-383f6ea4c993",
   "metadata": {},
   "outputs": [],
   "source": [
    "# Check if any rows in 'CDR_method' contain lists or non-string values and convert them to string\n",
    "df_included['CDR_method'] = df_included['CDR_method'].apply(lambda x: x[0] if isinstance(x, list) else x)\n",
    "\n",
    "# Convert the columns to numeric\n",
    "df_included[columns_MRV_quality] = df_included[columns_MRV_quality].apply(pd.to_numeric, errors='coerce')\n",
    "\n",
    "# Define the order for CDR methods\n",
    "# Set the order of CDR technologies to be shown in the bars\n",
    "desired_order_CDR = ['BECCS', 'DACCS', 'CCS', 'CCUS','SCS', 'A/R', 'Forest management', 'General forestry', \n",
    "                     'Restoration of landscapes and peats', 'Agroforestry', 'Biochar', 'EW', 'OAE', 'Blue carbon', 'OIF/AU',\n",
    "                     'DOC', 'Algae ', 'General CDR', 'Other']\n",
    "\n",
    "# Set 'CDR_method' as a categorical type with the specified order\n",
    "df_included['CDR_method'] = pd.Categorical(\n",
    "    df_included['CDR_method'],\n",
    "    categories=desired_order_CDR,\n",
    "    ordered=True\n",
    ")\n",
    "\n",
    "# Melt the DataFrame to have 'CDR_method' and MRV quality topics in long format\n",
    "melted_quality_df = df_included.melt(id_vars=['CDR_method'], value_vars=columns_MRV_quality, var_name='Topic', value_name='Value')\n",
    "\n",
    "# Filter to keep only the rows where Value is 1 (indicating presence of the topic)\n",
    "melted_quality_df = melted_quality_df[melted_quality_df['Value'] == 1]\n",
    "\n",
    "# Count occurrences of each MRV topic per CDR method\n",
    "count_quality_df = melted_quality_df.groupby(['Topic', 'CDR_method'], observed=False).size().unstack(fill_value=0)\n",
    "\n",
    "# Create a stacked bar plot using the defined colors for each CDR method\n",
    "count_quality_df.plot(kind='bar', stacked=True, figsize=(10, 6), width=0.7, \n",
    "              color=[custom_colors_CDR_method.get(cdr, '#cccccc') for cdr in count_quality_df.columns])\n",
    "\n",
    "# Add titles and labels\n",
    "plt.title('Number of Publications Covering MRV Quality Topics by CDR Method')\n",
    "plt.ylabel('Number of Publications')\n",
    "plt.xlabel('MRV Quality Topics')\n",
    "plt.xticks(rotation=45, ha='right')\n",
    "plt.legend(title='CDR Method', bbox_to_anchor=(1.05, 1), loc='upper left')  \n",
    "plt.tight_layout()\n",
    "plt.show()"
   ]
  },
  {
   "cell_type": "markdown",
   "id": "28ceb3ca-4557-48e2-9bcd-986ef471dbcb",
   "metadata": {},
   "source": [
    "### 6 MRV topic: Monitoring (Duration & Frequency)\n"
   ]
  },
  {
   "cell_type": "markdown",
   "id": "de64cec0-f09d-4e65-9a25-67740bda56ff",
   "metadata": {
    "jp-MarkdownHeadingCollapsed": true
   },
   "source": [
    "#### 6.1 sorted by CDR technology"
   ]
  },
  {
   "cell_type": "code",
   "execution_count": null,
   "id": "e6c0ff8d-ef9a-4b00-8af0-745f06ecbece",
   "metadata": {},
   "outputs": [],
   "source": [
    "# Define the columns \n",
    "columns_monitoring = [\"Duration \", \"Frequency \"]"
   ]
  },
  {
   "cell_type": "markdown",
   "id": "8322ca39-bd9e-445f-a9f6-e14255ccc749",
   "metadata": {
    "jp-MarkdownHeadingCollapsed": true
   },
   "source": [
    "#### Figure: Duration and Frequency of Monitoring sorted by CDR technology (with two different df --> discuss implications) --> Leon"
   ]
  },
  {
   "cell_type": "code",
   "execution_count": null,
   "id": "8d828313-741e-4fe5-9a86-6681cb24ed33",
   "metadata": {},
   "outputs": [],
   "source": [
    "# Convert the columns to numeric, coercing errors\n",
    "df_exploded[columns_monitoring] = df_exploded[columns_monitoring].apply(pd.to_numeric, errors='coerce')\n",
    "\n",
    "desired_order_CDR = ['BECCS', 'DACCS', 'CCS', 'CCUS','SCS', 'A/R', 'Forest management', 'General forestry', \n",
    "                     'Restoration of landscapes and peats', 'Agroforestry', 'Biochar', 'EW', 'OAE', 'Blue carbon', 'OIF/AU',\n",
    "                     'DOC', 'Algae ', 'General CDR', 'Other']\n",
    "\n",
    "# Convert the Study location_continent column to a categorical type with the specified order\n",
    "df_exploded['CDR_method'] = pd.Categorical(\n",
    "    df_exploded['CDR_method'],\n",
    "    categories=desired_order_CDR,\n",
    "    ordered=True\n",
    ")\n",
    "\n",
    "# Melt the DataFrame to have 'CDR_method' and 'Topic' in long format\n",
    "melted_df = df_exploded.melt(id_vars=['CDR_method'], value_vars=columns_monitoring, var_name='Topic', value_name='Value')\n",
    "\n",
    "# Filter to keep only the rows where Value is 1 (indicating presence of the topic)\n",
    "melted_df = melted_df[melted_df['Value'] == 1]\n",
    "\n",
    "# Create a count of publications per topic and CDR_method\n",
    "count_df = melted_df.groupby(['Topic', 'CDR_method'], observed=False).size().unstack(fill_value=0)\n",
    "\n",
    "# Create a stacked bar plot\n",
    "count_df.plot(kind='bar', stacked=True, figsize=(8, 6), width=0.5, color=custom_colors_CDR_method)  # Use a color map of your choice\n",
    "\n",
    "# Add titles and labels\n",
    "plt.title('Information on Duration and Frequency of Monitoring by CDR Technology')\n",
    "plt.ylabel('Count')\n",
    "plt.xlabel('Monitoring Topics')\n",
    "plt.xticks(rotation=45, ha='right')\n",
    "plt.tight_layout()\n",
    "plt.legend(title='CDR Technology', bbox_to_anchor=(1.05, 1), loc='upper left')  \n",
    "plt.show()"
   ]
  },
  {
   "cell_type": "code",
   "execution_count": null,
   "id": "11e159bb-1c04-4855-8336-b339a4d8c890",
   "metadata": {},
   "outputs": [],
   "source": [
    "# why are there ~10 appearances of OIF if there are only 5 documents discussing OIF?"
   ]
  },
  {
   "cell_type": "code",
   "execution_count": null,
   "id": "d466277d-ebea-41b5-bfb9-988ab2a2ed1c",
   "metadata": {},
   "outputs": [],
   "source": [
    "# approach to fix this: Using data set that only exploded CDR technologies, not MRV topics --> do we have to fix other parts of the analysis?"
   ]
  },
  {
   "cell_type": "code",
   "execution_count": null,
   "id": "db38c314-f983-4254-a1ab-e52b45e66062",
   "metadata": {},
   "outputs": [],
   "source": [
    "# Convert the columns to numeric, coercing errors\n",
    "df_CDRexplode[columns_monitoring] = df_CDRexplode[columns_monitoring].apply(pd.to_numeric, errors='coerce')\n",
    "\n",
    "desired_order_CDR = ['BECCS', 'DACCS', 'CCS', 'CCUS','SCS', 'A/R', 'Forest management', 'General forestry', \n",
    "                     'Restoration of landscapes and peats', 'Agroforestry', 'Biochar', 'EW', 'OAE', 'Blue carbon', 'OIF/AU',\n",
    "                     'DOC', 'Algae ', 'General CDR', 'Other']\n",
    "\n",
    "# Convert the Study location_continent column to a categorical type with the specified order\n",
    "df_CDRexplode['CDR_method'] = pd.Categorical(\n",
    "    df_CDRexplode['CDR_method'],\n",
    "    categories=desired_order_CDR,\n",
    "    ordered=True\n",
    ")\n",
    "\n",
    "# Melt the DataFrame to have 'CDR_method' and 'Topic' in long format\n",
    "melted_df = df_CDRexplode.melt(id_vars=['CDR_method'], value_vars=columns_monitoring, var_name='Topic', value_name='Value')\n",
    "\n",
    "# Filter to keep only the rows where Value is 1 (indicating presence of the topic)\n",
    "melted_df = melted_df[melted_df['Value'] == 1]\n",
    "\n",
    "# Create a count of publications per topic and CDR_method\n",
    "count_df = melted_df.groupby(['Topic', 'CDR_method'], observed=False).size().unstack(fill_value=0)\n",
    "\n",
    "# Create a stacked bar plot\n",
    "count_df.plot(kind='bar', stacked=True, figsize=(8, 6), width=0.5, color=custom_colors_CDR_method)  # Use a color map of your choice\n",
    "\n",
    "# Add titles and labels\n",
    "plt.title('Information on Duration and Frequency of Monitoring by CDR Technology')\n",
    "plt.ylabel('Count')\n",
    "plt.xlabel('Monitoring Topics')\n",
    "plt.xticks(rotation=45, ha='right')\n",
    "plt.tight_layout()\n",
    "plt.legend(title='CDR Technology', bbox_to_anchor=(1.05, 1), loc='upper left')  \n",
    "plt.show()"
   ]
  },
  {
   "cell_type": "markdown",
   "id": "9f17d85c-e5eb-4224-b5f8-ce9173d70c84",
   "metadata": {},
   "source": [
    "#### 6.2 sorted by CDR group"
   ]
  },
  {
   "cell_type": "code",
   "execution_count": null,
   "id": "a6cc5890-da55-4407-8c2f-e5d761e75c2d",
   "metadata": {},
   "outputs": [],
   "source": [
    "# Create a new column ‘CDR_group’ in df_exploded based on the ‘CDR_method’ column\n",
    "df_CDRexplode['CDR_group'] = df_CDRexplode['CDR_method'].map(cdr_group_mapping)\n",
    "\n",
    "# Display the updated DataFrame\n",
    "#pd.options.display.max_columns = None  # Show all columns\n",
    "#display(df_CDRexplode)"
   ]
  },
  {
   "cell_type": "markdown",
   "id": "40959377-96db-4285-892c-8cd2d4dc1bdc",
   "metadata": {
    "jp-MarkdownHeadingCollapsed": true
   },
   "source": [
    "#### Figure: Duration and Frequency of Monitoring sorted by CDR group"
   ]
  },
  {
   "cell_type": "code",
   "execution_count": null,
   "id": "f3ce5020-3641-42e6-bb35-2a3a34ac4ce0",
   "metadata": {},
   "outputs": [],
   "source": [
    "# Convert the columns to numeric, coercing errors\n",
    "df_CDRexplode[columns_monitoring] = df_CDRexplode[columns_monitoring].apply(pd.to_numeric, errors='coerce')\n",
    "\n",
    "# Melt the DataFrame to have 'CDR_method' and 'Topic' in long format\n",
    "melted_df = df_CDRexplode.melt(id_vars=['CDR_group'], value_vars=columns_monitoring, var_name='Topic', value_name='Value')\n",
    "\n",
    "# Filter to keep only the rows where Value is 1 (indicating presence of the topic)\n",
    "melted_df = melted_df[melted_df['Value'] == 1]\n",
    "\n",
    "# Create a count of publications per topic and CDR_method\n",
    "count_df = melted_df.groupby(['Topic', 'CDR_group'], observed=False).size().unstack(fill_value=0)\n",
    "\n",
    "# Create a stacked bar plot\n",
    "count_df.plot(kind='bar', stacked=True, figsize=(8, 6), width=0.5, color=cdr_group_colors)  # Use a color map of your choice\n",
    "\n",
    "# Add titles and labels\n",
    "plt.title('Information on Duration and Frequency of Monitoring by grouped CDR groups')\n",
    "plt.ylabel('Count')\n",
    "plt.xlabel('Monitoring Topics')\n",
    "plt.xticks(rotation=45, ha='right')\n",
    "plt.tight_layout()\n",
    "plt.legend(title='Grouped CDR groups', bbox_to_anchor=(1.05, 1), loc='upper left')  \n",
    "plt.show()"
   ]
  },
  {
   "cell_type": "markdown",
   "id": "1639e81f-3c1d-46e5-b19d-7d9c5dc59f1c",
   "metadata": {
    "jp-MarkdownHeadingCollapsed": true
   },
   "source": [
    "#### 6.3 Percentage (error) --> I don't know to which figure this belongs. Is it still relevant? --> Leon"
   ]
  },
  {
   "cell_type": "code",
   "execution_count": null,
   "id": "180e6ccf-d67e-46f3-821f-5bf0e8296050",
   "metadata": {},
   "outputs": [],
   "source": [
    "# Convert the columns to numeric \n",
    "df_CDRexplode[columns_monitoring] = df_CDRexplode[columns_monitoring].apply(pd.to_numeric, errors='coerce')\n",
    "\n",
    "# Melt the DataFrame to have 'CDR_method' and 'Topic' in long format\n",
    "melted_df = df_CDRexplode.melt(id_vars=['CDR_group'], value_vars=columns_monitoring, var_name='Topic', value_name='Value')\n",
    "\n",
    "# Count how many publications mention each topic (sum the values for each column)\n",
    "topic_monitoring = df_CDRexplode[columns_monitoring].sum()\n",
    "\n",
    "# Calculate the total number of publications (this assumes you have a specific column that indicates publications)\n",
    "total_publications = df_included['Publication ID'].nunique()  # or use another column for total count if needed\n",
    "\n",
    "# Calculate the percentage for each topic\n",
    "monitoring_percentage = (topic_monitoring / total_publications) * 100  # multiply by 100 to get percentage\n",
    "\n",
    "# Create a bar plot to visualize the counts\n",
    "plt.figure(figsize=(10, 6))\n",
    "bars = plt.bar(monitoring_percentage['Topic'], monitoring_percentage['Percentage'], color='skyblue')\n",
    "plt.title('Percentage of Publications Covering Quality Topics')\n",
    "plt.ylabel('Share of Publications (%)')\n",
    "plt.ylim(0, 100)\n",
    "plt.xlabel('Topics')\n",
    "plt.xticks(rotation=45, ha='right')\n",
    "\n",
    "# Add percentage labels at the end of each bar\n",
    "for bar in bars:\n",
    "    yval = bar.get_height()\n",
    "    plt.text(bar.get_x() + bar.get_width() / 2, yval + 1, f\"{yval:.1f}%\", ha='center', va='bottom')\n",
    "\n",
    "plt.tight_layout()\n",
    "plt.show()"
   ]
  },
  {
   "cell_type": "markdown",
   "id": "cd3ede94-d62a-48b6-9d9d-9676b85ecc4a",
   "metadata": {
    "jp-MarkdownHeadingCollapsed": true
   },
   "source": [
    "#### 6.4 Analysis of quantitative data of Frequency & Duration"
   ]
  },
  {
   "cell_type": "code",
   "execution_count": null,
   "id": "36815ab3-c8d8-4708-9920-5098dd7b646b",
   "metadata": {},
   "outputs": [],
   "source": [
    "# Define the columns \n",
    "columns_monitoring = [\"Duration text\", \"Frequency text\"] \n",
    "\n",
    "df_CDRexplode[['Duration text', 'Frequency text']] = df_CDRexplode[['Duration text', 'Frequency text']].astype(str)\n",
    "\n",
    "# Filter the rows where both columns don't have \"0\" simultaneously\n",
    "df_CDRexplode_filtered = df_CDRexplode[~((df_CDRexplode['Duration text'] == '0') & (df_CDRexplode['Frequency text'] == '0'))]\n",
    "\n",
    "#df_CDRexplode_filtered"
   ]
  },
  {
   "cell_type": "code",
   "execution_count": null,
   "id": "7708d897-3c98-4f8d-bc44-3ea7b3c2e3b2",
   "metadata": {},
   "outputs": [],
   "source": [
    "# Filter to keep only relevant columns\n",
    "df_CDRexplode_filtered = df_CDRexplode[['CDR_group', 'CDR_method', 'Duration text', 'Frequency text', 'Primary research method']]\n",
    "\n",
    "# Filter out rows where both 'Duration text' and 'Frequency text' are '0'\n",
    "df_CDRexplode_filtered = df_CDRexplode_filtered[\n",
    "    ~((df_CDRexplode_filtered['Duration text'] == '0') & (df_CDRexplode_filtered['Frequency text'] == '0'))\n",
    "]\n",
    "\n",
    "# Replace any 'nan' with an empty string if needed\n",
    "#df_CDRexplode_filtered.fillna('', inplace=True)\n",
    "\n",
    "# Replace 0 with 'no information' in the DataFrame\n",
    "df_CDRexplode_filtered.replace('0', 'no information', inplace=True)"
   ]
  },
  {
   "cell_type": "markdown",
   "id": "eedcea63-60e6-4fd7-88cd-15e5da979b60",
   "metadata": {
    "jp-MarkdownHeadingCollapsed": true
   },
   "source": [
    "#### Figur: Overview table of quantitative data related to frquency and duration of monitoring"
   ]
  },
  {
   "cell_type": "code",
   "execution_count": null,
   "id": "882cd4ea-58b6-4e3e-8c24-507dd6d95f80",
   "metadata": {},
   "outputs": [],
   "source": [
    "# Create the figure and axis\n",
    "fig, ax = plt.subplots(figsize=(16, 8))  # Increase figure size for better readability\n",
    "\n",
    "# Hide axes\n",
    "ax.xaxis.set_visible(False)\n",
    "ax.yaxis.set_visible(False)\n",
    "ax.set_frame_on(False)\n",
    "\n",
    "# Create the table\n",
    "table = ax.table(cellText=df_CDRexplode_filtered.values,\n",
    "                 colLabels=df_CDRexplode_filtered.columns,\n",
    "                 cellLoc='center',\n",
    "                 loc='center')\n",
    "\n",
    "# Adjust table settings for readability\n",
    "table.auto_set_font_size(False)\n",
    "table.set_fontsize(9) \n",
    "table.scale(2, 2) \n",
    "\n",
    "# Customize the header (light grey fill and large font)\n",
    "for (i, j), cell in table.get_celld().items():\n",
    "    if i == 0:  # Header row\n",
    "        cell.set_fontsize(11) \n",
    "        cell.set_text_props(weight='bold')  \n",
    "        cell.set_facecolor('#D3D3D3') \n",
    "\n",
    "# Customize the header (light grey fill and large font)\n",
    "for (i, j), cell in table.get_celld().items():\n",
    "    if i == 25:  # Header row\n",
    "        cell.set_fontsize(8) \n",
    "        cell.set_height(0.1)\n",
    "\n",
    "# Set tight layout to prevent clipping\n",
    "plt.tight_layout()\n",
    "\n",
    "# Show the table\n",
    "plt.show()"
   ]
  },
  {
   "cell_type": "code",
   "execution_count": null,
   "id": "48236115-0830-4d77-8fe5-233720838c96",
   "metadata": {},
   "outputs": [],
   "source": [
    "# table is further adjusted in Excel (problem with table creation in python)"
   ]
  },
  {
   "cell_type": "code",
   "execution_count": null,
   "id": "4d51b387-d5ea-4b64-9df4-fb4a5d34ba8b",
   "metadata": {},
   "outputs": [],
   "source": [
    "#df_CDRexplode_filtered"
   ]
  },
  {
   "cell_type": "markdown",
   "id": "15291eb6-ba4f-4a9d-87b6-15d1250bc0ff",
   "metadata": {
    "jp-MarkdownHeadingCollapsed": true
   },
   "source": [
    "### 7 MRV topic: Uncertainties"
   ]
  },
  {
   "cell_type": "code",
   "execution_count": null,
   "id": "616a1f4a-5277-4571-b886-d7edb9be7609",
   "metadata": {},
   "outputs": [],
   "source": [
    "# Define the columns \n",
    "columns_uncertainty = [\"sources of uncertainty\", \"uncertainty management\"]  # Ensure these names match exactly with your DataFrame"
   ]
  },
  {
   "cell_type": "markdown",
   "id": "f36ad1f6-4baa-4aab-a26d-baf99955828c",
   "metadata": {},
   "source": [
    "#### Figure: Uncertainty and Uncertainty Management by CDR Technology"
   ]
  },
  {
   "cell_type": "code",
   "execution_count": null,
   "id": "1ffe09f4-9cec-4238-b0a4-d0f0b968335a",
   "metadata": {},
   "outputs": [],
   "source": [
    "# Convert the columns to numeric, coercing errors\n",
    "df_exploded[columns_uncertainty] = df_exploded[columns_uncertainty].apply(pd.to_numeric, errors='coerce')\n",
    "\n",
    "desired_order_CDR = ['BECCS', 'DACCS', 'CCS', 'CCUS','SCS', 'A/R', 'Forest management', 'General forestry', \n",
    "                     'Restoration of landscapes and peats', 'Agroforestry', 'Biochar', 'EW', 'OAE', 'Blue carbon', 'OIF/AU',\n",
    "                     'DOC', 'Algae ', 'General CDR', 'Other']\n",
    "\n",
    "# Convert the Study location_continent column to a categorical type with the specified order\n",
    "df_exploded['CDR_method'] = pd.Categorical(\n",
    "    df_exploded['CDR_method'],\n",
    "    categories=desired_order_CDR,\n",
    "    ordered=True\n",
    ")\n",
    "\n",
    "# Melt the DataFrame to have 'CDR_method' and 'Topic' in long format\n",
    "melted_df = df_exploded.melt(id_vars=['CDR_method'], value_vars=columns_uncertainty, var_name='Topic', value_name='Value')\n",
    "\n",
    "# Filter to keep only the rows where Value is 1 (indicating presence of the topic)\n",
    "melted_df = melted_df[melted_df['Value'] == 1]\n",
    "\n",
    "# Create a count of publications per topic and CDR_method\n",
    "count_df = melted_df.groupby(['Topic', 'CDR_method'], observed=False).size().unstack(fill_value=0)\n",
    "\n",
    "# Create a stacked bar plot\n",
    "count_df.plot(kind='bar', stacked=True, figsize=(8, 6), width=0.5, color=custom_colors_CDR_method)  # Use a color map of your choice\n",
    "\n",
    "# Add titles and labels\n",
    "plt.title('Information on Uncertainty and Uncertainty Management by CDR Technology')\n",
    "plt.ylabel('Count')\n",
    "plt.xlabel('Uncertainty Topics')\n",
    "plt.xticks(rotation=45, ha='right')\n",
    "plt.tight_layout()\n",
    "plt.legend(title='CDR Technology', bbox_to_anchor=(1.05, 1), loc='upper left')  \n",
    "plt.show()"
   ]
  },
  {
   "cell_type": "markdown",
   "id": "ed0f38b5-873f-4975-93da-a5a043452c23",
   "metadata": {
    "jp-MarkdownHeadingCollapsed": true
   },
   "source": [
    "#### Figure: Uncertainty and Uncertainty Management by CDR groups"
   ]
  },
  {
   "cell_type": "code",
   "execution_count": null,
   "id": "7cd78d75-1021-4b7e-8f75-3d2b02f0b5ff",
   "metadata": {},
   "outputs": [],
   "source": [
    "# Convert the columns to numeric, coercing errors\n",
    "df_exploded[columns_uncertainty] = df_exploded[columns_uncertainty].apply(pd.to_numeric, errors='coerce')\n",
    "\n",
    "# Convert the Study location_continent column to a categorical type with the specified order\n",
    "df_exploded['CDR_group'] = pd.Categorical(\n",
    "    df_exploded['CDR_group'],\n",
    "    ordered=True\n",
    ")\n",
    "\n",
    "# Melt the DataFrame to have 'CDR_method' and 'Topic' in long format\n",
    "melted_df = df_exploded.melt(id_vars=['CDR_group'], value_vars=columns_uncertainty, var_name='Topic', value_name='Value')\n",
    "\n",
    "# Filter to keep only the rows where Value is 1 (indicating presence of the topic)\n",
    "melted_df = melted_df[melted_df['Value'] == 1]\n",
    "\n",
    "# Create a count of publications per topic and CDR_method\n",
    "count_df = melted_df.groupby(['Topic', 'CDR_group'], observed=False).size().unstack(fill_value=0)\n",
    "\n",
    "# Create a stacked bar plot\n",
    "count_df.plot(kind='bar', stacked=True, figsize=(8, 6), width=0.5, color=cdr_group_colors)  # Use a color map of your choice\n",
    "\n",
    "# Add titles and labels\n",
    "plt.title('Information on Uncertainty and Uncertainty Management grouped CDR groups')\n",
    "plt.ylabel('Count')\n",
    "plt.xlabel('Uncertainty Topics')\n",
    "plt.xticks(rotation=45, ha='right')\n",
    "plt.tight_layout()\n",
    "plt.legend(title='Grouped CDR Technology', bbox_to_anchor=(1.05, 1), loc='upper left')  \n",
    "plt.show()"
   ]
  },
  {
   "cell_type": "markdown",
   "id": "ec01e255-00e7-4aa4-b6b1-dd92efad7f99",
   "metadata": {
    "jp-MarkdownHeadingCollapsed": true
   },
   "source": [
    "#### Figure: Information on Uncertainty for each CDR method"
   ]
  },
  {
   "cell_type": "code",
   "execution_count": null,
   "id": "0f79daab-c2d8-4c94-87d8-261a7fd34e04",
   "metadata": {},
   "outputs": [],
   "source": [
    "# Calculate the total number of publications per CDR technology\n",
    "total_per_tech = df_CDRexplode.groupby(\"CDR_method\", observed=False)[\"Publication ID\"].nunique()\n",
    "\n",
    "# Calculate the number of publications that contain information on each uncertainty topic\n",
    "uncertainty_counts = df_CDRexplode[df_CDRexplode[columns_uncertainty].notna().any(axis=1)].groupby(\"CDR_method\", observed=False)[columns_uncertainty].sum()\n",
    "\n",
    "# Combine both uncertainty counts and the total counts\n",
    "uncertainty_df = pd.concat([uncertainty_counts, total_per_tech], axis=1, sort=False)\n",
    "uncertainty_df.columns = columns_uncertainty + [\"Total Papers\"]\n",
    "\n",
    "# Set up for grouped bar plot\n",
    "bar_width = 0.25  # Width of each bar\n",
    "x = np.arange(len(uncertainty_df.index))  # Define positions for CDR methods\n",
    "\n",
    "# Plot the bars for each topic separately\n",
    "fig, ax = plt.subplots(figsize=(14, 7))\n",
    "\n",
    "# Bar positions for each category\n",
    "bar1 = ax.bar(x - bar_width, uncertainty_df[\"sources of uncertainty\"], width=bar_width, color='skyblue', label='Sources of Uncertainty')\n",
    "bar2 = ax.bar(x, uncertainty_df[\"uncertainty management\"], width=bar_width, color='#104E8B', label='Uncertainty Management')\n",
    "bar3 = ax.bar(x + bar_width, uncertainty_df[\"Total Papers\"], width=bar_width, color='lightgray', label='Total Papers')\n",
    "\n",
    "# Add data labels to the bars\n",
    "for bar in [bar1, bar2, bar3]:\n",
    "    for rect in bar:\n",
    "        height = rect.get_height()\n",
    "        ax.text(rect.get_x() + rect.get_width() / 2, height + 1, f'{int(height)}', ha='center', va='bottom', fontsize=10)\n",
    "\n",
    "# Set x-ticks and labels\n",
    "ax.set_xticks(x)\n",
    "ax.set_xticklabels(uncertainty_df.index, rotation=90, ha='right')\n",
    "\n",
    "# Set plot labels and title\n",
    "ax.set_xlabel('CDR Method')\n",
    "ax.set_ylabel('Count')\n",
    "ax.set_title('Information on Sources of Uncertainty and Uncertainty Management')\n",
    "plt.legend(title='Information Type', bbox_to_anchor=(1.05, 1), loc='upper left')\n",
    "plt.tight_layout()\n",
    "plt.show()"
   ]
  },
  {
   "cell_type": "code",
   "execution_count": null,
   "id": "10ba47a5-ccc1-4db3-b668-d709be8d817e",
   "metadata": {},
   "outputs": [],
   "source": []
  },
  {
   "cell_type": "markdown",
   "id": "f1a9c62d-c897-458e-b6eb-d0ebc3b1ed0d",
   "metadata": {},
   "source": [
    "#### Figure: Table Uncertainty and Uncertainty Management by CDR Technology and Primary Resaerch Method"
   ]
  },
  {
   "cell_type": "code",
   "execution_count": null,
   "id": "2ca98feb-d5c3-4118-82f4-063acbd9524e",
   "metadata": {},
   "outputs": [],
   "source": [
    "# Filter the rows where either 'sources of uncertainty' or 'uncertainty management' is equal to 1\n",
    "df_uncertainty_table = df_CDRexplode[\n",
    "    (df_CDRexplode['sources of uncertainty'] == 1) | (df_CDRexplode['uncertainty management'] == 1)\n",
    "][['CDR_method', 'sources of uncertainty', 'uncertainty management', 'Primary research method']]\n",
    "\n",
    "# Create a pivot table to combine unique combinations and indicate if uncertainty was mentioned\n",
    "pivot_table = df_uncertainty_table.pivot_table(\n",
    "    index=['CDR_method', 'Primary research method'],  # Group by CDR method and Primary research method\n",
    "    values=['sources of uncertainty', 'uncertainty management'],  # Values to aggregate\n",
    "    aggfunc='max',  # Use max to indicate whether uncertainty or uncertainty management was mentioned\n",
    "    fill_value=0,  # Replace NaN with 0\n",
    "    observed=False,  # To match the observed behavior (avoid FutureWarning)\n",
    ").reset_index()\n",
    "\n",
    "# Add a count column to indicate how many studies are associated with each combination\n",
    "count_df = df_uncertainty_table.groupby(['CDR_method', 'Primary research method']).size().reset_index(name='count')\n",
    "\n",
    "# Merge the count column into the pivot table\n",
    "pivot_table = pivot_table.merge(count_df, on=['CDR_method', 'Primary research method'], how='left')\n",
    "\n",
    "# Create the figure and axis for the table\n",
    "fig, ax = plt.subplots(figsize=(14, 8))  # Adjust the figure size for readability\n",
    "\n",
    "# Hide axes\n",
    "ax.xaxis.set_visible(False)\n",
    "ax.yaxis.set_visible(False)\n",
    "ax.set_frame_on(False)\n",
    "\n",
    "# Create the table with the pivoted data\n",
    "table = ax.table(cellText=pivot_table.values,\n",
    "                 colLabels=pivot_table.columns,\n",
    "                 cellLoc='center',\n",
    "                 loc='center')\n",
    "\n",
    "# Adjust table settings for readability\n",
    "table.auto_set_font_size(False)\n",
    "table.set_fontsize(9)\n",
    "table.scale(1.5, 1.5)  # Adjust scale for wider columns\n",
    "\n",
    "# Customize the header with light grey fill and larger font\n",
    "for (i, j), cell in table.get_celld().items():\n",
    "    if i == 0:  # Header row\n",
    "        cell.set_fontsize(11)\n",
    "        cell.set_text_props(weight='bold')\n",
    "        cell.set_facecolor('#D3D3D3')  # Light grey background for headers\n",
    "\n",
    "# Set tight layout to prevent clipping\n",
    "plt.tight_layout()\n",
    "\n",
    "# Show the table\n",
    "plt.show()"
   ]
  }
 ],
 "metadata": {
  "kernelspec": {
   "display_name": "Python 3 (ipykernel)",
   "language": "python",
   "name": "python3"
  },
  "language_info": {
   "codemirror_mode": {
    "name": "ipython",
    "version": 3
   },
   "file_extension": ".py",
   "mimetype": "text/x-python",
   "name": "python",
   "nbconvert_exporter": "python",
   "pygments_lexer": "ipython3",
   "version": "3.8.10"
  }
 },
 "nbformat": 4,
 "nbformat_minor": 5
}
