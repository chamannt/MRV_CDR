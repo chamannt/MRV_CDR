{
 "cells": [
  {
   "cell_type": "markdown",
   "id": "d1510fca-79a4-477d-b2d0-bcda82db9b5a",
   "metadata": {
    "jp-MarkdownHeadingCollapsed": true
   },
   "source": [
    "# Tools"
   ]
  },
  {
   "cell_type": "code",
   "execution_count": null,
   "id": "48e52d6b-ed0c-4fad-b0dd-5dfb4b5ad2bb",
   "metadata": {},
   "outputs": [],
   "source": [
    "import pandas as pd"
   ]
  },
  {
   "cell_type": "code",
   "execution_count": null,
   "id": "de25106c-3b3a-455e-ac90-e3f912e43444",
   "metadata": {},
   "outputs": [],
   "source": [
    "from IPython.display import display"
   ]
  },
  {
   "cell_type": "code",
   "execution_count": null,
   "id": "d36d0d43-e747-48c2-9607-d9864137992c",
   "metadata": {},
   "outputs": [],
   "source": [
    "import matplotlib.pyplot as plt"
   ]
  },
  {
   "cell_type": "code",
   "execution_count": null,
   "id": "1f0f20fc-e542-43bb-9cb9-1a6d947d0fd7",
   "metadata": {},
   "outputs": [],
   "source": [
    "import numpy as np"
   ]
  },
  {
   "cell_type": "code",
   "execution_count": null,
   "id": "778367ac-7f24-401d-b987-4f6436610bc2",
   "metadata": {},
   "outputs": [],
   "source": [
    "from matplotlib import cm"
   ]
  },
  {
   "cell_type": "code",
   "execution_count": null,
   "id": "60c77d00-06fd-43cd-b563-882a2ec66302",
   "metadata": {},
   "outputs": [],
   "source": [
    "from itertools import combinations"
   ]
  },
  {
   "cell_type": "code",
   "execution_count": null,
   "id": "f8efe797-12c4-4915-bc38-5804094234ea",
   "metadata": {},
   "outputs": [],
   "source": [
    "from matplotlib import colormaps"
   ]
  },
  {
   "cell_type": "code",
   "execution_count": null,
   "id": "b68c030b-d491-4c23-88ef-807f8773d5f0",
   "metadata": {},
   "outputs": [],
   "source": [
    "import networkx as nx"
   ]
  },
  {
   "cell_type": "code",
   "execution_count": null,
   "id": "90539404-3001-4123-a633-2415e3682c2b",
   "metadata": {},
   "outputs": [],
   "source": [
    "import matplotlib.pyplot as plt"
   ]
  },
  {
   "cell_type": "code",
   "execution_count": null,
   "id": "1c5a9481-806b-4822-b83d-382705c21470",
   "metadata": {},
   "outputs": [],
   "source": [
    "import plotly.graph_objects as go"
   ]
  },
  {
   "cell_type": "code",
   "execution_count": null,
   "id": "702bfb5f-1d9e-4e81-a7a8-f457f173df0e",
   "metadata": {},
   "outputs": [],
   "source": [
    "import seaborn as sns"
   ]
  },
  {
   "cell_type": "markdown",
   "id": "0faf04d9-42de-43d7-a41c-b91abd864826",
   "metadata": {},
   "source": [
    "# Analysis Sample description"
   ]
  },
  {
   "cell_type": "markdown",
   "id": "87513c0b-b1ad-4fc6-bfcb-52a72b1347e4",
   "metadata": {
    "jp-MarkdownHeadingCollapsed": true
   },
   "source": [
    "### 1 Import, view and exclude data"
   ]
  },
  {
   "cell_type": "markdown",
   "id": "ef010a8d-1932-4a72-a71c-ecc181aef982",
   "metadata": {
    "jp-MarkdownHeadingCollapsed": true
   },
   "source": [
    "#### 1.1 Import data"
   ]
  },
  {
   "cell_type": "code",
   "execution_count": null,
   "id": "a93d80c8-2a9d-440a-9bd8-7633bd47b837",
   "metadata": {},
   "outputs": [],
   "source": [
    "df = pd.read_excel(\"MRVdata_0810.xlsx\")\n",
    "pd.options.display.max_columns = None\n",
    "#display(df)\n",
    "#code above: shows excel table"
   ]
  },
  {
   "cell_type": "markdown",
   "id": "1bbf1ce4-4ef2-4249-838f-4e1b75b08882",
   "metadata": {
    "jp-MarkdownHeadingCollapsed": true
   },
   "source": [
    "#### 1.2 Overview of data"
   ]
  },
  {
   "cell_type": "code",
   "execution_count": null,
   "id": "c54713dc-f28f-4a5c-a907-64b4291d4e11",
   "metadata": {},
   "outputs": [],
   "source": [
    "df['Inclusion/exclusion'].value_counts() \n",
    "#--> 205 studies included, 180 excluded, 14 no access"
   ]
  },
  {
   "cell_type": "markdown",
   "id": "979614d9-7b45-42e2-bff2-5b432abb2d05",
   "metadata": {
    "jp-MarkdownHeadingCollapsed": true
   },
   "source": [
    "#### 1.3 Exclude data"
   ]
  },
  {
   "cell_type": "code",
   "execution_count": null,
   "id": "155f9b38-e16d-4259-a36c-d635f14f9635",
   "metadata": {},
   "outputs": [],
   "source": [
    "# filter data frame to exclude studies from 2024\n",
    "df_filtered = df[df['Year'] != 2024]"
   ]
  },
  {
   "cell_type": "code",
   "execution_count": null,
   "id": "f1977f7d-47c1-472f-b226-8544bac0aac2",
   "metadata": {},
   "outputs": [],
   "source": [
    "df_included = df_filtered[df_filtered['Inclusion/exclusion'] == 'Inclusion'] # new dataframe defined to exclude studies without access or excluded papers\n",
    "df_included['Inclusion/exclusion'].value_counts()\n",
    "#code above: controll new data frame"
   ]
  },
  {
   "cell_type": "markdown",
   "id": "1230f9ea-9041-409c-aff7-21c43d3be3e6",
   "metadata": {
    "jp-MarkdownHeadingCollapsed": true
   },
   "source": [
    "### 2 Study location"
   ]
  },
  {
   "cell_type": "markdown",
   "id": "73e951e8-6762-4657-a05c-be7ae050277a",
   "metadata": {
    "jp-MarkdownHeadingCollapsed": true
   },
   "source": [
    "#### 2.1 Overview of included study locations"
   ]
  },
  {
   "cell_type": "code",
   "execution_count": null,
   "id": "d17d3ddd-7dd7-479c-88b8-de6a5ae70822",
   "metadata": {},
   "outputs": [],
   "source": [
    "df_included['Study location'].value_counts()\n",
    "#Results: most common study locations are not specified, multiple countries, US, China and Australia"
   ]
  },
  {
   "cell_type": "code",
   "execution_count": null,
   "id": "ca405ec1-fd50-4bf3-a808-231cf91f05f9",
   "metadata": {},
   "outputs": [],
   "source": [
    "df_included['Study location: specification'].value_counts()\n",
    "# Result: No specific pattern visible at first glance. Often neighbouring countries or definitions of maritime regions"
   ]
  },
  {
   "cell_type": "markdown",
   "id": "a8bab5a8-24dd-4da9-8024-d2bb69d6789c",
   "metadata": {
    "jp-MarkdownHeadingCollapsed": true
   },
   "source": [
    "#### 2.2 Grouping of study location"
   ]
  },
  {
   "cell_type": "code",
   "execution_count": null,
   "id": "5d9c0773-ad05-4fa6-a56e-97d92fedd87a",
   "metadata": {},
   "outputs": [],
   "source": [
    "# read excel file with continent data \n",
    "continent_data = pd.read_excel('continents.xlsx')\n",
    "\n",
    "# create a dictionary for the assignment of countries to continents\n",
    "country_to_continent = dict(zip(continent_data['Country'], continent_data['Continent']))\n",
    "\n",
    "# Function to determine the continent based on the country\n",
    "def get_continent(study_location, continent_column): #part of the function, not column names of the df; will be defined later when function is applied\n",
    "    if pd.isna(study_location):\n",
    "        return \"Not specified\"\n",
    "    if study_location == \"Multiple countries\":\n",
    "        return continent_column  # uses the manually definied continents for the category \"Multiple countries\"\n",
    "    return country_to_continent.get(study_location.strip(), \"Not specified\")  # Search for the country in the dictionary and return the continent or 'not specified'\n",
    "\n",
    "# avoid warning\n",
    "df_included = df_included.copy()\n",
    "\n",
    "# apply function to df_included\n",
    "df_included['Study location_continent'] = df_included.apply(\n",
    "    lambda row: get_continent(row['Study location'], row['Study location: Continent']),\n",
    "    axis=1\n",
    ")\n",
    "\n",
    "#pd.options.display.max_columns = None\n",
    "#display(df_included)"
   ]
  },
  {
   "cell_type": "code",
   "execution_count": null,
   "id": "7dc24664-7c24-42e4-9ce8-95b5d765bca6",
   "metadata": {},
   "outputs": [],
   "source": [
    "df_included['Study location_continent'].value_counts()"
   ]
  },
  {
   "cell_type": "code",
   "execution_count": null,
   "id": "5af2df22-aa97-49de-aa67-ed85466c5478",
   "metadata": {},
   "outputs": [],
   "source": [
    "desired_order_continents = ['Africa', 'Asia', 'Europe', 'North America', 'South America', 'Oceania', 'USA', 'China', 'Global']\n",
    "\n",
    "df_included['Study location_continent'] = pd.Categorical(df_included['Study location_continent'], categories=desired_order_continents, ordered=True)"
   ]
  },
  {
   "cell_type": "markdown",
   "id": "478d96f5-92e9-4d1f-8a7d-15819f91c745",
   "metadata": {
    "jp-MarkdownHeadingCollapsed": true
   },
   "source": [
    "#### Figure 1: Number of MRV publications per study location"
   ]
  },
  {
   "cell_type": "code",
   "execution_count": null,
   "id": "e3b17558-f1b3-4937-a610-6b3249411066",
   "metadata": {},
   "outputs": [],
   "source": [
    "#papers per study location\n",
    "papers_per_location= df_included['Study location_continent'].value_counts().sort_index()\n",
    "\n",
    "# bar chart for papers per year\n",
    "plt.figure(figsize=(10, 5))\n",
    "papers_per_location.plot(kind='bar', color='skyblue')\n",
    "plt.title('Number of MRV publications per Study Location')\n",
    "plt.xlabel('Continent/Country')\n",
    "plt.ylabel('Publications')\n",
    "plt.grid(axis='y')\n",
    "plt.show()"
   ]
  },
  {
   "cell_type": "markdown",
   "id": "95498e78-cdac-4c04-95a5-dd102324f4b2",
   "metadata": {},
   "source": [
    "### 3 Publication date"
   ]
  },
  {
   "cell_type": "markdown",
   "id": "110bde48-b496-4afb-ba54-fdd8c9caa228",
   "metadata": {
    "jp-MarkdownHeadingCollapsed": true
   },
   "source": [
    "#### 3.1 Overview of included publication dates"
   ]
  },
  {
   "cell_type": "code",
   "execution_count": null,
   "id": "c4596bda-bc31-4955-a86e-ca35f6cca085",
   "metadata": {},
   "outputs": [],
   "source": [
    "df_included.groupby('Year').size() # Results: most of our included studies were published 2019 and later"
   ]
  },
  {
   "cell_type": "markdown",
   "id": "b27dcb57-e0d9-4b57-9372-799f4541aef3",
   "metadata": {
    "jp-MarkdownHeadingCollapsed": true
   },
   "source": [
    "#### Figure 2: Number of MRV Publications per year"
   ]
  },
  {
   "cell_type": "code",
   "execution_count": null,
   "id": "a7633e97-45b2-48da-8e29-60997c1963c0",
   "metadata": {},
   "outputs": [],
   "source": [
    "# Convert years to integer to avoid .0 and ensure that years are shown correctly in the figure\n",
    "df_included['Year'] = df_included['Year'].astype(float).astype(int)"
   ]
  },
  {
   "cell_type": "code",
   "execution_count": null,
   "id": "d082aef9-84b4-4e51-afff-537bc7f167d8",
   "metadata": {},
   "outputs": [],
   "source": [
    "#papers per year\n",
    "papers_per_year = df_included['Year'].value_counts().sort_index()\n",
    "\n",
    "# bar chart for papers per year\n",
    "plt.figure(figsize=(10, 5))\n",
    "papers_per_year.plot(kind='bar', color='skyblue')\n",
    "plt.title('Number of MRV publications per year')\n",
    "plt.xlabel('year')\n",
    "plt.ylabel('publications')\n",
    "plt.grid(axis='y')\n",
    "plt.show()"
   ]
  },
  {
   "cell_type": "markdown",
   "id": "7b8ea913-9376-47b1-8738-33243dd6eec0",
   "metadata": {},
   "source": [
    "### 4 CDR method and study focus"
   ]
  },
  {
   "cell_type": "markdown",
   "id": "32c35589-95a9-4cb5-9b76-ab5493f8b45c",
   "metadata": {
    "jp-MarkdownHeadingCollapsed": true
   },
   "source": [
    "#### 4.1 Definition CDR methods & color scheme"
   ]
  },
  {
   "cell_type": "code",
   "execution_count": null,
   "id": "c06b45eb-a417-4929-9779-58e781d95c60",
   "metadata": {},
   "outputs": [],
   "source": [
    "#columns with all CDR methods\n",
    "CDR_columns = ['BECCS', 'General forestry', 'A/R', 'Agroforestry', 'Forest management', 'DACCS', 'EW', 'OAE', 'OIF/AU', 'Biochar', 'SCS', 'Blue carbon', 'Restoration of landscapes and peats', 'CCUS', 'Other', 'General CDR', 'DOC', 'Algae ', 'CCS']"
   ]
  },
  {
   "cell_type": "code",
   "execution_count": null,
   "id": "811b36e9-b129-4b79-b57c-904c07ba9a07",
   "metadata": {},
   "outputs": [],
   "source": [
    "# Define the custom color scheme for each CDR method\n",
    "custom_colors_CDR_method = {\n",
    "    'BECCS': '#f4d6ae', 'General forestry': '#bcbd22', 'A/R': '#aab792', \n",
    "    'Agroforestry': '#e9ede2', 'Forest management': '#d2bfac', 'DACCS': '#dd7500',\n",
    "    'EW': '#d6b8c1', 'OAE': '#ecf1f9', 'OIF/AU': '#709fca', 'Biochar': '#b7768bff',\n",
    "    'SCS': '#769112', 'Blue carbon': '#d8e3f1', 'Restoration of landscapes and peats': '#d3dbc7',\n",
    "    'CCUS': '#b55d00', 'Other': '#e5e5e5', 'General CDR': '#e5b138', 'DOC': '#17becf',\n",
    "    'Algae ': '#2ca02c', 'CCS': '#d62728'\n",
    "}"
   ]
  },
  {
   "cell_type": "markdown",
   "id": "cbee4258-a1eb-42d9-9b52-f266b3cc0da5",
   "metadata": {
    "jp-MarkdownHeadingCollapsed": true
   },
   "source": [
    "#### 4.2 Overview of CDR methods & foci"
   ]
  },
  {
   "cell_type": "code",
   "execution_count": null,
   "id": "5ce43c4a-5fc4-46e8-a200-b6c7c41b7987",
   "metadata": {},
   "outputs": [],
   "source": [
    "# nummber of main focus per CDR method\n",
    "CDR_maintopic = (df_included[CDR_columns] == 1).sum()\n",
    "CDR_maintopic_sorted = CDR_maintopic.sort_values(ascending=False)\n",
    "#print(CDR_maintopic_sorted)\n",
    "# Result: A/R, SCS and EW are the most common CDR side topics used in the context of MRV"
   ]
  },
  {
   "cell_type": "code",
   "execution_count": null,
   "id": "3d616aae-4fd2-49a0-ac51-1bc21eaad26e",
   "metadata": {},
   "outputs": [],
   "source": [
    "#number of side topic per CDR method\n",
    "CDR_sidetopic = (df_included[CDR_columns] == 2).sum()\n",
    "CDR_sidetopic_sorted = CDR_sidetopic.sort_values(ascending=False)\n",
    "#print(CDR_sidetopic_sorted)\n",
    "# Result: A/R, SCS and EW are the most common CDR side topics used in the context of MRV"
   ]
  },
  {
   "cell_type": "code",
   "execution_count": null,
   "id": "641728d9-d39d-4513-9c51-2baa629650e2",
   "metadata": {},
   "outputs": [],
   "source": [
    "# number of framings per CDR methods\n",
    "CDR_framing = (df_included[CDR_columns] == 3).sum()\n",
    "CDR_framing_sorted = CDR_framing.sort_values(ascending=False)\n",
    "#print(CDR_framing_sorted)\n",
    "# Result: BECCS, FM, Agroforestry, SCS and blue carbon rarely used as framings in the context of MRV"
   ]
  },
  {
   "cell_type": "code",
   "execution_count": null,
   "id": "dbadc36b-bdc9-4ed3-9c58-942a083e92fe",
   "metadata": {},
   "outputs": [],
   "source": [
    "# Results for all CDR technologies regardless if it is mentioned as main/sidetopic or framing\n",
    "CDR_method = (df_included[CDR_columns] > 0).sum()\n",
    "CDR_method_sorted = CDR_method.sort_values(ascending=False)\n",
    "#print(CDR_method_sorted)\n",
    "# Decided to analyse year of publication, study location, etc. per CDR method, regardless of whether the method is only mentioned or the main topic of the articles (even if it is mentioned, the author had the intention to include the results of the study for that method)"
   ]
  },
  {
   "cell_type": "markdown",
   "id": "c7e97895-9a48-4518-8423-e0a1dab551ec",
   "metadata": {
    "jp-MarkdownHeadingCollapsed": true
   },
   "source": [
    "#### Figure 3: Shares of CDR Methods in the Sample"
   ]
  },
  {
   "cell_type": "code",
   "execution_count": null,
   "id": "7b363cf3-6251-4977-b6fa-b7a0fcc75dde",
   "metadata": {},
   "outputs": [],
   "source": [
    "#Overview graphic for all CDR methods in the color scheme\n",
    "\n",
    "# Generate a list of colors based on the sorted CDR methods\n",
    "colors_CDR_method = [custom_colors_CDR_method[method] for method in CDR_method_sorted.index]\n",
    "\n",
    "# Set the size of the plot\n",
    "plt.figure(figsize=(10, 6))\n",
    "\n",
    "# Create the horizontal bar plot with custom colors and assign hue to the y variable\n",
    "sns.barplot(x=CDR_method_sorted.values, y=CDR_method_sorted.index, hue=CDR_method_sorted.index, palette=colors_CDR_method, dodge=False, legend=False)\n",
    "\n",
    "# Add the percentages behind the bars\n",
    "total = CDR_method_sorted.sum()\n",
    "for i, value in enumerate(CDR_method_sorted):\n",
    "    percentage = 100 * value / total\n",
    "    plt.text(value + 1, i, f'{percentage:.1f}%', va='center')  # Add 1 to move the percentage text slightly away from the bar\n",
    "\n",
    "# Set plot labels and title\n",
    "plt.xlabel('Count of CDR Methods')\n",
    "plt.ylabel('CDR Method')\n",
    "plt.title('Count of CDR Methods by Type')\n",
    "\n",
    "# Show the plot\n",
    "plt.tight_layout()\n",
    "plt.show()"
   ]
  },
  {
   "cell_type": "code",
   "execution_count": null,
   "id": "66f3c142-279c-4db6-bf24-5b36128c06b9",
   "metadata": {},
   "outputs": [],
   "source": [
    "#add new column for CDR method and study focus in the dataset\n",
    "def extract_CDR_method_focus(row):\n",
    "    CDR_method = []\n",
    "    CDR_focus = []\n",
    "    \n",
    "    for column in CDR_columns:  # previously defined list with columns that contain CDR methods\n",
    "        if row[column] > 0:\n",
    "            CDR_method.append(column)\n",
    "            CDR_focus.append(row[column])\n",
    "    \n",
    "    return pd.Series([CDR_method, CDR_focus])\n",
    "\n",
    "# new copy of the data set to avoid warning\n",
    "df_included = df_included.copy()\n",
    "\n",
    "# add new columns to the data frame\n",
    "df_included['CDR_method'] = df_included.apply(lambda row: extract_CDR_method_focus(row)[0], axis=1)\n",
    "df_included['CDR_focus'] = df_included.apply(lambda row: extract_CDR_method_focus(row)[1], axis=1)\n",
    "\n",
    "#display dataset to see if newly added columns are correct\n",
    "#pd.options.display.max_columns = None\n",
    "#display(df_included)"
   ]
  },
  {
   "cell_type": "markdown",
   "id": "fc12ef1c-3899-40d8-a69d-8c8e18301394",
   "metadata": {},
   "source": [
    "### 5 MRV topics and study focus"
   ]
  },
  {
   "cell_type": "markdown",
   "id": "c3919ff0-0760-4a40-a4d1-112a8ed4ec90",
   "metadata": {
    "jp-MarkdownHeadingCollapsed": true
   },
   "source": [
    "#### 5.1 Definition MRV groups & color scheme"
   ]
  },
  {
   "cell_type": "code",
   "execution_count": null,
   "id": "3b1221bd-5ecf-4beb-8cd8-6582d7212233",
   "metadata": {},
   "outputs": [],
   "source": [
    "#columns with all MRV topics\n",
    "MRV_columns = ['General MRV', 'Quantification', 'Monitoring', 'Quality', 'Governance', 'Reporting', 'Verification', 'External impacts']"
   ]
  },
  {
   "cell_type": "code",
   "execution_count": null,
   "id": "e1d60553-c804-49a2-8f33-75eae1edd4a5",
   "metadata": {},
   "outputs": [],
   "source": [
    "# Define the new custom color scheme for MRV topics\n",
    "mrv_topic_colors = {\n",
    "    'General MRV': '#e5b138',      # muted yellow\n",
    "    'Quantification': '#7da7b8',   # darker bluish-grey\n",
    "    'Monitoring': '#8dc39f',        # stronger soft green\n",
    "    'Quality': '#c76a85',           # berry red\n",
    "    'Governance': '#b39bc8',        # stronger lavender\n",
    "    'Reporting': '#e1a6b8',         # stronger soft pink\n",
    "    'Verification': '#a8a8a8',      # medium grey\n",
    "    'External impacts': '#d0c97b'   # stronger soft yellow\n",
    "}"
   ]
  },
  {
   "cell_type": "markdown",
   "id": "b8882544-47be-4555-934c-69907ca6ac88",
   "metadata": {
    "jp-MarkdownHeadingCollapsed": true
   },
   "source": [
    "#### 5.2 Overview of MRV topics & foci"
   ]
  },
  {
   "cell_type": "code",
   "execution_count": null,
   "id": "c74b2fa1-a6a2-488d-935d-9904ef3818f5",
   "metadata": {},
   "outputs": [],
   "source": [
    "# nummber of main focus per MRV study topics\n",
    "MRV_maintopic = (df_included[MRV_columns] == 1).sum()\n",
    "MRV_maintopic_sorted = MRV_maintopic.sort_values(ascending=False)\n",
    "#print(MRV_maintopic_sorted)\n",
    "# Result: Quantification is the main topic (in 165 studies), followed by Monitoring (18 studies) and Quality (15 studies)"
   ]
  },
  {
   "cell_type": "code",
   "execution_count": null,
   "id": "9be3dab1-08d9-4f94-9a19-1966d99d2b4a",
   "metadata": {},
   "outputs": [],
   "source": [
    "# nummber of side focus per MRV study topics\n",
    "MRV_maintopic = (df_included[MRV_columns] == 2).sum()\n",
    "MRV_maintopic_sorted = MRV_maintopic.sort_values(ascending=False)\n",
    "#print(MRV_maintopic_sorted)\n",
    "# Result: Quantification is also the the main side focus (in 18 studies), followed by Monitoring (18 studies) and Quality (17 studies)"
   ]
  },
  {
   "cell_type": "code",
   "execution_count": null,
   "id": "b440a5fe-dda9-411e-aa18-8108b0612e48",
   "metadata": {},
   "outputs": [],
   "source": [
    "# nummber of all focuses per MRV study topics\n",
    "MRV_topic = (df_included[MRV_columns] > 0).sum()\n",
    "MRV_topic_sorted = MRV_topic.sort_values(ascending=False)\n",
    "#print(MRV_topic_sorted)"
   ]
  },
  {
   "cell_type": "markdown",
   "id": "bc8c2876-f672-45a0-968b-b29cb843ffde",
   "metadata": {
    "jp-MarkdownHeadingCollapsed": true
   },
   "source": [
    "#### Figure 4: Distribution of MRV topics"
   ]
  },
  {
   "cell_type": "code",
   "execution_count": null,
   "id": "8524c8cd-15f9-4b9b-86bf-caea17152505",
   "metadata": {},
   "outputs": [],
   "source": [
    "#Overview graphic for all MRV topics \n",
    "\n",
    "# Calculate the counts for each MRV topic\n",
    "mrv_topic_counts = MRV_topic_sorted\n",
    "\n",
    "# Create the pie chart\n",
    "fig, ax = plt.subplots(dpi=150, figsize=(8, 6))\n",
    "\n",
    "# Create the pie chart without percentages displayed\n",
    "wedges, texts = ax.pie(mrv_topic_counts, \n",
    "                       labels=None, \n",
    "                       colors=[mrv_topic_colors[topic] for topic in mrv_topic_counts.index],\n",
    "                       startangle=90,\n",
    "                       textprops=dict(color=\"black\"))\n",
    "\n",
    "# Add a white circle in the middle to make it a donut chart\n",
    "white_circle = plt.Circle((0, 0), 0.70, color='white')\n",
    "ax.add_artist(white_circle)\n",
    "\n",
    "# Create legend labels with percentages\n",
    "legend_labels = [f'{topic} ({100 * count / mrv_topic_counts.sum():.1f}%)' for topic, count in zip(mrv_topic_counts.index, mrv_topic_counts)]\n",
    "\n",
    "# Place the legend next to the pie chart\n",
    "ax.legend(wedges, legend_labels, \n",
    "          title=\"MRV Topics\", loc=\"center left\", bbox_to_anchor=(1, 0, 0.5, 1))\n",
    "\n",
    "# Set plot title\n",
    "plt.title('Distribution of MRV Topics')\n",
    "plt.axis('equal')  # Equal aspect ratio ensures that pie is drawn as a circle.\n",
    "\n",
    "# Show the plot\n",
    "plt.tight_layout()"
   ]
  },
  {
   "cell_type": "code",
   "execution_count": null,
   "id": "e5928e9a-f7cd-4f15-bb80-2764f581cd23",
   "metadata": {},
   "outputs": [],
   "source": [
    "#add new column for MRV topic and study focus to the dataset\n",
    "def extract_MRV_topic_focus(row):\n",
    "    MRV_topic = []\n",
    "    MRV_focus = []\n",
    "    \n",
    "    for column in MRV_columns:  # previously defined list with columns that contain MRV topics\n",
    "        if row[column] > 0:\n",
    "            MRV_topic.append(column)\n",
    "            MRV_focus.append(row[column])\n",
    "    \n",
    "    return pd.Series([MRV_topic, MRV_focus])\n",
    "\n",
    "# new copy of the data set to avoid warning\n",
    "df_included = df_included.copy()\n",
    "\n",
    "# add new columns to the data frame\n",
    "df_included['MRV_topic'] = df_included.apply(lambda row: extract_MRV_topic_focus(row)[0], axis=1)\n",
    "df_included['MRV_focus'] = df_included.apply(lambda row: extract_MRV_topic_focus(row)[1], axis=1)\n",
    "\n",
    "#display dataset to see if newly added columns are correct\n",
    "#pd.options.display.max_columns = None\n",
    "#display(df_included)"
   ]
  },
  {
   "cell_type": "markdown",
   "id": "8412130d-4c62-49a6-a83f-7cf6c365c770",
   "metadata": {},
   "source": [
    "### 6 Exploded dataset: CDR group"
   ]
  },
  {
   "cell_type": "markdown",
   "id": "4b7dafc5-9e6c-4d2e-9b22-48fd88557895",
   "metadata": {
    "jp-MarkdownHeadingCollapsed": true
   },
   "source": [
    "#### 6.1 Datset explosion"
   ]
  },
  {
   "cell_type": "code",
   "execution_count": null,
   "id": "20acc39f-d26d-4591-8399-3299b299cec9",
   "metadata": {},
   "outputs": [],
   "source": [
    "# explode CDR method and focus\n",
    "df_CDRexplode = df_included.explode(['CDR_method', 'CDR_focus'])\n",
    "\n",
    "# explode MRV topic and focus\n",
    "df_MRVexplode = df_included.explode(['MRV_topic', 'MRV_focus'])\n",
    "\n",
    "# explode MRV topic and focus\n",
    "df_exploded = df_CDRexplode.explode(['MRV_topic', 'MRV_focus'])\n",
    "\n",
    "# every CDR method and every MRV topic is in one line (in combination with study focus)\n",
    "\n",
    "#display dataset to see if newly added columns are correct\n",
    "#pd.options.display.max_columns = None\n",
    "#display(df_exploded)"
   ]
  },
  {
   "cell_type": "markdown",
   "id": "ffe36bfd-9fb6-4a0f-873d-d48a78746c08",
   "metadata": {
    "jp-MarkdownHeadingCollapsed": true
   },
   "source": [
    "#### 6.2 Definition CDR groups & color scheme"
   ]
  },
  {
   "cell_type": "code",
   "execution_count": null,
   "id": "8bb68728-52b7-4451-84c4-ab8a3e58d9e1",
   "metadata": {},
   "outputs": [],
   "source": [
    "# Group CDR Methods to marine, terrestrial, and CCS technologies. Keep A/R and SCS as individual technologies\n",
    "cdr_group_mapping = {\n",
    "     # Marine CDR group\n",
    "    \"OIF/AU\":\"Marine CDR\",\n",
    "    \"Blue carbon\": \"Marine CDR\",\n",
    "    \"OAE\": \"Marine CDR\",\n",
    "    \"DOC\": \"Marine CDR\",\n",
    "    \"Algae \": \"Marine CDR\",\n",
    "    \n",
    "    # Terrestrial CDR group\n",
    "    \"EW\": \"Terrestrial CDR\",\n",
    "    \"Biochar\": \"Terrestrial CDR\",\n",
    "    \"Restoration of landscapes and peats\": \"Terrestrial CDR\",\n",
    "    \n",
    "    # CCS group\n",
    "    \"DACCS\": \"CCS\",\n",
    "    \"BECCS\": \"CCS\",\n",
    "    \"CCUS\": \"CCS\",\n",
    "    \"CCS\": \"CCS\",\n",
    "    \n",
    "    # General CDR/Other group\n",
    "    \"General CDR\": \"General CDR/Other\",\n",
    "    \"Other\": \"General CDR/Other\",\n",
    "\n",
    "    # SCS\n",
    "    \"SCS\": \"SCS\",\n",
    "\n",
    "    # Forestry\n",
    "    \"General forestry\": \"Forestry\",\n",
    "    \"A/R\": \"Forestry\",\n",
    "    \"Agroforestry\": \"Forestry\",\n",
    "    \"Forest management\": \"Forestry\",\n",
    "}\n",
    "# Create a new column ‘CDR_group’ in df_exploded based on the ‘CDR_method’ column\n",
    "df_exploded['CDR_group'] = df_exploded['CDR_method'].map(cdr_group_mapping)\n",
    "\n",
    "# Display the updated DataFrame\n",
    "#pd.options.display.max_columns = None  # Show all columns\n",
    "#display(df_exploded)"
   ]
  },
  {
   "cell_type": "code",
   "execution_count": null,
   "id": "c7d0872c-e044-459b-9614-5b260f371f14",
   "metadata": {},
   "outputs": [],
   "source": [
    "# Define the custom color scheme for each CDR group\n",
    "cdr_group_colors = {\n",
    "    \"Marine CDR\": '#7eaed3',    # bluew for Marine CDR\n",
    "    \"Terrestrial CDR\": '#b2df8a',  # green for Terrestrial CDR\n",
    "    \"CCS\": '#ff7f00',            # orange for CCS\n",
    "    \"General CDR/Other\": '#e5e5e5', # grey for General/Other\n",
    "    \"SCS\": '#C1A28A' ,            # brown for SCS\n",
    "    \"Forestry\": '#8fbc8f'         # green for Forestry\n",
    "}\n"
   ]
  },
  {
   "cell_type": "markdown",
   "id": "9b3c9eff-ef9e-49fb-afbe-3a68e84d3fa7",
   "metadata": {
    "jp-MarkdownHeadingCollapsed": true
   },
   "source": [
    "#### Figure 5: Distribution of CDR groups"
   ]
  },
  {
   "cell_type": "code",
   "execution_count": null,
   "id": "62cf4731-8f76-4c14-81d5-86f65b98038f",
   "metadata": {},
   "outputs": [],
   "source": [
    "# Calculate the counts for each CDR group\n",
    "cdr_group_counts = df_exploded['CDR_group'].value_counts()\n",
    "\n",
    "# Define the labels with percentages in parentheses\n",
    "labels = [f'{group} ({percentage:.1f}%)' for group, percentage in zip(cdr_group_counts.index, \n",
    "                                                                      100 * cdr_group_counts / cdr_group_counts.sum())]\n",
    "\n",
    "# Set the colors for each group\n",
    "colors = [cdr_group_colors[group] for group in cdr_group_counts.index]\n",
    "\n",
    "# Create the pie chart\n",
    "fig, ax = plt.subplots(dpi=150, figsize=(6, 6))\n",
    "\n",
    "plt.pie(cdr_group_counts, labels=labels, colors=colors, startangle=90, labeldistance=1.05)\n",
    "\n",
    "# Add a white circle in the middle to make it a donut chart\n",
    "white_circle = plt.Circle((0, 0), 0.70, color='white')\n",
    "p = plt.gcf()\n",
    "p.gca().add_artist(white_circle)\n",
    "\n",
    "# Set plot title\n",
    "plt.title('Distribution of CDR Groups')\n",
    "\n",
    "# Show the plot\n",
    "plt.tight_layout()\n",
    "plt.show()"
   ]
  },
  {
   "cell_type": "markdown",
   "id": "f248be1d-d0e5-4c31-97a7-c78bfe5266dd",
   "metadata": {},
   "source": [
    "### 7 Research Methods (focus on qualitative methods)"
   ]
  },
  {
   "cell_type": "markdown",
   "id": "711beca8-55dd-4730-81d4-55453f9212f7",
   "metadata": {
    "jp-MarkdownHeadingCollapsed": true
   },
   "source": [
    "#### 7.1 Overview of primary research methods"
   ]
  },
  {
   "cell_type": "code",
   "execution_count": null,
   "id": "751696dd-381e-46d7-9e5b-0684aaec6db5",
   "metadata": {},
   "outputs": [],
   "source": [
    "# Define the custom color scheme for research methods\n",
    "research_methods_colors = {\n",
    "    'Modelling': '#81C3D7',  # soft turquoise\n",
    "    'Experiment - Field study': '#a68e71',  # tan '\n",
    "    'Remote sensing': '#5BC0EB',  # soft blue\n",
    "    'Qualitative research': '#FF9F40',  # light orange \n",
    "    'Data analysis/Statistical analysis/Econometric': '#4A90E2',   # strong blue'\n",
    "    'Experiment - Laboratory experiment': '#FF6F61',  # coral red\n",
    "    'Review': '#f4a460',  # sandy orange\n",
    "    'Unknown': '#C0C0C0'  # grey\n",
    "}"
   ]
  },
  {
   "cell_type": "code",
   "execution_count": null,
   "id": "a6be62fd-88f0-4e04-b6e6-450ebda1c62f",
   "metadata": {},
   "outputs": [],
   "source": [
    "# Calculate the counts for each MRV topic\n",
    "research_methods_counts = df_included['Primary research method'].value_counts()\n",
    "\n",
    "# Create the pie chart\n",
    "fig, ax = plt.subplots(dpi=150, figsize=(8, 6))\n",
    "\n",
    "# Create the pie chart without percentages displayed\n",
    "wedges, texts = ax.pie(research_methods_counts, \n",
    "                       labels=None, \n",
    "                       colors=[research_methods_colors[method] for method in research_methods_counts.index],\n",
    "                       startangle=90,\n",
    "                       textprops=dict(color=\"black\"))\n",
    "\n",
    "# Add a white circle in the middle to make it a donut chart\n",
    "white_circle = plt.Circle((0, 0), 0.70, color='white')\n",
    "ax.add_artist(white_circle)\n",
    "\n",
    "# Create legend labels with percentages\n",
    "legend_labels = [f'{method} ({100 * count / research_methods_counts.sum():.1f}%)' for method, count in zip(research_methods_counts.index, research_methods_counts)]\n",
    "\n",
    "# Place the legend next to the pie chart\n",
    "ax.legend(wedges, legend_labels, \n",
    "          title=\"Research Methods\", loc=\"center left\", bbox_to_anchor=(1, 0, 0.5, 1))\n",
    "\n",
    "# Set plot title\n",
    "plt.title('Distribution of Research Methods')\n",
    "plt.axis('equal')  # Equal aspect ratio ensures that pie is drawn as a circle.\n",
    "\n",
    "# Show the plot\n",
    "plt.tight_layout()"
   ]
  },
  {
   "cell_type": "markdown",
   "id": "89236155-2c65-4d9a-878c-4062da6f821b",
   "metadata": {
    "jp-MarkdownHeadingCollapsed": true
   },
   "source": [
    "#### 7.2 Publications with a qualitative (primary) research method per CDR or MRV method"
   ]
  },
  {
   "cell_type": "code",
   "execution_count": null,
   "id": "0d4f979a-5ee0-4a41-b507-8bfbf366fe86",
   "metadata": {},
   "outputs": [],
   "source": [
    "df_qualiMRV = df_MRVexplode [df_MRVexplode['Primary research method'] == 'Qualitative research']"
   ]
  },
  {
   "cell_type": "code",
   "execution_count": null,
   "id": "81cf9245-e257-4790-b1a7-7dae13e0767f",
   "metadata": {},
   "outputs": [],
   "source": [
    "df_qualiCDR = df_CDRexplode [df_CDRexplode['Primary research method'] == 'Qualitative research']"
   ]
  },
  {
   "cell_type": "markdown",
   "id": "a84c7322-ba01-425e-ad36-d811a2a6b40a",
   "metadata": {
    "jp-MarkdownHeadingCollapsed": true
   },
   "source": [
    "#### Figure 6 Pie Chart: Share of MRV topics for qualitative publications"
   ]
  },
  {
   "cell_type": "code",
   "execution_count": null,
   "id": "91346983-a361-49a7-8946-3293e49335d9",
   "metadata": {},
   "outputs": [],
   "source": [
    "# Count occurrences of each CDR Technology\n",
    "quali_counts_MRV = df_qualiMRV['MRV_topic'].value_counts()\n",
    "\n",
    "# Map the colors to the CDR Technologies\n",
    "quali_colors_MRV = [mrv_topic_colors[method] for method in quali_counts_MRV.index]\n",
    "\n",
    "# Create pie chart with both percentage and absolute numbers\n",
    "plt.figure(figsize=(8,8))\n",
    "quali_counts_MRV.plot(\n",
    "    kind='pie', \n",
    "    autopct=lambda p: f'{p:.1f}%\\n({int(p * sum(quali_counts_MRV) / 100)})',  # Show percentage and absolute numbers\n",
    "    startangle=140, \n",
    "    colors=quali_colors_MRV\n",
    ")\n",
    "\n",
    "plt.title('Share of MRV Topics in Publications with a Qualitative Primary Research Method')\n",
    "plt.ylabel('')  \n",
    "plt.show()"
   ]
  },
  {
   "cell_type": "markdown",
   "id": "f5e55019-eeee-4ea5-9d8e-b086a0bf4818",
   "metadata": {
    "jp-MarkdownHeadingCollapsed": true
   },
   "source": [
    "#### Figure 7 Pie Chart: Share of CDR topics for qualitative publications"
   ]
  },
  {
   "cell_type": "code",
   "execution_count": null,
   "id": "2b2fcd6a-af6e-49fd-9241-ef4c80d623ff",
   "metadata": {},
   "outputs": [],
   "source": [
    "# Count occurrences of each CDR Technology\n",
    "quali_counts_CDR = df_qualiCDR['CDR_method'].value_counts()\n",
    "\n",
    "# Map the colors to the CDR Technologies\n",
    "quali_colors_CDR = [custom_colors_CDR_method[method] for method in quali_counts_CDR.index]\n",
    "\n",
    "# Create pie chart with both percentage and absolute numbers\n",
    "plt.figure(figsize=(8,8))\n",
    "quali_counts_CDR.plot(\n",
    "    kind='pie', \n",
    "    autopct=lambda p: f'{p:.1f}%\\n({int(p * sum(quali_counts_MRV) / 100)})',  # Show percentage and absolute numbers\n",
    "    startangle=140, \n",
    "    colors=quali_colors_CDR \n",
    ")\n",
    "\n",
    "plt.title('Share of CDR Technologies in Publications with a Qualitative Primary Research Method')\n",
    "plt.ylabel('')  \n",
    "plt.show()"
   ]
  },
  {
   "cell_type": "markdown",
   "id": "7ce4c896-a764-4123-9df2-70107d68ca8d",
   "metadata": {
    "jp-MarkdownHeadingCollapsed": true
   },
   "source": [
    "#### 7.2 Publications with a qualitative (primary) research method per CDR and MRV topic"
   ]
  },
  {
   "cell_type": "code",
   "execution_count": null,
   "id": "616f427e-6ab9-4646-aad2-027631563f63",
   "metadata": {
    "scrolled": true
   },
   "outputs": [],
   "source": [
    "# Creating a new data frame only includeing those papers that include a specific method (qualitative research)\n",
    "df_quali = df_exploded.loc[df_exploded[\"Primary research method\"].notna()]"
   ]
  },
  {
   "cell_type": "code",
   "execution_count": null,
   "id": "65c1895c-48c4-4d2e-9e3a-f5fb9c30b0ee",
   "metadata": {},
   "outputs": [],
   "source": [
    "# Create a new DataFrame for rows where 'Primary research method' is 'Qualitative research'\n",
    "df_quali = df_exploded[df_exploded['Primary research method'] == 'Qualitative research']"
   ]
  },
  {
   "cell_type": "markdown",
   "id": "c471dde7-d6ae-4120-8787-c0551fcfa55b",
   "metadata": {
    "jp-MarkdownHeadingCollapsed": true
   },
   "source": [
    "#### Figure 8 Stacked Bar Plot: Distribution of CDR methods by MRV topic for qualitative studies"
   ]
  },
  {
   "cell_type": "code",
   "execution_count": null,
   "id": "7b5c66dc-a267-4768-ba4e-e61cf529983a",
   "metadata": {},
   "outputs": [],
   "source": [
    "# Step 1: Group by 'CDR_method' and 'MRV_topic', and count occurrences\n",
    "grouped_quali = df_quali.groupby(['CDR_method', 'MRV_topic']).size().unstack(fill_value=0)\n",
    "set(grouped_quali)\n",
    "\n",
    "# Step 2: Check which MRV topics are available in the grouped data\n",
    "available_mrv_topics = grouped_quali.columns.intersection(mrv_topic_colors.keys()).tolist()\n",
    "\n",
    "# Step 3: Filter the color mapping to only include the available MRV topics\n",
    "method_colors = [mrv_topic_colors[topic] for topic in available_mrv_topics]\n",
    "\n",
    "# Step 4: Plot the data using a stacked bar chart\n",
    "ax = grouped_quali[available_mrv_topics].plot(\n",
    "    kind='bar', \n",
    "    stacked=True, \n",
    "    color=method_colors, \n",
    "    figsize=(12, 7))\n",
    "plt.xlabel('CDR Method')\n",
    "plt.ylabel('Number of Publications')\n",
    "plt.title('Distribution of CDR Technologies by MRV Topics')\n",
    "plt.xticks(rotation=45, ha='right')\n",
    "plt.legend(title='MRV Topic', bbox_to_anchor=(1.05, 1), loc='upper left')\n",
    "plt.tight_layout()\n",
    "plt.show()\n"
   ]
  },
  {
   "cell_type": "markdown",
   "id": "35ec2e79-249c-4ace-8f32-8983e8288875",
   "metadata": {
    "jp-MarkdownHeadingCollapsed": true
   },
   "source": [
    "### 8 Deeper analysis of Studies without a specified location"
   ]
  },
  {
   "cell_type": "markdown",
   "id": "f8f949a2-7bf2-4304-8d12-4144d1150903",
   "metadata": {
    "jp-MarkdownHeadingCollapsed": true
   },
   "source": [
    "#### 8.1 CDR Technologies"
   ]
  },
  {
   "cell_type": "code",
   "execution_count": null,
   "id": "927abd23-c23c-4cd1-a0e4-bf4365714955",
   "metadata": {
    "scrolled": true
   },
   "outputs": [],
   "source": [
    "# Creating a new data frame only includeing those papers that do now include a specific location (NaN)\n",
    "df_no_location = df_CDRexplode.loc[df_CDRexplode[\"Study location: Continent\"].notna()]"
   ]
  },
  {
   "cell_type": "code",
   "execution_count": null,
   "id": "853c99e7-b231-4ca0-9c1f-b1e49009cc41",
   "metadata": {},
   "outputs": [],
   "source": [
    "# Create a new DataFrame for rows where 'Study location' is 'Not specified'\n",
    "df_not_specified = df_CDRexplode[df_CDRexplode['Study location'] == 'Not specified']\n",
    "\n",
    "#df_not_specified\n"
   ]
  },
  {
   "cell_type": "markdown",
   "id": "4fa6dbf5-bacb-49a1-ac6c-9cc6bc7c642e",
   "metadata": {
    "jp-MarkdownHeadingCollapsed": true
   },
   "source": [
    "#### Figure 9 Pie chart of CDR Technologies"
   ]
  },
  {
   "cell_type": "code",
   "execution_count": null,
   "id": "1f90e824-3038-4c72-b276-5b8b85ec7556",
   "metadata": {},
   "outputs": [],
   "source": [
    "# Count occurrences of each CDR Technology\n",
    "nolo_counts = df_not_specified['CDR_method'].value_counts()\n",
    "\n",
    "# Map the colors to the CDR Technologies\n",
    "nolo_colors = [custom_colors_CDR_method[method] for method in nolo_counts.index]\n",
    "\n",
    "# Create pie chart with both percentage and absolute numbers\n",
    "plt.figure(figsize=(8,8))\n",
    "nolo_counts.plot(\n",
    "    kind='pie', \n",
    "    autopct=lambda p: f'{p:.1f}%\\n({int(p * sum(nolo_counts) / 100)})',  # Show percentage and absolute numbers\n",
    "    startangle=140, \n",
    "    colors=nolo_colors\n",
    ")\n",
    "\n",
    "plt.title('Share of CDR Technologies in Publications without a specified location')\n",
    "plt.ylabel('')  \n",
    "plt.show()\n"
   ]
  },
  {
   "cell_type": "markdown",
   "id": "89b6d619-2865-44a1-9ab0-22939cde037a",
   "metadata": {
    "jp-MarkdownHeadingCollapsed": true
   },
   "source": [
    "#### Figure 10 Pie chart of Research methods"
   ]
  },
  {
   "cell_type": "code",
   "execution_count": null,
   "id": "078d1fa5-42a9-43cc-937e-0c3cac6eb9dc",
   "metadata": {},
   "outputs": [],
   "source": [
    "# Count occurrences of each CDR Technology\n",
    "nolo_counts = df_not_specified['Primary research method'].value_counts()\n",
    "\n",
    "# Map the colors to the CDR Technologies\n",
    "nolo_colors = [research_methods_colors.get(method, '#d3d3d3') for method in nolo_counts.index]  # Default to grey if method not found\n",
    "\n",
    "# Create pie chart with both percentage and absolute numbers\n",
    "plt.figure(figsize=(8,8))\n",
    "nolo_counts.plot(\n",
    "    kind='pie', \n",
    "    autopct=lambda p: f'{p:.1f}%\\n({int(p * sum(nolo_counts) / 100)})',  # Show percentage and absolute numbers\n",
    "    startangle=140, \n",
    "    colors=nolo_colors\n",
    ")\n",
    "\n",
    "plt.title('Share of Research Methods in Publications without a specified location')\n",
    "plt.ylabel('')  \n",
    "plt.show()"
   ]
  },
  {
   "cell_type": "markdown",
   "id": "56e65b8c-bdb9-451d-aa69-21359f4eb106",
   "metadata": {
    "jp-MarkdownHeadingCollapsed": true
   },
   "source": [
    "#### Figure 11 Stacked bar plot showing CDR Technology and Primary Research method"
   ]
  },
  {
   "cell_type": "code",
   "execution_count": null,
   "id": "e20d06b7-8443-4bdb-ae74-4d082189a318",
   "metadata": {},
   "outputs": [],
   "source": [
    "# Group the data by 'Primary research method' and 'CDR_method' and count occurrences\n",
    "grouped_nolo = df_not_specified.groupby(['Primary research method', 'CDR_method']).size().unstack()\n",
    "\n",
    "# Check which CDR methods are present in the grouped_df\n",
    "available_methods = grouped_nolo.columns.intersection(custom_colors_CDR_method.keys())\n",
    "print(\"Available CDR Methods:\", available_methods)\n",
    "\n",
    "# Filter the color mapping to only include available methods\n",
    "method_colors = [custom_colors_CDR_method[method] for method in available_methods if method in custom_colors_CDR_method]\n",
    "\n",
    "# Create a stacked bar plot with only the available methods\n",
    "grouped_nolo[available_methods].plot(kind='bar', stacked=True, color=method_colors, figsize=(12, 7))\n",
    "\n",
    "# Set plot labels and title\n",
    "plt.xlabel('Primary Research Method')\n",
    "plt.ylabel('Number of Publications')\n",
    "plt.title('Distribution of CDR Technologies by Primary Research Method')\n",
    "plt.xticks(rotation=45, ha='right') \n",
    "plt.legend(title='CDR Method', bbox_to_anchor=(1.05, 1), loc='upper left')\n",
    "plt.tight_layout()\n",
    "plt.show()"
   ]
  },
  {
   "cell_type": "code",
   "execution_count": null,
   "id": "b38aea22-4e36-4237-af12-baf2baae90ba",
   "metadata": {},
   "outputs": [],
   "source": [
    "# Group the data by 'Primary research method' and 'CDR_method' and count occurrences\n",
    "grouped_nolo = df_not_specified.groupby(['CDR_method', 'Primary research method']).size().unstack()\n",
    "\n",
    "# Create a stacked bar plot with only the available methods\n",
    "grouped_nolo.plot(kind='bar', stacked=True, figsize=(12, 7), color=research_methods_colors)\n",
    "\n",
    "# Set plot labels and title\n",
    "plt.ylabel('Primary Research Method')\n",
    "plt.xlabel('Number of Publications')\n",
    "plt.title('Distribution of CDR Technologies by Primary Research Method')\n",
    "plt.xticks(rotation=45, ha='right')  \n",
    "plt.legend(title='Primary Reseach Method', bbox_to_anchor=(1.05, 1), loc='upper left')\n",
    "plt.tight_layout()\n",
    "plt.show()"
   ]
  },
  {
   "cell_type": "markdown",
   "id": "c15ddc2f-2656-46c6-bb04-5b77e4c1aec2",
   "metadata": {
    "jp-MarkdownHeadingCollapsed": true
   },
   "source": [
    "#### 7. 2 MRV Topics"
   ]
  },
  {
   "cell_type": "code",
   "execution_count": null,
   "id": "dd6ded72-af3c-4887-927e-d565e7c2f581",
   "metadata": {
    "scrolled": true
   },
   "outputs": [],
   "source": [
    "# Creating a new data frame only includeing those papers that do now include a specific location (NaN)\n",
    "df_nolo_MRV = df_MRVexplode.loc[df_MRVexplode[\"Study location: Continent\"].notna()]"
   ]
  },
  {
   "cell_type": "code",
   "execution_count": null,
   "id": "f01e3531-a0c4-4bfb-a633-6205bdba81bc",
   "metadata": {},
   "outputs": [],
   "source": [
    "# Create a new DataFrame for rows where 'Study location' is 'Not specified'\n",
    "df_nosp_MRV = df_MRVexplode[df_MRVexplode['Study location'] == 'Not specified']\n",
    "\n",
    "#df_MRVexplode\n"
   ]
  },
  {
   "cell_type": "markdown",
   "id": "90797d51-678b-4312-9c08-c76fbb3e5cb4",
   "metadata": {
    "jp-MarkdownHeadingCollapsed": true
   },
   "source": [
    "#### Figure 12 Pie chart of CDR Technologies"
   ]
  },
  {
   "cell_type": "code",
   "execution_count": null,
   "id": "c9d397dd-1581-4a22-952e-22d67fa8a94a",
   "metadata": {},
   "outputs": [],
   "source": [
    "# Count occurrences of each CDR Technology\n",
    "nolo_counts = df_nosp_MRV['MRV_topic'].value_counts()\n",
    "\n",
    "# Map the colors to the CDR Technologies\n",
    "nolo_colors = [mrv_topic_colors[method] for method in nolo_counts.index]\n",
    "\n",
    "# Create pie chart with both percentage and absolute numbers\n",
    "plt.figure(figsize=(8,8))\n",
    "nolo_counts.plot(\n",
    "    kind='pie', \n",
    "    autopct=lambda p: f'{p:.1f}%\\n({int(p * sum(nolo_counts) / 100)})',  # Show percentage and absolute numbers\n",
    "    startangle=140, \n",
    "    colors=nolo_colors\n",
    ")\n",
    "\n",
    "plt.title('Share of MRV Topics in Publications without a specified location')\n",
    "plt.ylabel('')  \n",
    "plt.show()\n"
   ]
  },
  {
   "cell_type": "markdown",
   "id": "f61a119c-0ce5-4565-b92f-6fe6e6abe93a",
   "metadata": {
    "jp-MarkdownHeadingCollapsed": true
   },
   "source": [
    "#### Figure 13 Stacked bar plot showing Research Methods sorted stacked by MRV Topic"
   ]
  },
  {
   "cell_type": "code",
   "execution_count": null,
   "id": "66886da0-fe45-43e8-8a1a-586a5d3184ba",
   "metadata": {},
   "outputs": [],
   "source": [
    "# Group the data by 'Primary research method' and 'CDR_method' and count occurrences\n",
    "grouped_nolo = df_nosp_MRV.groupby(['Primary research method', 'MRV_topic']).size().unstack()\n",
    "\n",
    "# Check which CDR methods are present in the grouped_df\n",
    "available_methods = grouped_nolo.columns.intersection(mrv_topic_colors.keys())\n",
    "print(\"Available MRV Topics:\", available_methods)\n",
    "\n",
    "# Filter the color mapping to only include available methods\n",
    "method_colors = [mrv_topic_colors[method] for method in available_methods if method in mrv_topic_colors]\n",
    "\n",
    "# Create a stacked bar plot with only the available methods\n",
    "grouped_nolo[available_methods].plot(kind='bar', stacked=True, color=method_colors, figsize=(12, 7))\n",
    "\n",
    "# Set plot labels and title\n",
    "plt.xlabel('Primary Research Method')\n",
    "plt.ylabel('Number of Publications')\n",
    "plt.title('Distribution of MRV Topics by Primary Research Method')\n",
    "plt.xticks(rotation=45, ha='right') \n",
    "plt.legend(title='CDR Method', bbox_to_anchor=(1.05, 1), loc='upper left')\n",
    "plt.tight_layout()\n",
    "plt.show()"
   ]
  },
  {
   "cell_type": "markdown",
   "id": "315c3244-2d0a-404d-ae30-2eb6949afa53",
   "metadata": {
    "jp-MarkdownHeadingCollapsed": true
   },
   "source": [
    "#### Figure 14 Stacked bar plot showing MRV Topic stacked by Primary Research method"
   ]
  },
  {
   "cell_type": "code",
   "execution_count": null,
   "id": "c98bf090-698a-49f7-ae08-7816945ce410",
   "metadata": {},
   "outputs": [],
   "source": [
    "# Group the data by 'Primary research method' and 'CDR_method' and count occurrences\n",
    "grouped_nolo = df_nosp_MRV.groupby(['MRV_topic', 'Primary research method']).size().unstack()\n",
    "\n",
    "# Create a stacked bar plot with only the available methods\n",
    "grouped_nolo.plot(kind='bar', stacked=True, color=research_methods_colors, figsize=(12, 7))\n",
    "\n",
    "# Set plot labels and title\n",
    "plt.ylabel('Primary Research Method')\n",
    "plt.xlabel('Number of Publications')\n",
    "plt.title('Distribution of MRV Topics by Primary Research Method')\n",
    "plt.xticks(rotation=45, ha='right')  \n",
    "plt.legend(title='Primary Reseach Method', bbox_to_anchor=(1.05, 1), loc='upper left')\n",
    "plt.tight_layout()\n",
    "plt.show()"
   ]
  },
  {
   "cell_type": "markdown",
   "id": "6a01cce9-0b1b-42c5-bc14-b70d7f080968",
   "metadata": {
    "jp-MarkdownHeadingCollapsed": true
   },
   "source": [
    "#### Figure 14 Stacked bar plot showing MRV topic and CDR Method"
   ]
  },
  {
   "cell_type": "code",
   "execution_count": null,
   "id": "f9025066-8565-4a1a-beea-050983eb162b",
   "metadata": {
    "scrolled": true
   },
   "outputs": [],
   "source": [
    "# Creating a new data frame only includeing those papers that do now include a specific location (NaN)\n",
    "df_nolo_comp = df_exploded.loc[df_exploded[\"Study location: Continent\"].notna()]"
   ]
  },
  {
   "cell_type": "code",
   "execution_count": null,
   "id": "ee9ccd39-aa08-4352-8387-8f39ea6e33a7",
   "metadata": {},
   "outputs": [],
   "source": [
    "# Create a new DataFrame for rows where 'Study location' is 'Not specified'\n",
    "df_nosp_comp = df_exploded[df_exploded['Study location'] == 'Not specified']"
   ]
  },
  {
   "cell_type": "code",
   "execution_count": null,
   "id": "25efcbd9-e99e-4312-9aa6-0c6749ed3f0d",
   "metadata": {},
   "outputs": [],
   "source": [
    "# Group the data by 'Primary research method' and 'CDR_method' and count occurrences\n",
    "grouped_nolo = df_nosp_comp.groupby(['CDR_method', 'MRV_topic']).size().unstack()\n",
    "\n",
    "# Check which CDR methods are present in the grouped_df\n",
    "available_methods = grouped_nolo.columns.intersection(mrv_topic_colors.keys())\n",
    "print(\"Available MRV Topics:\", available_methods)\n",
    "\n",
    "# Filter the color mapping to only include available methods\n",
    "method_colors = [mrv_topic_colors[method] for method in available_methods if method in mrv_topic_colors]\n",
    "\n",
    "# Create a stacked bar plot with only the available methods\n",
    "grouped_nolo[available_methods].plot(kind='bar', stacked=True, color=method_colors, figsize=(12, 7))\n",
    "\n",
    "# Set plot labels and title\n",
    "plt.xlabel('Primary Research Method')\n",
    "plt.ylabel('Number of Publications')\n",
    "plt.title('Distribution of CDR Technologies by MRV Topics')\n",
    "plt.xticks(rotation=45, ha='right') \n",
    "plt.legend(title='CDR Method', bbox_to_anchor=(1.05, 1), loc='upper left')\n",
    "plt.tight_layout()\n",
    "plt.show()"
   ]
  }
 ],
 "metadata": {
  "kernelspec": {
   "display_name": "Python 3 (ipykernel)",
   "language": "python",
   "name": "python3"
  },
  "language_info": {
   "codemirror_mode": {
    "name": "ipython",
    "version": 3
   },
   "file_extension": ".py",
   "mimetype": "text/x-python",
   "name": "python",
   "nbconvert_exporter": "python",
   "pygments_lexer": "ipython3",
   "version": "3.8.10"
  }
 },
 "nbformat": 4,
 "nbformat_minor": 5
}
