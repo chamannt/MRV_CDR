{
 "cells": [
  {
   "cell_type": "markdown",
   "id": "d1510fca-79a4-477d-b2d0-bcda82db9b5a",
   "metadata": {
    "tags": []
   },
   "source": [
    "# Tools"
   ]
  },
  {
   "cell_type": "code",
   "execution_count": null,
   "id": "20255c29-074c-4a74-a278-61ba94c1de3b",
   "metadata": {
    "scrolled": true
   },
   "outputs": [],
   "source": [
    "import pandas as pd"
   ]
  },
  {
   "cell_type": "code",
   "execution_count": null,
   "id": "ef5655fd-cf8a-4c72-a3dd-18a7f901574c",
   "metadata": {},
   "outputs": [],
   "source": [
    "from IPython.display import display"
   ]
  },
  {
   "cell_type": "code",
   "execution_count": null,
   "id": "b863fa21-86d1-4abb-85d6-a5a4ac103089",
   "metadata": {},
   "outputs": [],
   "source": [
    "import matplotlib.pyplot as plt"
   ]
  },
  {
   "cell_type": "code",
   "execution_count": null,
   "id": "1f0f20fc-e542-43bb-9cb9-1a6d947d0fd7",
   "metadata": {},
   "outputs": [],
   "source": [
    "import numpy as np"
   ]
  },
  {
   "cell_type": "code",
   "execution_count": null,
   "id": "778367ac-7f24-401d-b987-4f6436610bc2",
   "metadata": {},
   "outputs": [],
   "source": [
    "from matplotlib import cm"
   ]
  },
  {
   "cell_type": "code",
   "execution_count": null,
   "id": "60c77d00-06fd-43cd-b563-882a2ec66302",
   "metadata": {},
   "outputs": [],
   "source": [
    "from itertools import combinations"
   ]
  },
  {
   "cell_type": "code",
   "execution_count": null,
   "id": "f8efe797-12c4-4915-bc38-5804094234ea",
   "metadata": {},
   "outputs": [],
   "source": [
    "from matplotlib import colormaps"
   ]
  },
  {
   "cell_type": "code",
   "execution_count": null,
   "id": "b68c030b-d491-4c23-88ef-807f8773d5f0",
   "metadata": {},
   "outputs": [],
   "source": [
    "import networkx as nx"
   ]
  },
  {
   "cell_type": "code",
   "execution_count": null,
   "id": "90539404-3001-4123-a633-2415e3682c2b",
   "metadata": {},
   "outputs": [],
   "source": [
    "import matplotlib.pyplot as plt"
   ]
  },
  {
   "cell_type": "code",
   "execution_count": null,
   "id": "1c5a9481-806b-4822-b83d-382705c21470",
   "metadata": {},
   "outputs": [],
   "source": [
    "import plotly.graph_objects as go"
   ]
  },
  {
   "cell_type": "code",
   "execution_count": null,
   "id": "702bfb5f-1d9e-4e81-a7a8-f457f173df0e",
   "metadata": {},
   "outputs": [],
   "source": [
    "import seaborn as sns"
   ]
  },
  {
   "cell_type": "markdown",
   "id": "0faf04d9-42de-43d7-a41c-b91abd864826",
   "metadata": {},
   "source": [
    "# Analysis CDR methods"
   ]
  },
  {
   "cell_type": "markdown",
   "id": "87513c0b-b1ad-4fc6-bfcb-52a72b1347e4",
   "metadata": {
    "tags": []
   },
   "source": [
    "### 0 Data preparation"
   ]
  },
  {
   "cell_type": "markdown",
   "id": "9d835e5a-65fb-40ac-92fa-abae0ddce904",
   "metadata": {
    "tags": []
   },
   "source": [
    "#### 0.1 Import files"
   ]
  },
  {
   "cell_type": "code",
   "execution_count": null,
   "id": "a93d80c8-2a9d-440a-9bd8-7633bd47b837",
   "metadata": {},
   "outputs": [],
   "source": [
    "df = pd.read_excel(\"MRVdata_0810.xlsx\")\n",
    "pd.options.display.max_columns = None\n",
    "#display(df)\n",
    "#code above: shows excel table"
   ]
  },
  {
   "cell_type": "code",
   "execution_count": null,
   "id": "3bcbb39e-9da7-48c2-820e-22733dc6dbf0",
   "metadata": {},
   "outputs": [],
   "source": [
    "# read excel file with continent data \n",
    "continent_data = pd.read_excel('continents.xlsx')"
   ]
  },
  {
   "cell_type": "markdown",
   "id": "69bb4572-12b1-4202-9db1-d158e1fb8578",
   "metadata": {
    "tags": []
   },
   "source": [
    "#### 0.2 Exclusion of data"
   ]
  },
  {
   "cell_type": "code",
   "execution_count": null,
   "id": "155f9b38-e16d-4259-a36c-d635f14f9635",
   "metadata": {},
   "outputs": [],
   "source": [
    "# filter data frame to exclude studies from 2024\n",
    "df_filtered = df[df['Year'] != 2024]"
   ]
  },
  {
   "cell_type": "code",
   "execution_count": null,
   "id": "f1977f7d-47c1-472f-b226-8544bac0aac2",
   "metadata": {},
   "outputs": [],
   "source": [
    "df_included = df_filtered[df_filtered['Inclusion/exclusion'] == 'Inclusion'] # new dataframe defined to exclude studies without access or excluded papers\n",
    "#controll new data frame\n",
    "#df_included['Inclusion/exclusion'].value_counts()"
   ]
  },
  {
   "cell_type": "markdown",
   "id": "1230f9ea-9041-409c-aff7-21c43d3be3e6",
   "metadata": {
    "tags": []
   },
   "source": [
    "#### 0.3 Change study location to continent"
   ]
  },
  {
   "cell_type": "code",
   "execution_count": null,
   "id": "5d9c0773-ad05-4fa6-a56e-97d92fedd87a",
   "metadata": {},
   "outputs": [],
   "source": [
    "# create a dictionary for the assignment of countries to continents\n",
    "country_to_continent = dict(zip(continent_data['Country'], continent_data['Continent']))\n",
    "\n",
    "# Function to determine the continent based on the country\n",
    "def get_continent(study_location, continent_column): #part of the function, not column names of the df; will be defined later when function is applied\n",
    "    if pd.isna(study_location):\n",
    "        return \"Not specified\"\n",
    "    if study_location == \"Multiple countries\":\n",
    "        return continent_column  # uses the manually definied continents for the category \"Multiple countries\"\n",
    "    return country_to_continent.get(study_location.strip(), \"Not specified\")  # Search for the country in the dictionary and return the continent or 'not specified'\n",
    "\n",
    "# avoid warning\n",
    "df_included = df_included.copy()\n",
    "\n",
    "# apply function to df_included\n",
    "df_included['Study location_continent'] = df_included.apply(\n",
    "    lambda row: get_continent(row['Study location'], row['Study location: Continent']),\n",
    "    axis=1\n",
    ")\n",
    "\n",
    "#pd.options.display.max_columns = None\n",
    "#display(df_included)"
   ]
  },
  {
   "cell_type": "markdown",
   "id": "7b8ea913-9376-47b1-8738-33243dd6eec0",
   "metadata": {
    "tags": []
   },
   "source": [
    "#### 0.4 Group CDR method and color scheme"
   ]
  },
  {
   "cell_type": "code",
   "execution_count": null,
   "id": "c06b45eb-a417-4929-9779-58e781d95c60",
   "metadata": {},
   "outputs": [],
   "source": [
    "#columns with all CDR methods\n",
    "CDR_columns = ['BECCS', 'General forestry', 'A/R', 'Agroforestry', 'Forest management', 'DACCS', 'EW', 'OAE', 'OIF/AU', 'Biochar', 'SCS', 'Blue carbon', 'Restoration of landscapes and peats', 'CCUS', 'Other', 'General CDR', 'DOC', 'Algae ', 'CCS']"
   ]
  },
  {
   "cell_type": "code",
   "execution_count": null,
   "id": "811b36e9-b129-4b79-b57c-904c07ba9a07",
   "metadata": {},
   "outputs": [],
   "source": [
    "# Define the custom color scheme for each CDR method\n",
    "custom_colors_CDR_method = {\n",
    "    'BECCS': '#f4d6ae', 'General forestry': '#bcbd22', 'A/R': '#aab792', \n",
    "    'Agroforestry': '#e9ede2', 'Forest management': '#d2bfac', 'DACCS': '#dd7500',\n",
    "    'EW': '#d6b8c1', 'OAE': '#ecf1f9', 'OIF/AU': '#709fca', 'Biochar': '#b7768bff',\n",
    "    'SCS': '#769112', 'Blue carbon': '#d8e3f1', 'Restoration of landscapes and peats': '#d3dbc7',\n",
    "    'CCUS': '#b55d00', 'Other': '#e5e5e5', 'General CDR': '#e5b138', 'DOC': '#17becf',\n",
    "    'Algae ': '#2ca02c', 'CCS': '#d62728'\n",
    "}"
   ]
  },
  {
   "cell_type": "markdown",
   "id": "fc12ef1c-3899-40d8-a69d-8c8e18301394",
   "metadata": {
    "jp-MarkdownHeadingCollapsed": true,
    "tags": []
   },
   "source": [
    "#### 0.5 Group MRV topics and color scheme"
   ]
  },
  {
   "cell_type": "code",
   "execution_count": null,
   "id": "3b1221bd-5ecf-4beb-8cd8-6582d7212233",
   "metadata": {},
   "outputs": [],
   "source": [
    "#columns with all MRV topics\n",
    "MRV_columns = ['General MRV', 'Quantification', 'Monitoring', 'Quality', 'Governance', 'Reporting', 'Verification', 'External impacts']"
   ]
  },
  {
   "cell_type": "code",
   "execution_count": null,
   "id": "e1d60553-c804-49a2-8f33-75eae1edd4a5",
   "metadata": {},
   "outputs": [],
   "source": [
    "# Define the new custom color scheme for MRV topics\n",
    "mrv_topic_colors = {\n",
    "    'General MRV': '#e5b138',      # muted yellow\n",
    "    'Quantification': '#7da7b8',   # darker bluish-grey\n",
    "    'Monitoring': '#8dc39f',        # stronger soft green\n",
    "    'Quality': '#c76a85',           # berry red\n",
    "    'Governance': '#b39bc8',        # stronger lavender\n",
    "    'Reporting': '#e1a6b8',         # stronger soft pink\n",
    "    'Verification': '#a8a8a8',      # medium grey\n",
    "    'External impacts': '#d0c97b'   # stronger soft yellow\n",
    "}"
   ]
  },
  {
   "cell_type": "markdown",
   "id": "6f828e28-6cf8-4a5a-bb9e-9dd78be5cf83",
   "metadata": {
    "jp-MarkdownHeadingCollapsed": true,
    "tags": []
   },
   "source": [
    "#### 0.6 Dataset explosion"
   ]
  },
  {
   "cell_type": "code",
   "execution_count": null,
   "id": "66f3c142-279c-4db6-bf24-5b36128c06b9",
   "metadata": {},
   "outputs": [],
   "source": [
    "#add new column for CDR method and study focus in the dataset\n",
    "def extract_CDR_method_focus(row):\n",
    "    CDR_method = []\n",
    "    CDR_focus = []\n",
    "    \n",
    "    for column in CDR_columns:  # previously defined list with columns that contain CDR methods\n",
    "        if row[column] > 0:\n",
    "            CDR_method.append(column)\n",
    "            CDR_focus.append(row[column])\n",
    "    \n",
    "    return pd.Series([CDR_method, CDR_focus])\n",
    "\n",
    "# new copy of the data set to avoid warning\n",
    "df_included = df_included.copy()\n",
    "\n",
    "# add new columns to the data frame\n",
    "df_included['CDR_method'] = df_included.apply(lambda row: extract_CDR_method_focus(row)[0], axis=1)\n",
    "df_included['CDR_focus'] = df_included.apply(lambda row: extract_CDR_method_focus(row)[1], axis=1)\n",
    "\n",
    "#display dataset to see if newly added columns are correct\n",
    "#pd.options.display.max_columns = None\n",
    "#display(df_included)"
   ]
  },
  {
   "cell_type": "code",
   "execution_count": null,
   "id": "e5928e9a-f7cd-4f15-bb80-2764f581cd23",
   "metadata": {},
   "outputs": [],
   "source": [
    "#add new column for MRV topic and study focus to the dataset\n",
    "def extract_MRV_topic_focus(row):\n",
    "    MRV_topic = []\n",
    "    MRV_focus = []\n",
    "    \n",
    "    for column in MRV_columns:  # previously defined list with columns that contain MRV topics\n",
    "        if row[column] > 0:\n",
    "            MRV_topic.append(column)\n",
    "            MRV_focus.append(row[column])\n",
    "    \n",
    "    return pd.Series([MRV_topic, MRV_focus])\n",
    "\n",
    "# new copy of the data set to avoid warning\n",
    "df_included = df_included.copy()\n",
    "\n",
    "# add new columns to the data frame\n",
    "df_included['MRV_topic'] = df_included.apply(lambda row: extract_MRV_topic_focus(row)[0], axis=1)\n",
    "df_included['MRV_focus'] = df_included.apply(lambda row: extract_MRV_topic_focus(row)[1], axis=1)\n",
    "\n",
    "#display dataset to see if newly added columns are correct\n",
    "#pd.options.display.max_columns = None\n",
    "#display(df_included)"
   ]
  },
  {
   "cell_type": "code",
   "execution_count": null,
   "id": "20acc39f-d26d-4591-8399-3299b299cec9",
   "metadata": {},
   "outputs": [],
   "source": [
    "# explode CDR method and focus\n",
    "df_CDRexplode = df_included.explode(['CDR_method', 'CDR_focus'])\n",
    "\n",
    "# explode MRV topic and focus\n",
    "df_exploded = df_CDRexplode.explode(['MRV_topic', 'MRV_focus'])\n",
    "\n",
    "# every CDR method and every MRV topic is in one line (in combination with study focus)\n",
    "\n",
    "#display dataset to see if newly added columns are correct\n",
    "#pd.options.display.max_columns = None\n",
    "#display(df_exploded)"
   ]
  },
  {
   "cell_type": "markdown",
   "id": "b1faa43c-8a44-4e76-8aec-fc2f1f86ef91",
   "metadata": {
    "jp-MarkdownHeadingCollapsed": true,
    "tags": []
   },
   "source": [
    "#### 0.7 Definition CDR groups & color scheme"
   ]
  },
  {
   "cell_type": "code",
   "execution_count": null,
   "id": "7da27a10-130e-42e9-9385-f56c21f0b866",
   "metadata": {},
   "outputs": [],
   "source": [
    "# Group CDR Methods to marine, terrestrial, and CCS technologies. Keep A/R and SCS as individual technologies\n",
    "cdr_group_mapping = {\n",
    "     # Marine CDR group\n",
    "    \"OIF/AU\":\"Marine CDR\",\n",
    "    \"Blue carbon\": \"Marine CDR\",\n",
    "    \"OAE\": \"Marine CDR\",\n",
    "    \"DOC\": \"Marine CDR\",\n",
    "    \"Algae \": \"Marine CDR\",\n",
    "    \n",
    "    # Terrestrial CDR group\n",
    "    \"EW\": \"Terrestrial CDR\",\n",
    "    \"Biochar\": \"Terrestrial CDR\",\n",
    "    \"Restoration of landscapes and peats\": \"Terrestrial CDR\",\n",
    "    \n",
    "    # CCS group\n",
    "    \"DACCS\": \"CCS\",\n",
    "    \"BECCS\": \"CCS\",\n",
    "    \"CCUS\": \"CCS\",\n",
    "    \"CCS\": \"CCS\",\n",
    "    \n",
    "    # General CDR/Other group\n",
    "    \"General CDR\": \"General CDR/Other\",\n",
    "    \"Other\": \"General CDR/Other\",\n",
    "\n",
    "    # SCS\n",
    "    \"SCS\": \"SCS\",\n",
    "\n",
    "    # Forestry\n",
    "    \"General forestry\": \"Forestry\",\n",
    "    \"A/R\": \"Forestry\",\n",
    "    \"Agroforestry\": \"Forestry\",\n",
    "    \"Forest management\": \"Forestry\",\n",
    "}\n",
    "# Create a new column ‘CDR_group’ in df_exploded based on the ‘CDR_method’ column\n",
    "df_exploded['CDR_group'] = df_exploded['CDR_method'].map(cdr_group_mapping)\n",
    "\n",
    "# Display the updated DataFrame\n",
    "#pd.options.display.max_columns = None  # Show all columns\n",
    "#display(df_exploded)"
   ]
  },
  {
   "cell_type": "code",
   "execution_count": null,
   "id": "be665efd-6ca7-4208-b474-85bfe4d4cf36",
   "metadata": {},
   "outputs": [],
   "source": [
    "# Define the custom color scheme for each CDR group\n",
    "cdr_group_colors = {\n",
    "    \"Marine CDR\": '#7eaed3',    # bluew for Marine CDR\n",
    "    \"Terrestrial CDR\": '#b2df8a',  # green for Terrestrial CDR\n",
    "    \"CCS\": '#ff7f00',            # orange for CCS\n",
    "    \"General CDR/Other\": '#e5e5e5', # grey for General/Other\n",
    "    \"SCS\": '#C1A28A' ,            # brown for SCS\n",
    "    \"Forestry\": '#8fbc8f'         # green for Forestry\n",
    "}\n"
   ]
  },
  {
   "cell_type": "markdown",
   "id": "16fbeaee-186b-4a65-92ab-71e199b258ca",
   "metadata": {},
   "source": [
    "### 1 Exploded dataset: Focus per CDR technology"
   ]
  },
  {
   "cell_type": "markdown",
   "id": "851d338c-53f3-4cc8-9e2c-93f25a8eef12",
   "metadata": {
    "jp-MarkdownHeadingCollapsed": true,
    "tags": []
   },
   "source": [
    "#### Figure 1: CDR technologies by study focus"
   ]
  },
  {
   "cell_type": "code",
   "execution_count": null,
   "id": "5eb83fbe-fa7a-4150-a16d-0bb6fbae8bac",
   "metadata": {},
   "outputs": [],
   "source": [
    "# Get the counts of each CDR_focus per CDR_method\n",
    "df_counts = df_exploded.groupby(['CDR_method', 'CDR_focus'], observed=False).size().unstack(fill_value=0)\n",
    "\n",
    "# Plotting\n",
    "fig, ax = plt.subplots(figsize=(8, 6))\n",
    "\n",
    "# Stacked bar plot\n",
    "df_counts.plot(kind='bar', stacked=True, ax=ax, color=['#87CEEB', '#6CA6CD', '#4A708B'])\n",
    "\n",
    "# Customizing plot\n",
    "ax.set_xlabel('CDR Method')\n",
    "ax.set_ylabel('Count')\n",
    "ax.set_title('Stacked Bar Plot of CDR Technologies by Focus')\n",
    "plt.xticks(rotation=90)\n",
    "legend_cdrfocus = ['Main focus', 'Side focus', 'Framing']\n",
    "plt.legend(legend_cdrfocus, title='CDR Focus', bbox_to_anchor=(1.05, 1), loc='upper left')  # Legend outside the plot\n",
    "plt.tight_layout()\n",
    "plt.show()"
   ]
  },
  {
   "cell_type": "markdown",
   "id": "84b7289a-af08-4572-beb6-75344236c90f",
   "metadata": {},
   "source": [
    "### 2 Exploded dataset: CDR method & study location"
   ]
  },
  {
   "cell_type": "markdown",
   "id": "56d7b6f0-7ef7-4861-974d-5325c6ef3521",
   "metadata": {},
   "source": [
    "#### Figure 2: CDR Technologies per Location"
   ]
  },
  {
   "cell_type": "code",
   "execution_count": null,
   "id": "51962321-a7a9-442d-95c7-b6a48d95ebdf",
   "metadata": {},
   "outputs": [],
   "source": [
    "# Set the order of continents to be shown on the x-axis\n",
    "desired_order = ['Africa', 'Asia', 'Europe', 'North America', 'South America', 'Oceania', 'USA', 'China', 'Global', 'Not specified']  \n",
    "\n",
    "# Convert the Study location_continent column to a categorical type with the specified order\n",
    "df_exploded['Study location_continent'] = pd.Categorical(\n",
    "    df_exploded['Study location_continent'],\n",
    "    categories=desired_order,\n",
    "    ordered=True\n",
    ")\n",
    "\n",
    "# Set the order of CDR technologies to be shown in the bars\n",
    "desired_order_CDR = ['BECCS', 'DACCS', 'CCS', 'CCUS','SCS', 'A/R', 'Forest management', 'General forestry', \n",
    "                     'Restoration of landscapes and peats', 'Agroforestry', 'Biochar', 'EW', 'OAE', 'Blue carbon', 'OIF/AU',\n",
    "                     'DOC', 'Algae ', 'General CDR', 'Other']\n",
    "\n",
    "# Convert the Study location_continent column to a categorical type with the specified order\n",
    "df_exploded['CDR_method'] = pd.Categorical(\n",
    "    df_exploded['CDR_method'],\n",
    "    categories=desired_order_CDR,\n",
    "    ordered=True\n",
    ")\n",
    "\n",
    "# Group by continent and CDR method, and count occurrences\n",
    "continent_method_counts = df_exploded.groupby(['Study location_continent', 'CDR_method'], observed=False).size().reset_index(name='Count')\n",
    "\n",
    "# Pivot the data for the stacked bar plot\n",
    "pivot_data = continent_method_counts.pivot(index='Study location_continent', columns='CDR_method', values='Count').fillna(0)\n",
    "\n",
    "# Create a stacked bar plot\n",
    "pivot_data.plot(kind='bar', stacked=True, figsize=(12, 8), color=custom_colors_CDR_method)\n",
    "\n",
    "plt.title(\"CDR technologies analyzed per Location\")\n",
    "plt.xlabel(\"Location\")\n",
    "plt.ylabel(\"Count of  CDR technologies\")\n",
    "plt.xticks(rotation=45)\n",
    "plt.legend(title=\" CDR technologies\", bbox_to_anchor=(1.05, 1), loc='upper left')\n",
    "plt.tight_layout()\n",
    "plt.show()"
   ]
  },
  {
   "cell_type": "markdown",
   "id": "56768835-3f7a-4918-bb24-65293ddd360b",
   "metadata": {
    "jp-MarkdownHeadingCollapsed": true
   },
   "source": [
    "#### Figure 3: CDR groups per Location"
   ]
  },
  {
   "cell_type": "code",
   "execution_count": null,
   "id": "6dfc7ca4-60a9-446f-a3f6-9b114bfcc6d7",
   "metadata": {},
   "outputs": [],
   "source": [
    "# Set the order of continents to be shown on the x-axis\n",
    "desired_order = ['Africa', 'Asia', 'Europe', 'North America', 'South America', 'Oceania', 'USA', 'China', 'Global', 'Not specified']  \n",
    "\n",
    "# Convert the Study location_continent column to a categorical type with the specified order\n",
    "df_exploded['Study location_continent'] = pd.Categorical(\n",
    "    df_exploded['Study location_continent'],\n",
    "    categories=desired_order,\n",
    "    ordered=True\n",
    ")\n",
    "\n",
    "# Group by continent and CDR method, and count occurrences (with observed=False to silence warning)\n",
    "continent_method_counts = df_exploded.groupby(['Study location_continent', 'CDR_group'], observed=False).size().reset_index(name='Count')\n",
    "\n",
    "# Pivot the data for the stacked bar plot\n",
    "pivot_data = continent_method_counts.pivot(index='Study location_continent', columns='CDR_group', values='Count').fillna(0)\n",
    "\n",
    "# Create a stacked bar plot\n",
    "pivot_data.plot(kind='bar', stacked=True, figsize=(12, 8), color=cdr_group_colors)\n",
    "plt.title(\"CDR Methods Analyzed per Continent\")\n",
    "plt.xlabel(\"Continents/Countries\")\n",
    "plt.ylabel(\"Count of grouped CDR Methods\")\n",
    "plt.xticks(rotation=45)\n",
    "plt.legend(title=\"Grouped CDR Methods\", bbox_to_anchor=(1.05, 1), loc='upper left')\n",
    "plt.tight_layout()\n",
    "plt.show()"
   ]
  },
  {
   "cell_type": "markdown",
   "id": "14504aeb-39f8-43a2-8ad3-e4ffa63b354d",
   "metadata": {},
   "source": [
    "### 3 Exploded dataset: Which CDR methods are analyzed together?"
   ]
  },
  {
   "cell_type": "markdown",
   "id": "cc800da7-8be8-40da-8411-ae857c1c9177",
   "metadata": {
    "jp-MarkdownHeadingCollapsed": true
   },
   "source": [
    "#### 3.1 Data  preparation "
   ]
  },
  {
   "cell_type": "code",
   "execution_count": null,
   "id": "87e27a10-bf24-499f-b9cb-ec13811016fa",
   "metadata": {},
   "outputs": [],
   "source": [
    "# Group by 'Publication ID' and aggregate the unique CDR methods per publication\n",
    "grouped = df_exploded.groupby('Publication ID')['CDR_method'].unique()\n",
    "\n",
    "# Create pairs of CDR methods for each publication, including both directions\n",
    "pairs = []\n",
    "\n",
    "for methods in grouped:\n",
    "    # Create all possible combinations of CDR methods within each publication\n",
    "    for combo in combinations(methods, 2):\n",
    "        # Add both directions of the pair\n",
    "        pairs.append(combo)  # Method 1 -> Method 2\n",
    "        pairs.append(combo[::-1])  # Method 2 -> Method 1 (reverse)\n",
    "\n",
    "# Create a DataFrame of pairs and count the occurrences\n",
    "pair_counts_CDR = pd.DataFrame(pairs, columns=['Method 1', 'Method 2']).value_counts().reset_index(name='Count')\n",
    "\n",
    "# Display the results\n",
    "# print(pair_counts_CDR)"
   ]
  },
  {
   "cell_type": "code",
   "execution_count": null,
   "id": "51fb7638-12e3-4b96-84a0-887bc1bd52fe",
   "metadata": {},
   "outputs": [],
   "source": [
    "# Group by 'Publication ID' and aggregate the unique CDR groups per publication\n",
    "grouped = df_exploded.groupby('Publication ID')['CDR_group'].unique()\n",
    "\n",
    "# Create pairs of CDR groups for each publication, including both directions\n",
    "pairs = []\n",
    "\n",
    "for methods in grouped:\n",
    "    # Create all possible combinations of CDR groups within each publication\n",
    "    for combo in combinations(methods, 2):\n",
    "        # Add both directions of the pair\n",
    "        pairs.append(combo)  # Method 1 -> Method 2\n",
    "        pairs.append(combo[::-1])  # Method 2 -> Method 1 (reverse)\n",
    "\n",
    "# Create a DataFrame of pairs and count the occurrences\n",
    "pair_counts_CDR_group = pd.DataFrame(pairs, columns=['Method 1', 'Method 2']).value_counts().reset_index(name='Count')\n",
    "\n",
    "# Display the results\n",
    "#print(pair_counts_CDR_group)"
   ]
  },
  {
   "cell_type": "markdown",
   "id": "67ac1881-d690-4994-ba57-af51c6020729",
   "metadata": {
    "jp-MarkdownHeadingCollapsed": true
   },
   "source": [
    "#### Figure 4: Network Graph for CDR methods"
   ]
  },
  {
   "cell_type": "code",
   "execution_count": null,
   "id": "81134fc5-b63c-4c9b-bde9-c92ed8cfa505",
   "metadata": {},
   "outputs": [],
   "source": [
    "# Create a graph from the pair counts\n",
    "G = nx.Graph()\n",
    "\n",
    "# Add edges to the graph, with the weight being the count of co-occurrence\n",
    "for _, row in pair_counts_CDR.iterrows():\n",
    "    G.add_edge(row['Method 1'], row['Method 2'], weight=row['Count'])\n",
    "\n",
    "# Extract node colors based on the color mapping\n",
    "node_colors = [custom_colors_CDR_method.get(node, 'skyblue') for node in G.nodes]  # Default to 'skyblue' if the method is not found\n",
    "\n",
    "# Plot the network graph\n",
    "plt.figure(figsize=(10, 8))\n",
    "\n",
    "# Use edge weights to adjust the width of the edges\n",
    "edges = G.edges(data=True)\n",
    "weights = [edge[2]['weight'] for edge in edges]\n",
    "\n",
    "# Draw the graph with nodes, edges, and labels\n",
    "pos = nx.spring_layout(G, k=0.5, seed=42)  # Positioning the nodes\n",
    "nx.draw(G, pos, with_labels=True, node_color=node_colors, node_size=2000, font_size=10, edge_color='gray', width=weights)\n",
    "\n",
    "plt.title(\"Network graph showing which CDR Technologies are analyzed together\")\n",
    "plt.show()"
   ]
  },
  {
   "cell_type": "markdown",
   "id": "76668255-8504-492b-93e6-9cf7dc8c3cb1",
   "metadata": {
    "jp-MarkdownHeadingCollapsed": true
   },
   "source": [
    "#### Figure 5: Heatmap for CDR methods"
   ]
  },
  {
   "cell_type": "code",
   "execution_count": null,
   "id": "26f66e39-267e-4cbd-87eb-1258c8749f02",
   "metadata": {},
   "outputs": [],
   "source": [
    "# Calculate the count of individual CDR methods analyzed\n",
    "individual_counts = df_exploded['CDR_method'].value_counts()\n",
    "\n",
    "# Create a DataFrame for individual counts\n",
    "individual_counts_df = pd.DataFrame(individual_counts).reset_index()\n",
    "individual_counts_df.columns = ['CDR_method', 'Count']\n",
    "\n",
    "# Create a pivot table for pair counts\n",
    "heatmap_data = pair_counts_CDR.pivot(index='Method 1', columns='Method 2', values='Count').fillna(0)\n",
    "\n",
    "# Add individual counts to the diagonal\n",
    "for method in heatmap_data.index:\n",
    "    if method in individual_counts_df['CDR_method'].values:\n",
    "        heatmap_data.loc[method, method] = individual_counts_df.loc[individual_counts_df['CDR_method'] == method, 'Count'].values[0]\n",
    "\n",
    "# Create a heatmap\n",
    "plt.figure(figsize=(10, 8))\n",
    "sns.heatmap(heatmap_data, annot=True, cmap=\"Blues\", linewidths=.5)\n",
    "\n",
    "plt.title(\"Co-occurrence Heatmap of CDR Methods (Both Directions)\")\n",
    "plt.show()"
   ]
  },
  {
   "cell_type": "markdown",
   "id": "dc85e084-ccd5-4951-8640-f1ab96e9ac54",
   "metadata": {
    "jp-MarkdownHeadingCollapsed": true
   },
   "source": [
    "#### Figure 6: Heatmap for CDR groups"
   ]
  },
  {
   "cell_type": "code",
   "execution_count": null,
   "id": "edb1df58-a3f3-4dc9-bcd7-e5fb84eb7fa2",
   "metadata": {},
   "outputs": [],
   "source": [
    "# Calculate the count of individual CDR groups analyzed\n",
    "individual_counts_group = df_exploded['CDR_group'].value_counts()\n",
    "\n",
    "# Create a DataFrame for individual counts\n",
    "individual_counts_group_df = pd.DataFrame(individual_counts_group).reset_index()\n",
    "individual_counts_group_df.columns = ['CDR_group', 'Count']\n",
    "\n",
    "# Create a pivot table for pair counts\n",
    "heatmap_data_group = pair_counts_CDR_group.pivot(index='Method 1', columns='Method 2', values='Count').fillna(0)\n",
    "\n",
    "# Add individual counts to the diagonal\n",
    "for method in heatmap_data_group.index:\n",
    "    if method in individual_counts_group_df['CDR_group'].values:\n",
    "        heatmap_data_group.loc[method, method] = individual_counts_group_df.loc[individual_counts_group_df['CDR_group'] == method, 'Count'].values[0]\n",
    "\n",
    "# Create a heatmap\n",
    "plt.figure(figsize=(10, 8))\n",
    "sns.heatmap(heatmap_data_group, annot=True, cmap=\"Blues\", linewidths=.5)\n",
    "\n",
    "plt.title(\"Co-occurrence Heatmap of CDR Groups (Both Directions)\")\n",
    "plt.show()"
   ]
  },
  {
   "cell_type": "markdown",
   "id": "e5ddd594-2e2b-42a6-8b5c-2448dce5a149",
   "metadata": {
    "jp-MarkdownHeadingCollapsed": true
   },
   "source": [
    "#### Figure 7: Heatmap including focus level"
   ]
  },
  {
   "cell_type": "code",
   "execution_count": null,
   "id": "7d46eb69-a1c6-44d2-8b80-baf4bfbe1345",
   "metadata": {},
   "outputs": [],
   "source": [
    "# Convert the CDR_focus column to integers, converting non-numeric values to NaN\n",
    "df_exploded['CDR_focus'] = pd.to_numeric(df_exploded['CDR_focus'], errors='coerce').astype('Int64')"
   ]
  },
  {
   "cell_type": "code",
   "execution_count": null,
   "id": "b1d90319-d2dd-4696-aff9-9071ba7803ab",
   "metadata": {},
   "outputs": [],
   "source": [
    "# Create separate DataFrames for main focus (CDR_focus = 1) and side focus (CDR_focus = 2)\n",
    "main_focus_df = df_exploded[df_exploded['CDR_focus'] == 1][['Publication ID', 'CDR_method']].rename(columns={'CDR_method': 'CDR_method_main'})\n",
    "side_focus_df = df_exploded[df_exploded['CDR_focus'] == 2][['Publication ID', 'CDR_method']].rename(columns={'CDR_method': 'CDR_method_side'})\n",
    "\n",
    "# Merge the main and side focus DataFrames on 'Publication ID'\n",
    "# This merge keeps only publications that have both a main focus and a side focus\n",
    "merged_df = pd.merge(main_focus_df, side_focus_df, on='Publication ID')\n",
    "\n",
    "# Remove duplicates to ensure each publication is only counted once\n",
    "# Drop duplicate rows based on Publication ID and the CDR_method_main/CDR_method_side combination\n",
    "deduped_df = merged_df.drop_duplicates(subset=['Publication ID', 'CDR_method_main', 'CDR_method_side'])\n",
    "\n",
    "# Create the pivot table to show relationships between main and side focuses\n",
    "# Index represents CDR_method_main (y-axis), columns represent CDR_method_side (x-axis)\n",
    "pivot_table = deduped_df.pivot_table(index='CDR_method_main', columns='CDR_method_side', aggfunc='size', fill_value=0)\n",
    "\n",
    "# Display the pivot table\n",
    "#print(\"Pivot table with unique publications counted:\\n\", pivot_table)\n",
    "\n",
    "plt.figure(figsize=(10, 8))\n",
    "sns.heatmap(pivot_table, annot=True, cmap=\"Blues\", linewidths=.5)\n",
    "plt.title(\"Main Focus vs Side Focus CDR Methods (Unique Publications)\")\n",
    "plt.xlabel(\"Side Focus (CDR_focus = 2)\")\n",
    "plt.ylabel(\"Main Focus (CDR_focus = 1)\")\n",
    "plt.xticks(rotation=45)\n",
    "plt.tight_layout()\n",
    "plt.show()\n"
   ]
  },
  {
   "cell_type": "code",
   "execution_count": null,
   "id": "339562a9-0ddf-49dc-890b-efd361ba25e6",
   "metadata": {},
   "outputs": [],
   "source": []
  },
  {
   "cell_type": "code",
   "execution_count": null,
   "id": "a9936044-855b-4462-ad9f-929d4bc84695",
   "metadata": {},
   "outputs": [],
   "source": []
  },
  {
   "cell_type": "code",
   "execution_count": null,
   "id": "06d39358-c5d2-4b8b-9c84-7cdeb2e4af7d",
   "metadata": {},
   "outputs": [],
   "source": []
  },
  {
   "cell_type": "code",
   "execution_count": null,
   "id": "bfa0f385-22e8-49da-8236-3f6ba72c1763",
   "metadata": {},
   "outputs": [],
   "source": []
  }
 ],
 "metadata": {
  "kernelspec": {
   "display_name": "Python 3 (ipykernel)",
   "language": "python",
   "name": "python3"
  },
  "language_info": {
   "codemirror_mode": {
    "name": "ipython",
    "version": 3
   },
   "file_extension": ".py",
   "mimetype": "text/x-python",
   "name": "python",
   "nbconvert_exporter": "python",
   "pygments_lexer": "ipython3",
   "version": "3.8.10"
  }
 },
 "nbformat": 4,
 "nbformat_minor": 5
}
