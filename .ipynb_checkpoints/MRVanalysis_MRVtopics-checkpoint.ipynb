{
 "cells": [
  {
   "cell_type": "markdown",
   "id": "d1510fca-79a4-477d-b2d0-bcda82db9b5a",
   "metadata": {},
   "source": [
    "# Tools"
   ]
  },
  {
   "cell_type": "code",
   "execution_count": null,
   "id": "20255c29-074c-4a74-a278-61ba94c1de3b",
   "metadata": {
    "scrolled": true
   },
   "outputs": [],
   "source": [
    "import pandas as pd"
   ]
  },
  {
   "cell_type": "code",
   "execution_count": null,
   "id": "ef5655fd-cf8a-4c72-a3dd-18a7f901574c",
   "metadata": {},
   "outputs": [],
   "source": [
    "from IPython.display import display"
   ]
  },
  {
   "cell_type": "code",
   "execution_count": null,
   "id": "b863fa21-86d1-4abb-85d6-a5a4ac103089",
   "metadata": {},
   "outputs": [],
   "source": [
    "import matplotlib.pyplot as plt"
   ]
  },
  {
   "cell_type": "code",
   "execution_count": null,
   "id": "1f0f20fc-e542-43bb-9cb9-1a6d947d0fd7",
   "metadata": {},
   "outputs": [],
   "source": [
    "import numpy as np"
   ]
  },
  {
   "cell_type": "code",
   "execution_count": null,
   "id": "778367ac-7f24-401d-b987-4f6436610bc2",
   "metadata": {},
   "outputs": [],
   "source": [
    "from matplotlib import cm"
   ]
  },
  {
   "cell_type": "code",
   "execution_count": null,
   "id": "60c77d00-06fd-43cd-b563-882a2ec66302",
   "metadata": {},
   "outputs": [],
   "source": [
    "from itertools import combinations"
   ]
  },
  {
   "cell_type": "code",
   "execution_count": null,
   "id": "f8efe797-12c4-4915-bc38-5804094234ea",
   "metadata": {},
   "outputs": [],
   "source": [
    "from matplotlib import colormaps"
   ]
  },
  {
   "cell_type": "code",
   "execution_count": null,
   "id": "b68c030b-d491-4c23-88ef-807f8773d5f0",
   "metadata": {},
   "outputs": [],
   "source": [
    "import networkx as nx"
   ]
  },
  {
   "cell_type": "code",
   "execution_count": null,
   "id": "90539404-3001-4123-a633-2415e3682c2b",
   "metadata": {},
   "outputs": [],
   "source": [
    "import matplotlib.pyplot as plt"
   ]
  },
  {
   "cell_type": "code",
   "execution_count": null,
   "id": "1c5a9481-806b-4822-b83d-382705c21470",
   "metadata": {},
   "outputs": [],
   "source": [
    "import plotly.graph_objects as go"
   ]
  },
  {
   "cell_type": "code",
   "execution_count": null,
   "id": "702bfb5f-1d9e-4e81-a7a8-f457f173df0e",
   "metadata": {},
   "outputs": [],
   "source": [
    "import seaborn as sns"
   ]
  },
  {
   "cell_type": "markdown",
   "id": "0faf04d9-42de-43d7-a41c-b91abd864826",
   "metadata": {},
   "source": [
    "# Main codes"
   ]
  },
  {
   "cell_type": "code",
   "execution_count": null,
   "id": "c3d2bce1-2289-4ae9-9e26-54b39a2e889b",
   "metadata": {},
   "outputs": [],
   "source": [
    "df_exploded"
   ]
  },
  {
   "cell_type": "code",
   "execution_count": null,
   "id": "6ca10cda-bfe8-4f38-9287-61f80c120346",
   "metadata": {},
   "outputs": [],
   "source": [
    "df_exploded.info()"
   ]
  },
  {
   "cell_type": "markdown",
   "id": "87513c0b-b1ad-4fc6-bfcb-52a72b1347e4",
   "metadata": {},
   "source": [
    "### Import, view and exclude data"
   ]
  },
  {
   "cell_type": "code",
   "execution_count": null,
   "id": "a93d80c8-2a9d-440a-9bd8-7633bd47b837",
   "metadata": {},
   "outputs": [],
   "source": [
    "df = pd.read_excel(\"MRVdata_1709.xlsx\")\n",
    "pd.options.display.max_columns = None\n",
    "#display(df)\n",
    "#code above: shows excel table"
   ]
  },
  {
   "cell_type": "code",
   "execution_count": null,
   "id": "c54713dc-f28f-4a5c-a907-64b4291d4e11",
   "metadata": {},
   "outputs": [],
   "source": [
    "df['Inclusion/exclusion'].value_counts() \n",
    "#--> 205 studies included, 180 excluded, 14 no access"
   ]
  },
  {
   "cell_type": "code",
   "execution_count": null,
   "id": "155f9b38-e16d-4259-a36c-d635f14f9635",
   "metadata": {},
   "outputs": [],
   "source": [
    "# filter data frame to exclude studies from 2024\n",
    "df_filtered = df[df['Year'] != 2024]"
   ]
  },
  {
   "cell_type": "code",
   "execution_count": null,
   "id": "f1977f7d-47c1-472f-b226-8544bac0aac2",
   "metadata": {},
   "outputs": [],
   "source": [
    "df_included = df_filtered[df_filtered['Inclusion/exclusion'] == 'Inclusion'] # new dataframe defined to exclude studies without access or excluded papers\n",
    "df_included['Inclusion/exclusion'].value_counts()\n",
    "#code above: controll new data frame"
   ]
  },
  {
   "cell_type": "markdown",
   "id": "1230f9ea-9041-409c-aff7-21c43d3be3e6",
   "metadata": {},
   "source": [
    "### Study location"
   ]
  },
  {
   "cell_type": "code",
   "execution_count": null,
   "id": "d17d3ddd-7dd7-479c-88b8-de6a5ae70822",
   "metadata": {},
   "outputs": [],
   "source": [
    "df_included['Study location'].value_counts()\n",
    "#Results: most common study locations are not specified, multiple countries, US, China and Australia"
   ]
  },
  {
   "cell_type": "code",
   "execution_count": null,
   "id": "ca405ec1-fd50-4bf3-a808-231cf91f05f9",
   "metadata": {},
   "outputs": [],
   "source": [
    "df_included['Study location: specification'].value_counts()\n",
    "# Result: No specific pattern visible at first glance. Often neighbouring countries or definitions of maritime regions"
   ]
  },
  {
   "cell_type": "code",
   "execution_count": null,
   "id": "5d9c0773-ad05-4fa6-a56e-97d92fedd87a",
   "metadata": {},
   "outputs": [],
   "source": [
    "# read excel file with continent data \n",
    "continent_data = pd.read_excel('continents.xlsx')\n",
    "\n",
    "# create a dictionary for the assignment of countries to continents\n",
    "country_to_continent = dict(zip(continent_data['Country'], continent_data['Continent']))\n",
    "\n",
    "# Function to determine the continent based on the country\n",
    "def get_continent(study_location, continent_column): #part of the function, not column names of the df; will be defined later when function is applied\n",
    "    if pd.isna(study_location):\n",
    "        return \"Unknown\"\n",
    "    if study_location == \"Multiple countries\":\n",
    "        return continent_column  # uses the manually definied continents for the category \"Multiple countries\"\n",
    "    return country_to_continent.get(study_location.strip(), \"Not specified\")  # Search for the country in the dictionary and return the continent or 'not specified'\n",
    "\n",
    "# avoid warning\n",
    "df_included = df_included.copy()\n",
    "\n",
    "# apply function to df_included\n",
    "df_included['Study location_continent'] = df_included.apply(\n",
    "    lambda row: get_continent(row['Study location'], row['Study location: Continent']),\n",
    "    axis=1\n",
    ")\n",
    "\n",
    "#pd.options.display.max_columns = None\n",
    "#display(df_included)"
   ]
  },
  {
   "cell_type": "code",
   "execution_count": null,
   "id": "7dc24664-7c24-42e4-9ce8-95b5d765bca6",
   "metadata": {},
   "outputs": [],
   "source": [
    "df_included['Study location_continent'].value_counts()"
   ]
  },
  {
   "cell_type": "markdown",
   "id": "95498e78-cdac-4c04-95a5-dd102324f4b2",
   "metadata": {},
   "source": [
    "### Publication date"
   ]
  },
  {
   "cell_type": "code",
   "execution_count": null,
   "id": "c4596bda-bc31-4955-a86e-ca35f6cca085",
   "metadata": {},
   "outputs": [],
   "source": [
    "df_included.groupby('Year').size() # Results: most of our included studies were published 2019 and later"
   ]
  },
  {
   "cell_type": "code",
   "execution_count": null,
   "id": "d082aef9-84b4-4e51-afff-537bc7f167d8",
   "metadata": {},
   "outputs": [],
   "source": [
    "#papers per year\n",
    "papers_per_year = df_included['Year'].value_counts().sort_index()\n",
    "\n",
    "# bar chart for papers per year\n",
    "plt.figure(figsize=(10, 5))\n",
    "papers_per_year.plot(kind='bar', color='skyblue')\n",
    "plt.title('Number of MRV publications per year')\n",
    "plt.xlabel('year')\n",
    "plt.ylabel('publications')\n",
    "plt.grid(axis='y')\n",
    "plt.show()"
   ]
  },
  {
   "cell_type": "markdown",
   "id": "7b8ea913-9376-47b1-8738-33243dd6eec0",
   "metadata": {},
   "source": [
    "### CDR method and study focus"
   ]
  },
  {
   "cell_type": "code",
   "execution_count": null,
   "id": "c06b45eb-a417-4929-9779-58e781d95c60",
   "metadata": {},
   "outputs": [],
   "source": [
    "#columns with all CDR methods\n",
    "CDR_columns = ['BECCS', 'General forestry', 'A/R', 'Agroforestry', 'Forest management', 'DACCS', 'EW', 'OAE', 'OIF/AU', 'Biochar', 'SCS', 'Blue carbon', 'Restoration of landscapes and peats', 'CCUS', 'Other', 'General CDR', 'DOC', 'Algae ', 'CCS']"
   ]
  },
  {
   "cell_type": "code",
   "execution_count": null,
   "id": "5ce43c4a-5fc4-46e8-a200-b6c7c41b7987",
   "metadata": {},
   "outputs": [],
   "source": [
    "# nummber of main focus per CDR method\n",
    "CDR_maintopic = (df_included[CDR_columns] == 1).sum()\n",
    "CDR_maintopic_sorted = CDR_maintopic.sort_values(ascending=False)\n",
    "print(CDR_maintopic_sorted)\n",
    "# Result: A/R, SCS and EW are the most common CDR side topics used in the context of MRV"
   ]
  },
  {
   "cell_type": "code",
   "execution_count": null,
   "id": "3d616aae-4fd2-49a0-ac51-1bc21eaad26e",
   "metadata": {},
   "outputs": [],
   "source": [
    "#number of side topic per CDR method\n",
    "CDR_sidetopic = (df_included[CDR_columns] == 2).sum()\n",
    "CDR_sidetopic_sorted = CDR_sidetopic.sort_values(ascending=False)\n",
    "print(CDR_sidetopic_sorted)\n",
    "# Result: A/R, SCS and EW are the most common CDR side topics used in the context of MRV"
   ]
  },
  {
   "cell_type": "code",
   "execution_count": null,
   "id": "641728d9-d39d-4513-9c51-2baa629650e2",
   "metadata": {},
   "outputs": [],
   "source": [
    "# number of framings per CDR methods\n",
    "CDR_framing = (df_included[CDR_columns] == 3).sum()\n",
    "CDR_framing_sorted = CDR_framing.sort_values(ascending=False)\n",
    "#print(CDR_framing_sorted)\n",
    "# Result: BECCS, FM, Agroforestry, SCS and blue carbon rarely used as framings in the context of MRV"
   ]
  },
  {
   "cell_type": "code",
   "execution_count": null,
   "id": "dbadc36b-bdc9-4ed3-9c58-942a083e92fe",
   "metadata": {},
   "outputs": [],
   "source": [
    "# Results for all CDR technologies regardless if it is mentioned as main/sidetopic or framing\n",
    "CDR_method = (df_included[CDR_columns] > 0).sum()\n",
    "CDR_method_sorted = CDR_method.sort_values(ascending=False)\n",
    "print(CDR_method_sorted)\n",
    "# Decided to analyse year of publication, study location, etc. per CDR method, regardless of whether the method is only mentioned or the main topic of the articles (even if it is mentioned, the author had the intention to include the results of the study for that method)"
   ]
  },
  {
   "cell_type": "code",
   "execution_count": null,
   "id": "66f3c142-279c-4db6-bf24-5b36128c06b9",
   "metadata": {},
   "outputs": [],
   "source": [
    "#add new column for CDR method and study focus\n",
    "def extract_CDR_method_focus(row):\n",
    "    CDR_method = []\n",
    "    CDR_focus = []\n",
    "    \n",
    "    for column in CDR_columns:  # previously defined list with columns that contain CDR methods\n",
    "        if row[column] > 0:\n",
    "            CDR_method.append(column)\n",
    "            CDR_focus.append(row[column])\n",
    "    \n",
    "    return pd.Series([CDR_method, CDR_focus])\n",
    "\n",
    "# new copy of the data set to avoid warning\n",
    "df_included = df_included.copy()\n",
    "\n",
    "# add new columns to the data frame\n",
    "df_included['CDR_method'] = df_included.apply(lambda row: extract_CDR_method_focus(row)[0], axis=1)\n",
    "df_included['CDR_focus'] = df_included.apply(lambda row: extract_CDR_method_focus(row)[1], axis=1)\n",
    "\n",
    "#display dataset to see if newly added columns are correct\n",
    "#pd.options.display.max_columns = None\n",
    "#display(df_included)"
   ]
  },
  {
   "cell_type": "markdown",
   "id": "fc12ef1c-3899-40d8-a69d-8c8e18301394",
   "metadata": {},
   "source": [
    "### MRV topics and study focus"
   ]
  },
  {
   "cell_type": "code",
   "execution_count": null,
   "id": "3b1221bd-5ecf-4beb-8cd8-6582d7212233",
   "metadata": {},
   "outputs": [],
   "source": [
    "#columns with all MRV topics\n",
    "MRV_columns = ['General MRV', 'Quantification', 'Monitoring', 'Quality', 'Governance', 'Reporting', 'Verification', 'External impacts']"
   ]
  },
  {
   "cell_type": "code",
   "execution_count": null,
   "id": "c74b2fa1-a6a2-488d-935d-9904ef3818f5",
   "metadata": {},
   "outputs": [],
   "source": [
    "# nummber of main focus per MRV study topics\n",
    "MRV_maintopic = (df_included[MRV_columns] == 1).sum()\n",
    "MRV_maintopic_sorted = MRV_maintopic.sort_values(ascending=False)\n",
    "print(MRV_maintopic_sorted)\n",
    "# Result: Quantification is the main topic (in 165 studies), followed by Monitoring (18 studies) and Quality (15 studies)"
   ]
  },
  {
   "cell_type": "code",
   "execution_count": null,
   "id": "9be3dab1-08d9-4f94-9a19-1966d99d2b4a",
   "metadata": {},
   "outputs": [],
   "source": [
    "# nummber of side focus per MRV study topics\n",
    "MRV_maintopic = (df_included[MRV_columns] == 2).sum()\n",
    "MRV_maintopic_sorted = MRV_maintopic.sort_values(ascending=False)\n",
    "print(MRV_maintopic_sorted)\n",
    "# Result: Quantification is also the the main side focus (in 18 studies), followed by Monitoring (18 studies) and Quality (17 studies)"
   ]
  },
  {
   "cell_type": "code",
   "execution_count": null,
   "id": "e5928e9a-f7cd-4f15-bb80-2764f581cd23",
   "metadata": {},
   "outputs": [],
   "source": [
    "#add new column for MRV topic and study focus\n",
    "def extract_MRV_topic_focus(row):\n",
    "    MRV_topic = []\n",
    "    MRV_focus = []\n",
    "    \n",
    "    for column in MRV_columns:  # previously defined list with columns that contain MRV topics\n",
    "        if row[column] > 0:\n",
    "            MRV_topic.append(column)\n",
    "            MRV_focus.append(row[column])\n",
    "    \n",
    "    return pd.Series([MRV_topic, MRV_focus])\n",
    "\n",
    "# new copy of the data set to avoid warning\n",
    "df_included = df_included.copy()\n",
    "\n",
    "# add new columns to the data frame\n",
    "df_included['MRV_topic'] = df_included.apply(lambda row: extract_MRV_topic_focus(row)[0], axis=1)\n",
    "df_included['MRV_focus'] = df_included.apply(lambda row: extract_MRV_topic_focus(row)[1], axis=1)\n",
    "\n",
    "#display dataset to see if newly added columns are correct\n",
    "#pd.options.display.max_columns = None\n",
    "#display(df_included)"
   ]
  },
  {
   "cell_type": "markdown",
   "id": "1b34ed30-f9a6-47dc-9ea0-6f81f74badcd",
   "metadata": {},
   "source": [
    "### Exploded dataset: CDR method & MRV topic"
   ]
  },
  {
   "cell_type": "code",
   "execution_count": null,
   "id": "20acc39f-d26d-4591-8399-3299b299cec9",
   "metadata": {},
   "outputs": [],
   "source": [
    "# explode CDR method and focus\n",
    "df_CDRexplode = df_included.explode(['CDR_method', 'CDR_focus'])\n",
    "\n",
    "# explode MRV topic and focus\n",
    "df_exploded = df_CDRexplode.explode(['MRV_topic', 'MRV_focus'])\n",
    "\n",
    "# every CDR method and every MRV topic is in one line (in combination with study focus)\n",
    "\n",
    "#display dataset to see if newly added columns are correct\n",
    "#pd.options.display.max_columns = None\n",
    "#display(df_exploded)"
   ]
  },
  {
   "cell_type": "markdown",
   "id": "b6f8f0ab-6568-4135-ba49-e7f6555e707f",
   "metadata": {},
   "source": [
    "#### Exploded dataset: Group CDR methods"
   ]
  },
  {
   "cell_type": "code",
   "execution_count": null,
   "id": "8bb68728-52b7-4451-84c4-ab8a3e58d9e1",
   "metadata": {},
   "outputs": [],
   "source": [
    "# Group CDR Methods to marine, terrestrial, and CCS technologies. Keep A/R and SCS as individual technologies\n",
    "cdr_group_mapping = {\n",
    "     # Marine CDR group\n",
    "    \"OIF/AU\":\"Marine CDR\",\n",
    "    \"Blue carbon\": \"Marine CDR\",\n",
    "    \"OAE\": \"Marine CDR\",\n",
    "    \"DOC\": \"Marine CDR\",\n",
    "    \"Algae \": \"Marine CDR\",\n",
    "    \n",
    "    # Terrestrial CDR group\n",
    "    \"EW\": \"Terrestrial CDR\",\n",
    "    \"Biochar\": \"Terrestrial CDR\",\n",
    "    \"Restoration of landscapes and peats\": \"Terrestrial CDR\",\n",
    "    \n",
    "    # CCS group\n",
    "    \"DACCS\": \"CCS\",\n",
    "    \"BECCS\": \"CCS\",\n",
    "    \"CCUS\": \"CCS\",\n",
    "    \"CCS\": \"CCS\",\n",
    "    \n",
    "    # General CDR/Other group\n",
    "    \"General CDR\": \"General CDR/Other\",\n",
    "    \"Other\": \"General CDR/Other\",\n",
    "\n",
    "    # SCS\n",
    "    \"SCS\": \"SCS\",\n",
    "\n",
    "    # Forestry\n",
    "    \"General forestry\": \"Forestry\",\n",
    "    \"A/R\": \"Forestry\",\n",
    "    \"Agroforestry\": \"Forestry\",\n",
    "    \"Forest management\": \"Forestry\",\n",
    "}\n",
    "# Create a new column ‘CDR_group’ in df_exploded based on the ‘CDR_method’ column\n",
    "df_exploded['CDR_group'] = df_exploded['CDR_method'].map(cdr_group_mapping)\n",
    "\n",
    "# Display the updated DataFrame\n",
    "#pd.options.display.max_columns = None  # Show all columns\n",
    "#display(df_exploded)"
   ]
  },
  {
   "cell_type": "markdown",
   "id": "4dcf6324-0d9d-4492-8e08-f73537723f10",
   "metadata": {},
   "source": [
    "#### MRV topics per CDR method"
   ]
  },
  {
   "cell_type": "code",
   "execution_count": null,
   "id": "c21bf579-15e6-4d20-8e78-af1990cbea1b",
   "metadata": {},
   "outputs": [],
   "source": [
    "# group data for CDR method and MRV topic\n",
    "grouped_data = df_exploded.groupby(['CDR_method', 'MRV_topic']).size().reset_index(name='Count')\n",
    "\n",
    "# pivot tables\n",
    "pivot_table = grouped_data.pivot(index='CDR_method', columns='MRV_topic', values='Count').fillna(0)\n",
    "\n",
    "# sum MRV topics per CDR method and sort data \n",
    "pivot_table['Total'] = pivot_table.sum(axis=1)\n",
    "pivot_table = pivot_table.sort_values(by='Total', ascending=True)  # sort for total sum\n",
    "pivot_table = pivot_table.drop(columns='Total')  # remove column totoal sum\n",
    "\n",
    "# stacked bar chart\n",
    "fig, ax = plt.subplots(figsize=(12, 8))\n",
    "pivot_table.plot(kind='barh', stacked=True, ax=ax)  # 'barh' for horizontal bars\n",
    "plt.title('MRV topics per CDR method', fontsize=14)\n",
    "plt.xlabel('Number of MRV topics', fontsize=12)\n",
    "plt.ylabel('CDR methods', fontsize=12)\n",
    "plt.yticks(rotation=0)\n",
    "\n",
    "# legend\n",
    "plt.legend(title='MRV topics', bbox_to_anchor=(1.05, 1), loc='upper left')\n",
    "\n",
    "plt.tight_layout() \n",
    "plt.show()"
   ]
  },
  {
   "cell_type": "markdown",
   "id": "31845fe9-408b-4170-b6f3-02870f1d6a68",
   "metadata": {},
   "source": [
    "#### MRV topics per categorized CDR methods"
   ]
  },
  {
   "cell_type": "code",
   "execution_count": null,
   "id": "cd40509d-072d-4e0f-9547-65020c2cbdca",
   "metadata": {},
   "outputs": [],
   "source": [
    "# group data for CDR method and MRV topic\n",
    "grouped_data = df_exploded.groupby(['CDR_group', 'MRV_topic']).size().reset_index(name='Count')\n",
    "\n",
    "# pivot tables\n",
    "pivot_table = grouped_data.pivot(index='CDR_group', columns='MRV_topic', values='Count').fillna(0)\n",
    "\n",
    "# sum MRV topics per CDR method and sort data \n",
    "pivot_table['Total'] = pivot_table.sum(axis=1)\n",
    "pivot_table = pivot_table.sort_values(by='Total', ascending=True)  # sort for total sum\n",
    "pivot_table = pivot_table.drop(columns='Total')  # remove column totoal sum\n",
    "\n",
    "# stacked bar chart\n",
    "fig, ax = plt.subplots(figsize=(12, 8))\n",
    "pivot_table.plot(kind='barh', stacked=True, ax=ax)  # 'barh' for horizontal bars\n",
    "plt.title('MRV topics per grouped CDR method', fontsize=14)\n",
    "plt.xlabel('Number of MRV topics', fontsize=12)\n",
    "plt.ylabel('CDR methods', fontsize=12)\n",
    "plt.yticks(rotation=0)\n",
    "\n",
    "# legend\n",
    "plt.legend(title='MRV topics', bbox_to_anchor=(1.05, 1), loc='upper left')\n",
    "\n",
    "plt.tight_layout() \n",
    "plt.show()"
   ]
  },
  {
   "cell_type": "markdown",
   "id": "425efd87-f39b-4d0c-bcb3-d9c495141a2e",
   "metadata": {},
   "source": [
    "#### MRV topics with main focus per CDR method"
   ]
  },
  {
   "cell_type": "code",
   "execution_count": null,
   "id": "0007c3c0-0583-4010-9fc2-83afe6b0ffa7",
   "metadata": {},
   "outputs": [],
   "source": [
    "# count MRV main topics\n",
    "main_topics = df_exploded[df_exploded['MRV_focus'] == 1].groupby(['CDR_method', 'MRV_topic']).size().reset_index(name='Main_Topic_Count')\n",
    "\n",
    "# create pivot table for MRV main topics per CDR method\n",
    "main_topics_pivot = main_topics.pivot(index='CDR_method', columns='MRV_topic', values='Main_Topic_Count').fillna(0)\n",
    "\n",
    "# Reset index to bring 'CDR_method' back as a column\n",
    "main_topics_pivot_reset = main_topics_pivot.reset_index()\n",
    "\n",
    "# Rename 'CDR_method' column to 'CDR methods'\n",
    "main_topics_pivot_reset.rename(columns={'CDR_method': 'CDR method'}, inplace=True)\n",
    "\n",
    "# Sort columns by sum of Main_Topic_Count\n",
    "maintopic_sorted = main_topics_pivot.sum().sort_values(ascending=False)\n",
    "\n",
    "# Create a sorted column list (keeping 'CDR_method' at the front)\n",
    "sorted_columns_m = ['CDR method'] + maintopic_sorted.index.tolist()\n",
    "\n",
    "# Select and sort the columns in the final table\n",
    "sorted_maintopic_table = main_topics_pivot_reset[sorted_columns_m]\n",
    "\n",
    "# show final table\n",
    "# pd.options.display.max_columns = None  # show all columns\n",
    "# print(sorted_maintopic_table)"
   ]
  },
  {
   "cell_type": "code",
   "execution_count": null,
   "id": "646082d2-0bca-4fe0-8a45-1fe4440892c5",
   "metadata": {},
   "outputs": [],
   "source": [
    "# colozize the columns\n",
    "def colorize_table(table_plot, dataframe, cmap_name='Blues'):\n",
    "    numeric_df = dataframe.select_dtypes(include=[np.number])  # Only numeric values\n",
    "    cmap = colormaps.get_cmap(cmap_name)  # use a color map\n",
    "    norm = plt.Normalize(vmin=numeric_df.min().min(), vmax=numeric_df.max().max())  # normalization of values\n",
    "\n",
    "    for i in range(len(dataframe)):\n",
    "        for j in range(1, len(dataframe.columns)):  # do not color column 1 (CDR methods)\n",
    "            if dataframe.columns[j] in numeric_df.columns:  # Only numeric values\n",
    "                cell_value = dataframe.iloc[i, j]\n",
    "                color = cmap(norm(cell_value))\n",
    "                table_plot[(i+1, j)].set_facecolor(color)\n",
    "\n",
    "# Create a figure and axes for the table\n",
    "fig, ax = plt.subplots(figsize=(15, 8))\n",
    "\n",
    "# remove axes\n",
    "ax.axis('off')\n",
    "\n",
    "# leave the index for CDR methods out\n",
    "table_plot = ax.table(cellText=sorted_maintopic_table.values,\n",
    "                      colLabels=sorted_maintopic_table.columns,\n",
    "                      cellLoc='center',\n",
    "                      colLoc='center',\n",
    "                      loc='center')\n",
    "\n",
    "# Adjust the column width\n",
    "table_plot.auto_set_column_width([0])\n",
    "table_plot.auto_set_font_size(False)\n",
    "table_plot.set_fontsize(10)\n",
    "\n",
    "\n",
    "colorize_table(table_plot, sorted_maintopic_table, cmap_name='Blues')\n",
    "\n",
    "plt.show()"
   ]
  },
  {
   "cell_type": "markdown",
   "id": "101e1ffd-addd-45c9-8e13-c7fde382037c",
   "metadata": {},
   "source": [
    "#### MRV topics with side focus"
   ]
  },
  {
   "cell_type": "code",
   "execution_count": null,
   "id": "51dc57c4-b644-4e4f-9a65-b3faa856783a",
   "metadata": {},
   "outputs": [],
   "source": [
    "# count MRV side topics\n",
    "side_topics = df_exploded[df_exploded['MRV_focus'] == 2].groupby(['CDR_method', 'MRV_topic']).size().reset_index(name='Side_Topic_Count')\n",
    "\n",
    "# create pivot table for MRV side topics per CDR method\n",
    "side_topics_pivot = side_topics.pivot(index='CDR_method', columns='MRV_topic', values='Side_Topic_Count').fillna(0)\n",
    "\n",
    "# Reset index to bring 'CDR_method' back as a column\n",
    "side_topics_pivot_reset = side_topics_pivot.reset_index()\n",
    "\n",
    "# Rename 'CDR_method' column to 'CDR methods'\n",
    "side_topics_pivot_reset.rename(columns={'CDR_method': 'CDR method'}, inplace=True)\n",
    "\n",
    "# Sort columns by sum of Side_Topic_Count\n",
    "sidetopic_sorted = side_topics_pivot_reset.iloc[:, 1:].sum().sort_values(ascending=False)\n",
    "\n",
    "# Create a sorted column list (keeping 'CDR methods' at the front)\n",
    "sorted_columns_s = ['CDR method'] + sidetopic_sorted.index.tolist()\n",
    "\n",
    "# Select and sort the columns in the final table\n",
    "sorted_sidetopic_table = side_topics_pivot_reset[sorted_columns_s]\n",
    "\n",
    "# Show final table\n",
    "#pd.options.display.max_columns = None  # Show all columns\n",
    "#print(sorted_sidetopic_table)"
   ]
  },
  {
   "cell_type": "code",
   "execution_count": null,
   "id": "554151d3-419d-4124-959d-f1c56b83ba48",
   "metadata": {},
   "outputs": [],
   "source": [
    "# colozize the columns\n",
    "def colorize_table(table_plot, dataframe, cmap_name='Blues'):\n",
    "    numeric_df = dataframe.select_dtypes(include=[np.number])  # Only numeric values\n",
    "    cmap = colormaps.get_cmap(cmap_name)  # use a color map\n",
    "    norm = plt.Normalize(vmin=numeric_df.min().min(), vmax=numeric_df.max().max())  # normalization of values\n",
    "\n",
    "    for i in range(len(dataframe)):\n",
    "        for j in range(1, len(dataframe.columns)):  # do not color column 1 (CDR methods)\n",
    "            if dataframe.columns[j] in numeric_df.columns:  # Only numeric values\n",
    "                cell_value = dataframe.iloc[i, j]\n",
    "                color = cmap(norm(cell_value))\n",
    "                table_plot[(i+1, j)].set_facecolor(color)\n",
    "\n",
    "# Create a figure and axes for the table\n",
    "fig, ax = plt.subplots(figsize=(15, 8))\n",
    "\n",
    "# remove axes\n",
    "ax.axis('off')\n",
    "\n",
    "# leave the index for CDR methods out\n",
    "table_plot = ax.table(cellText=sorted_sidetopic_table.values, #includes table that is displayed\n",
    "                      colLabels=sorted_sidetopic_table.columns,\n",
    "                      cellLoc='center',\n",
    "                      colLoc='center',\n",
    "                      loc='center')\n",
    "\n",
    "# Adjust the column width\n",
    "table_plot.auto_set_column_width([0])\n",
    "table_plot.auto_set_font_size(False)\n",
    "table_plot.set_fontsize(10)\n",
    "\n",
    "\n",
    "colorize_table(table_plot, sorted_sidetopic_table, cmap_name='Blues') #define table\n",
    "\n",
    "plt.show()"
   ]
  },
  {
   "cell_type": "code",
   "execution_count": null,
   "id": "16d0c3cd-1fe5-4ee6-a936-6d39fe5c47a1",
   "metadata": {},
   "outputs": [],
   "source": [
    "# learning from these results: combine some of the CDR methods and focus on Quantification as main MRV topic"
   ]
  },
  {
   "cell_type": "markdown",
   "id": "84b7289a-af08-4572-beb6-75344236c90f",
   "metadata": {},
   "source": [
    "### Exploded dataset: CDR method & study location"
   ]
  },
  {
   "cell_type": "code",
   "execution_count": null,
   "id": "9fd61479-e071-4f81-847d-1b38b925e935",
   "metadata": {},
   "outputs": [],
   "source": [
    "# Set the order of continents to be shown on the x-axis\n",
    "desired_order = ['Africa', 'Asia', 'Europe', 'North America', 'South America', 'Oceania', 'USA', 'China', 'Global', 'Not specified', 'Unknown']  \n",
    "\n",
    "# Convert the Study location_continent column to a categorical type with the specified order\n",
    "df_exploded['Study location_continent'] = pd.Categorical(\n",
    "    df_exploded['Study location_continent'],\n",
    "    categories=desired_order,\n",
    "    ordered=True\n",
    ")\n",
    "\n",
    "# Group by continent and CDR method, and count occurrences\n",
    "continent_method_counts = df_exploded.groupby(['Study location_continent', 'CDR_group']).size().reset_index(name='Count')\n",
    "\n",
    "# Pivot the data for the stacked bar plot\n",
    "pivot_data = continent_method_counts.pivot(index='Study location_continent', columns='CDR_group', values='Count').fillna(0)\n",
    "\n",
    "# Create a stacked bar plot\n",
    "pivot_data.plot(kind='bar', stacked=True, figsize=(12, 8))\n",
    "\n",
    "plt.title(\"CDR Methods Analyzed per Continent\")\n",
    "plt.xlabel(\"Continents\")\n",
    "plt.ylabel(\"Count of grouped CDR Methods\")\n",
    "plt.xticks(rotation=45)\n",
    "plt.legend(title=\"Grouped CDR Methods\", bbox_to_anchor=(1.05, 1), loc='upper left')\n",
    "plt.tight_layout()\n",
    "plt.show()"
   ]
  },
  {
   "cell_type": "code",
   "execution_count": null,
   "id": "6daeb5cb-dba2-4cd2-a322-8b0ff8fe910e",
   "metadata": {},
   "outputs": [],
   "source": [
    "# too chaotic when taking individual CDR methods into account \n",
    "# should we merge not specified and unknown?"
   ]
  },
  {
   "cell_type": "code",
   "execution_count": null,
   "id": "c2b8d82c-c067-48ec-89ce-2e7b3e8df65f",
   "metadata": {
    "scrolled": true
   },
   "outputs": [],
   "source": [
    "# Set the order of continents to be shown on the x-axis\n",
    "desired_order = ['Africa', 'Asia', 'Europe', 'North America', 'South America', 'Oceania', 'USA', 'China', 'Global', 'Not specified', 'Unknown']  \n",
    "\n",
    "# Convert the Study location_continent column to a categorical type with the specified order\n",
    "df_exploded['Study location_continent'] = pd.Categorical(\n",
    "    df_exploded['Study location_continent'],\n",
    "    categories=desired_order,\n",
    "    ordered=True\n",
    ")\n",
    "\n",
    "# Group by continent and CDR method, and count occurrences\n",
    "continent_method_counts = df_exploded.groupby(['Study location_continent', 'MRV_topic']).size().reset_index(name='Count')\n",
    "\n",
    "# Pivot the data for the stacked bar plot\n",
    "pivot_data = continent_method_counts.pivot(index='Study location_continent', columns='MRV_topic', values='Count').fillna(0)\n",
    "\n",
    "# Create a stacked bar plot\n",
    "pivot_data.plot(kind='bar', stacked=True, figsize=(12, 8))\n",
    "\n",
    "plt.title(\"CDR Methods Analyzed per Continent\")\n",
    "plt.xlabel(\"Continents\")\n",
    "plt.ylabel(\"Count of MRV topics\")\n",
    "plt.xticks(rotation=45)\n",
    "plt.legend(title=\"Grouped CDR Methods\", bbox_to_anchor=(1.05, 1), loc='upper left')\n",
    "plt.tight_layout()\n",
    "plt.show()"
   ]
  },
  {
   "cell_type": "markdown",
   "id": "14504aeb-39f8-43a2-8ad3-e4ffa63b354d",
   "metadata": {},
   "source": [
    "### Which CDR methods are analyzed together?"
   ]
  },
  {
   "cell_type": "code",
   "execution_count": null,
   "id": "87e27a10-bf24-499f-b9cb-ec13811016fa",
   "metadata": {},
   "outputs": [],
   "source": [
    "# Group by 'Publication ID' and aggregate the unique CDR methods per publication\n",
    "grouped = df_exploded.groupby('Publication ID')['CDR_method'].unique()\n",
    "\n",
    "# Create pairs of CDR methods for each publication, including both directions\n",
    "pairs = []\n",
    "\n",
    "for methods in grouped:\n",
    "    # Create all possible combinations of CDR methods within each publication\n",
    "    for combo in combinations(methods, 2):\n",
    "        # Add both directions of the pair\n",
    "        pairs.append(combo)  # Method 1 -> Method 2\n",
    "        pairs.append(combo[::-1])  # Method 2 -> Method 1 (reverse)\n",
    "\n",
    "# Create a DataFrame of pairs and count the occurrences\n",
    "pair_counts_CDR = pd.DataFrame(pairs, columns=['Method 1', 'Method 2']).value_counts().reset_index(name='Count')\n",
    "\n",
    "# Display the results\n",
    "# print(pair_counts_CDR)\n"
   ]
  },
  {
   "cell_type": "markdown",
   "id": "67ac1881-d690-4994-ba57-af51c6020729",
   "metadata": {},
   "source": [
    "##### Network Graph"
   ]
  },
  {
   "cell_type": "code",
   "execution_count": null,
   "id": "88e422af-80d8-4f07-816b-ffde201005a1",
   "metadata": {
    "scrolled": true
   },
   "outputs": [],
   "source": [
    "# Create a graph from the pair counts\n",
    "G = nx.Graph()\n",
    "\n",
    "# Add edges to the graph, with the weight being the count of co-occurrence\n",
    "for _, row in pair_counts_CDR.iterrows():\n",
    "    G.add_edge(row['Method 1'], row['Method 2'], weight=row['Count'])\n",
    "\n",
    "# Plot the network graph\n",
    "plt.figure(figsize=(10, 8))\n",
    "\n",
    "# Use edge weights to adjust the width of the edges\n",
    "edges = G.edges(data=True)\n",
    "weights = [edge[2]['weight'] for edge in edges]\n",
    "\n",
    "# Draw the graph with nodes, edges, and labels\n",
    "pos = nx.spring_layout(G, k=0.5, seed=42)  # Positioning the nodes\n",
    "nx.draw(G, pos, with_labels=True, node_color='skyblue', node_size=2000, font_size=10, edge_color='gray', width=weights)\n",
    "\n",
    "plt.title(\"Network graph showing which CDR Technologies are analyzed together\")\n",
    "plt.show()"
   ]
  },
  {
   "cell_type": "markdown",
   "id": "76668255-8504-492b-93e6-9cf7dc8c3cb1",
   "metadata": {},
   "source": [
    "##### Heatmap"
   ]
  },
  {
   "cell_type": "code",
   "execution_count": null,
   "id": "c87e2f6e-c0c9-48ff-a93d-7db5bffa4e2e",
   "metadata": {},
   "outputs": [],
   "source": [
    "# Pivot the data to create a matrix of CDR method co-occurrences (directed)\n",
    "heatmap_data = pair_counts_CDR.pivot(index='Method 1', columns='Method 2', values='Count').fillna(0)\n",
    "\n",
    "# Create a heatmap\n",
    "plt.figure(figsize=(10, 8))\n",
    "sns.heatmap(heatmap_data, annot=True, cmap=\"Blues\", linewidths=.5)\n",
    "\n",
    "plt.title(\"Co-occurrence Heatmap of CDR Methods (Both Directions)\")\n",
    "plt.show()\n"
   ]
  },
  {
   "cell_type": "markdown",
   "id": "e5ddd594-2e2b-42a6-8b5c-2448dce5a149",
   "metadata": {},
   "source": [
    "##### Including focus level"
   ]
  },
  {
   "cell_type": "code",
   "execution_count": 140,
   "id": "7d46eb69-a1c6-44d2-8b80-baf4bfbe1345",
   "metadata": {},
   "outputs": [],
   "source": [
    "# Convert the CDR_focus column to integers, converting non-numeric values to NaN\n",
    "df_exploded['CDR_focus'] = pd.to_numeric(df_exploded['CDR_focus'], errors='coerce').astype('Int64')"
   ]
  },
  {
   "cell_type": "code",
   "execution_count": null,
   "id": "b1d90319-d2dd-4696-aff9-9071ba7803ab",
   "metadata": {},
   "outputs": [],
   "source": [
    "# Create separate DataFrames for main focus (CDR_focus = 1) and side focus (CDR_focus = 2)\n",
    "main_focus_df = df_exploded[df_exploded['CDR_focus'] == 1][['Publication ID', 'CDR_method']].rename(columns={'CDR_method': 'CDR_method_main'})\n",
    "side_focus_df = df_exploded[df_exploded['CDR_focus'] == 2][['Publication ID', 'CDR_method']].rename(columns={'CDR_method': 'CDR_method_side'})\n",
    "\n",
    "# Merge the main and side focus DataFrames on 'Publication ID'\n",
    "# This merge keeps only publications that have both a main focus and a side focus\n",
    "merged_df = pd.merge(main_focus_df, side_focus_df, on='Publication ID')\n",
    "\n",
    "# Remove duplicates to ensure each publication is only counted once\n",
    "# Drop duplicate rows based on Publication ID and the CDR_method_main/CDR_method_side combination\n",
    "deduped_df = merged_df.drop_duplicates(subset=['Publication ID', 'CDR_method_main', 'CDR_method_side'])\n",
    "\n",
    "# Create the pivot table to show relationships between main and side focuses\n",
    "# Index represents CDR_method_main (y-axis), columns represent CDR_method_side (x-axis)\n",
    "pivot_table = deduped_df.pivot_table(index='CDR_method_main', columns='CDR_method_side', aggfunc='size', fill_value=0)\n",
    "\n",
    "# Display the pivot table\n",
    "print(\"Pivot table with unique publications counted:\\n\", pivot_table)\n",
    "\n",
    "plt.figure(figsize=(10, 8))\n",
    "sns.heatmap(pivot_table, annot=True, cmap=\"Blues\", linewidths=.5)\n",
    "plt.title(\"Main Focus vs Side Focus CDR Methods (Unique Publications)\")\n",
    "plt.xlabel(\"Side Focus (CDR_focus = 2)\")\n",
    "plt.ylabel(\"Main Focus (CDR_focus = 1)\")\n",
    "plt.xticks(rotation=45)\n",
    "plt.tight_layout()\n",
    "plt.show()\n"
   ]
  },
  {
   "cell_type": "markdown",
   "id": "dea2c3e7-61a7-4ea7-b334-e1990ba77661",
   "metadata": {},
   "source": [
    "### Which MRV Topics are analyzed together?"
   ]
  },
  {
   "cell_type": "code",
   "execution_count": null,
   "id": "1126c8b4-2e7a-4d6f-ad19-7e66c4e1fdb3",
   "metadata": {},
   "outputs": [],
   "source": [
    "# Group by 'Publication ID' and aggregate the unique CDR methods per publication\n",
    "grouped = df_exploded.groupby('Publication ID')['MRV_topic'].unique()\n",
    "\n",
    "# Create pairs of CDR methods for each publication, including both directions\n",
    "pairs = []\n",
    "\n",
    "for methods in grouped:\n",
    "    # Create all possible combinations of CDR methods within each publication\n",
    "    for combo in combinations(methods, 2):\n",
    "        # Add both directions of the pair\n",
    "        pairs.append(combo)  # Method 1 -> Method 2\n",
    "        pairs.append(combo[::-1])  # Method 2 -> Method 1 (reverse)\n",
    "\n",
    "# Create a DataFrame of pairs and count the occurrences\n",
    "pair_counts_MRV = pd.DataFrame(pairs, columns=['Topic 1', 'Topic 2']).value_counts().reset_index(name='Count')\n",
    "\n",
    "# Display the results\n",
    "# print(pair_counts_MRV)"
   ]
  },
  {
   "cell_type": "markdown",
   "id": "d019f22f-82c1-4f6f-98de-12d5ace90f8b",
   "metadata": {},
   "source": [
    "##### Network Graph"
   ]
  },
  {
   "cell_type": "code",
   "execution_count": 138,
   "id": "79570cef-7353-4d3f-ab9b-a53986223b34",
   "metadata": {},
   "outputs": [
    {
     "ename": "NameError",
     "evalue": "name 'pair_counts_MRV' is not defined",
     "output_type": "error",
     "traceback": [
      "\u001b[0;31m---------------------------------------------------------------------------\u001b[0m",
      "\u001b[0;31mNameError\u001b[0m                                 Traceback (most recent call last)",
      "Cell \u001b[0;32mIn[138], line 5\u001b[0m\n\u001b[1;32m      2\u001b[0m G \u001b[38;5;241m=\u001b[39m nx\u001b[38;5;241m.\u001b[39mGraph()\n\u001b[1;32m      4\u001b[0m \u001b[38;5;66;03m# Add edges to the graph, with the weight being the count of co-occurrence\u001b[39;00m\n\u001b[0;32m----> 5\u001b[0m \u001b[38;5;28;01mfor\u001b[39;00m _, row \u001b[38;5;129;01min\u001b[39;00m pair_counts_MRV\u001b[38;5;241m.\u001b[39miterrows():\n\u001b[1;32m      6\u001b[0m     G\u001b[38;5;241m.\u001b[39madd_edge(row[\u001b[38;5;124m'\u001b[39m\u001b[38;5;124mTopic 1\u001b[39m\u001b[38;5;124m'\u001b[39m], row[\u001b[38;5;124m'\u001b[39m\u001b[38;5;124mTopic 2\u001b[39m\u001b[38;5;124m'\u001b[39m], weight\u001b[38;5;241m=\u001b[39mrow[\u001b[38;5;124m'\u001b[39m\u001b[38;5;124mCount\u001b[39m\u001b[38;5;124m'\u001b[39m])\n\u001b[1;32m      8\u001b[0m \u001b[38;5;66;03m# Plot the network graph\u001b[39;00m\n",
      "\u001b[0;31mNameError\u001b[0m: name 'pair_counts_MRV' is not defined"
     ]
    }
   ],
   "source": [
    "# Create a graph from the pair counts\n",
    "G = nx.Graph()\n",
    "\n",
    "# Add edges to the graph, with the weight being the count of co-occurrence\n",
    "for _, row in pair_counts_MRV.iterrows():\n",
    "    G.add_edge(row['Topic 1'], row['Topic 2'], weight=row['Count'])\n",
    "\n",
    "# Plot the network graph\n",
    "plt.figure(figsize=(10, 8))\n",
    "\n",
    "# Use edge weights to adjust the width of the edges\n",
    "edges = G.edges(data=True)\n",
    "weights = [edge[2]['weight'] for edge in edges]\n",
    "\n",
    "# Draw the graph with nodes, edges, and labels\n",
    "pos = nx.spring_layout(G, k=0.5, seed=42)  # Positioning the nodes\n",
    "nx.draw(G, pos, with_labels=True, node_color='skyblue', node_size=2000, font_size=10, edge_color='gray', width=weights)\n",
    "\n",
    "plt.title(\"Network graph showing which MRV Topics are analyzed together\")\n",
    "plt.show()"
   ]
  },
  {
   "cell_type": "markdown",
   "id": "c53ad3ae-408c-4951-bc9c-b2221e2c0b98",
   "metadata": {},
   "source": [
    "##### Heatmap"
   ]
  },
  {
   "cell_type": "code",
   "execution_count": null,
   "id": "ebc90b3b-c2a4-4c60-bea5-cced90d52f27",
   "metadata": {},
   "outputs": [],
   "source": [
    "# Pivot the data to create a matrix of CDR method co-occurrences (directed)\n",
    "heatmap_data = pair_counts_MRV.pivot(index='Topic 1', columns='Topic 2', values='Count').fillna(0)\n",
    "\n",
    "#  Create a heatmap\n",
    "plt.figure(figsize=(10, 8))\n",
    "sns.heatmap(heatmap_data, annot=True, cmap=\"Blues\", linewidths=.5)\n",
    "\n",
    "plt.title(\"Co-occurrence Heatmap of MRV Topics (Both Directions)\")\n",
    "plt.show()\n"
   ]
  },
  {
   "cell_type": "code",
   "execution_count": null,
   "id": "5f0e7680-c184-4f57-91f8-0b770bb1e27d",
   "metadata": {},
   "outputs": [],
   "source": []
  },
  {
   "cell_type": "code",
   "execution_count": 129,
   "id": "97c14941-314b-4222-adda-30689a5a8aaa",
   "metadata": {},
   "outputs": [
    {
     "data": {
      "image/png": "[encoded data removed]",
      "text/plain": [
       "<Figure size 1000x600 with 1 Axes>"
      ]
     },
     "metadata": {},
     "output_type": "display_data"
    }
   ],
   "source": [
    "# Define the columns\n",
    "columns_of_interest = [\n",
    "    \"Durability: longevity\", \n",
    "    \"Durabiltiy: disturbance/reversal risks\", \n",
    "    \"Leakage: potential sources\", \n",
    "    \"Leakage: Detection\", \n",
    "    \"Leakage: Safeguards \", \n",
    "    \"Additionality\", \n",
    "    \"sources of uncertainty\", \n",
    "    \"uncertainty management\"\n",
    "]\n",
    "\n",
    "# Convert the columns to numeric \n",
    "df_included[columns_of_interest] = df_included[columns_of_interest].apply(pd.to_numeric, errors='coerce')\n",
    "\n",
    "# Count how many publications mention each topic (sum the values for each column)\n",
    "topic_counts = df_included[columns_of_interest].sum()\n",
    "\n",
    "# Create a bar plot to visualize the counts\n",
    "plt.figure(figsize=(10, 6))\n",
    "topic_counts.plot(kind='bar', color='skyblue')\n",
    "plt.title('Number of Publications Covering Quality Topics')\n",
    "plt.ylabel('Number of Publications')\n",
    "plt.xlabel('Topics')\n",
    "plt.xticks(rotation=45, ha='right')\n",
    "plt.tight_layout()\n",
    "plt.show()"
   ]
  },
  {
   "cell_type": "code",
   "execution_count": null,
   "id": "75ac99de-7c92-4eda-8cc6-bbc1787026a8",
   "metadata": {},
   "outputs": [],
   "source": []
  }
 ],
 "metadata": {
  "kernelspec": {
   "display_name": "Python 3 (ipykernel)",
   "language": "python",
   "name": "python3"
  },
  "language_info": {
   "codemirror_mode": {
    "name": "ipython",
    "version": 3
   },
   "file_extension": ".py",
   "mimetype": "text/x-python",
   "name": "python",
   "nbconvert_exporter": "python",
   "pygments_lexer": "ipython3",
   "version": "3.12.4"
  }
 },
 "nbformat": 4,
 "nbformat_minor": 5
}
