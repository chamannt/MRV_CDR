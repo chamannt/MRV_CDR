{
 "cells": [
  {
   "cell_type": "code",
   "execution_count": 1,
   "id": "882ff3ce-8e73-4d29-be5c-92a3742ffe65",
   "metadata": {},
   "outputs": [],
   "source": [
    "import pandas as pd\n",
    "import numpy as np\n",
    "\n",
    "import matplotlib.pyplot as plt \n",
    "import matplotlib.patches as mpatches\n",
    "import matplotlib as mpl"
   ]
  },
  {
   "cell_type": "markdown",
   "id": "4b6777e2-c7c1-403a-8fc9-af86f06d7d29",
   "metadata": {},
   "source": [
    "### Colors and groups"
   ]
  },
  {
   "cell_type": "code",
   "execution_count": 9,
   "id": "1314d20a-d25d-4340-854a-88d60491917d",
   "metadata": {},
   "outputs": [],
   "source": [
    "mrv_topic_colors = {\n",
    "    'Quantification': '#7da7b8',   # darker bluish-grey\n",
    "    'Monitoring': '#8dc39f',        # stronger soft green\n",
    "    'Quality': '#c76a85',           # berry red\n",
    "    'Governance': '#b39bc8',        # stronger lavender\n",
    "    'Reporting': '#e1a6b8',         # stronger soft pink\n",
    "    'Verification': '#a8a8a8',      # medium grey\n",
    "    'External impacts': '#d0c97b',   # stronger soft yellow\n",
    "    'General MRV': '#e5b138',      # muted yellow\n",
    "    \n",
    "}\n",
    "\n",
    "cdr_method_colors = {\n",
    "    \n",
    "    'SCS': '#a47551', \n",
    "    \n",
    "    'A/R': '#238b45', \n",
    "    'General forestry': '#66c2a4', \n",
    "    'Agroforestry': '#b2e2e2', \n",
    "    'Forest management': '#edf8fb',\n",
    "\n",
    "    'Biochar': '#ce1256',\n",
    "    'Restoration of landscapes and peats': '#df65b0',\n",
    "    'EW': '#d7b5d8', \n",
    "  \n",
    "    'OAE': '#016c59', \n",
    "    'OIF/AU': '#1c9099', \n",
    "    'DOC': '#67a9cf',\n",
    "    'Algae ': '#bdc9e1', \n",
    "    'Blue carbon': '#f6eff7',\n",
    "       \n",
    "    'CCS': '#e31a1c',\n",
    "    'BECCS': '#fd8d3c', \n",
    "    'DACCS': '#fecc5c',\n",
    "    'CCUS': '#ffffb2', \n",
    "    \n",
    "    'General CDR': '#525252', \n",
    "    'Other': '#969696',    \n",
    "}"
   ]
  },
  {
   "cell_type": "markdown",
   "id": "ba328c3e-6b71-40d8-8aad-62affe77578e",
   "metadata": {},
   "source": [
    "### Data & cleaning"
   ]
  },
  {
   "cell_type": "code",
   "execution_count": 10,
   "id": "7661fbb5-6a92-4038-80bc-75cbf151d7ec",
   "metadata": {},
   "outputs": [],
   "source": [
    "df = pd.read_excel(\"MRVdata_2210.xlsx\") # older version: MRVdata_0810 ?\n",
    "df_filtered = df[df['Year'] != 2024]\n",
    "df_included = df_filtered[df_filtered['Inclusion/exclusion'] == 'Inclusion'].copy()\n",
    "\n",
    "### additonal data\n",
    "\n",
    "def extract_CDR_method_focus(row):\n",
    "    CDR_method = []\n",
    "    CDR_focus = []\n",
    "    \n",
    "    for column in cdr_method_colors.keys():  # previously defined list with columns that contain CDR methods\n",
    "        if row[column] > 0:\n",
    "            CDR_method.append(column)\n",
    "            CDR_focus.append(row[column])\n",
    "    \n",
    "    return [CDR_method, CDR_focus]\n",
    "# add new columns to the data frame\n",
    "df_included['CDR_focus'] = df_included.apply(lambda row: extract_CDR_method_focus(row), axis=1)\n",
    "df_included['CDR_method'] = df_included.CDR_focus.str[0]\n",
    "df_included['CDR_focus'] = df_included.CDR_focus.str[1]\n",
    "\n",
    "\n",
    "#add new column for MRV topic and study focus to the dataset\n",
    "def extract_MRV_topic_focus(row):\n",
    "    MRV_topic = []\n",
    "    MRV_focus = []\n",
    "    \n",
    "    for column in mrv_topic_colors.keys():  # previously defined list with columns that contain MRV topics\n",
    "        if row[column] > 0:\n",
    "            MRV_topic.append(column)\n",
    "            MRV_focus.append(row[column])\n",
    "    \n",
    "    return [MRV_topic, MRV_focus]\n",
    "# add new columns to the data frame\n",
    "df_included['MRV_focus'] = df_included.apply(lambda row: extract_MRV_topic_focus(row), axis=1)\n",
    "df_included['MRV_topic'] = df_included.MRV_focus.str[0]\n",
    "df_included['MRV_focus'] = df_included.MRV_focus.str[1]\n",
    "\n",
    "\n",
    "### explode\n",
    "# explode CDR method and focus\n",
    "df_CDRexplode = df_included.explode(['CDR_method', 'CDR_focus'])\n",
    "\n",
    "# explode MRV topic and focus\n",
    "df_MRVexplode = df_included.explode(['MRV_topic', 'MRV_focus'])"
   ]
  },
  {
   "cell_type": "markdown",
   "id": "94ada01a-78dd-4b0c-aad4-3da3634d75ad",
   "metadata": {},
   "source": [
    "### Publication per years"
   ]
  },
  {
   "cell_type": "code",
   "execution_count": 20,
   "id": "3cda5eef-8666-40f2-b7eb-a8c104bbea35",
   "metadata": {},
   "outputs": [],
   "source": [
    "paper_per_year = df_included.groupby(\"Year\", as_index=False).size()"
   ]
  },
  {
   "cell_type": "code",
   "execution_count": 22,
   "id": "684fc0ed-f35f-42c1-a55c-d698645c35c2",
   "metadata": {},
   "outputs": [
    {
     "data": {
      "text/plain": [
       "Text(0, 0.5, 'Number of \\nPublications')"
      ]
     },
     "execution_count": 22,
     "metadata": {},
     "output_type": "execute_result"
    },
    {
     "data": {
      "image/png": "[encoded data removed]",
      "text/plain": [
       "<Figure size 432x288 with 1 Axes>"
      ]
     },
     "metadata": {
      "needs_background": "light"
     },
     "output_type": "display_data"
    }
   ],
   "source": [
    "fig, ax = plt.subplots()\n",
    "width=0.6\n",
    "\n",
    "ax.bar(paper_per_year[\"Year\"], paper_per_year[\"size\"], width, color=\"grey\")\n",
    "ax.set_ylabel('Number of \\nPublications')"
   ]
  },
  {
   "cell_type": "markdown",
   "id": "7ec50084-24c9-43f3-940b-4279cc7e5f09",
   "metadata": {},
   "source": [
    "### Focus plots"
   ]
  },
  {
   "cell_type": "code",
   "execution_count": 33,
   "id": "76e63a24-75c1-49de-ba4a-75042293fbf6",
   "metadata": {},
   "outputs": [],
   "source": [
    "col_focus = {\n",
    "    1:'#87CEEB', \n",
    "    2:'#6CA6CD', \n",
    "    3:'#4A708B'\n",
    "}"
   ]
  },
  {
   "cell_type": "code",
   "execution_count": 46,
   "id": "8239a221-12e1-4486-a98e-e38e9c1d21e5",
   "metadata": {},
   "outputs": [],
   "source": [
    "cdr_meth = df_CDRexplode.groupby(['CDR_method'],as_index=False).size().rename(columns={\"size\":\"total_size\"}) \n",
    "cdr_meth_focus = df_CDRexplode.groupby(['CDR_method', 'CDR_focus'],as_index=False).size() \n",
    "for m in cdr_meth[\"CDR_method\"]:\n",
    "    for f in [1,2,3]:\n",
    "        if cdr_meth_focus.loc[(cdr_meth_focus.CDR_method==m)&(cdr_meth_focus[\"CDR_focus\"]==f)].shape[0]==0:\n",
    "                one_row = pd.DataFrame({'CDR_method': [m], 'CDR_focus': [f], 'size': [0]})\n",
    "                cdr_meth_focus = pd.concat([cdr_meth_focus, one_row])\n",
    "cdr_meth_focus = cdr_meth_focus.merge(cdr_meth, on=\"CDR_method\")\n",
    "cdr_meth_focus[\"rel\"] = cdr_meth_focus[\"size\"]/cdr_meth_focus[\"total_size\"]\n",
    "\n",
    "cdr_meth_focus[\"col\"] = cdr_meth_focus.CDR_focus.replace(col_focus)\n",
    "\n",
    "# sorting\n",
    "cdr_meth_focus.CDR_method = cdr_meth_focus.CDR_method.astype(\"category\")\n",
    "cdr_meth_focus.CDR_method = cdr_meth_focus.CDR_method.cat.set_categories(cdr_method_colors.keys())\n",
    "cdr_meth_focus = cdr_meth_focus.sort_values(\"CDR_method\")"
   ]
  },
  {
   "cell_type": "code",
   "execution_count": 68,
   "id": "c4dc44a4-4d05-4493-8072-4ce47ac5526c",
   "metadata": {},
   "outputs": [
    {
     "data": {
      "image/png": "[encoded data removed]",
      "text/plain": [
       "<Figure size 432x288 with 1 Axes>"
      ]
     },
     "metadata": {
      "needs_background": "light"
     },
     "output_type": "display_data"
    }
   ],
   "source": [
    "fig, ax = plt.subplots()\n",
    "focus = [1,2,3]\n",
    "\n",
    "prev_values = np.zeros(len(cdr_meth_focus.loc[cdr_meth_focus[\"CDR_focus\"]==focus[0]]))\n",
    "for i, f in enumerate(focus):\n",
    "    #print(topic)\n",
    "    ax.barh([i for i in range(len(cdr_method_colors.keys()))], cdr_meth_focus.loc[cdr_meth_focus[\"CDR_focus\"]==f,\"rel\"], \n",
    "              width, left=prev_values, \n",
    "              label=f,\n",
    "              color=cdr_meth_focus.loc[cdr_meth_focus[\"CDR_focus\"]==f,\"col\"])\n",
    "    prev_values += np.array(cdr_meth_focus.loc[cdr_meth_focus[\"CDR_focus\"]==f,\"rel\"])\n",
    "    \n",
    "ax.set_xlabel('Share of Focus ')\n",
    "_=ax.set_yticks([i for i in range(len(cdr_method_colors.keys()))],[i for i in cdr_method_colors.keys()])"
   ]
  },
  {
   "cell_type": "code",
   "execution_count": 56,
   "id": "f81fb734-032a-4390-944e-48514acb5977",
   "metadata": {},
   "outputs": [],
   "source": [
    "cdr_mrv = df_MRVexplode.groupby(['MRV_topic'],as_index=False).size().rename(columns={\"size\":\"total_size\"}) \n",
    "cdr_mrv_focus = df_MRVexplode.groupby(['MRV_topic', 'MRV_focus'],as_index=False).size() \n",
    "for m in cdr_mrv[\"MRV_topic\"]:\n",
    "    for f in [1,2,3]:\n",
    "        if cdr_mrv_focus.loc[(cdr_mrv_focus.MRV_topic==m)&(cdr_mrv_focus[\"MRV_focus\"]==f)].shape[0]==0:\n",
    "                one_row = pd.DataFrame({'MRV_topic': [m], 'MRV_focus': [f], 'size': [0]})\n",
    "                cdr_mrv_focus = pd.concat([cdr_mrv_focus, one_row])\n",
    "cdr_mrv_focus = cdr_mrv_focus.merge(cdr_mrv, on=\"MRV_topic\")\n",
    "cdr_mrv_focus[\"rel\"] = cdr_mrv_focus[\"size\"]/cdr_mrv_focus[\"total_size\"]\n",
    "\n",
    "cdr_mrv_focus[\"col\"] = cdr_mrv_focus.MRV_focus.replace(col_focus)\n",
    "\n",
    "# sorting\n",
    "cdr_mrv_focus.MRV_topic = cdr_mrv_focus.MRV_topic.astype(\"category\")\n",
    "cdr_mrv_focus.MRV_topic = cdr_mrv_focus.MRV_topic.cat.set_categories(mrv_topic_colors.keys())\n",
    "cdr_mrv_focus = cdr_mrv_focus.sort_values(\"MRV_topic\")"
   ]
  },
  {
   "cell_type": "code",
   "execution_count": 63,
   "id": "326e741e-ee20-4ee3-ad1e-e24c8025cbf1",
   "metadata": {},
   "outputs": [
    {
     "data": {
      "text/plain": [
       "15    0.896341\n",
       "9     0.500000\n",
       "12    0.481481\n",
       "6     0.400000\n",
       "18    0.500000\n",
       "21    0.428571\n",
       "0     0.571429\n",
       "3     0.888889\n",
       "Name: rel, dtype: float64"
      ]
     },
     "execution_count": 63,
     "metadata": {},
     "output_type": "execute_result"
    }
   ],
   "source": [
    "cdr_mrv_focus.loc[cdr_mrv_focus[\"MRV_focus\"]==f,\"rel\"]"
   ]
  },
  {
   "cell_type": "code",
   "execution_count": 77,
   "id": "e2a75b63-d59b-4cda-9d89-eebe78b140f3",
   "metadata": {},
   "outputs": [
    {
     "data": {
      "text/plain": [
       "8"
      ]
     },
     "execution_count": 77,
     "metadata": {},
     "output_type": "execute_result"
    }
   ],
   "source": [
    " len(cdr_mrv_focus.loc[cdr_mrv_focus[\"MRV_focus\"]==f,\"rel\"].values)"
   ]
  },
  {
   "cell_type": "code",
   "execution_count": 79,
   "id": "6e709467-f77e-40f1-9aa5-a45fe9600559",
   "metadata": {},
   "outputs": [
    {
     "data": {
      "text/plain": [
       "array([], dtype=float64)"
      ]
     },
     "execution_count": 79,
     "metadata": {},
     "output_type": "execute_result"
    }
   ],
   "source": [
    "np.zeros(len(cdr_mrv_focus.loc[cdr_mrv_focus[\"MRV_topic\"]==focus[0]]))"
   ]
  },
  {
   "cell_type": "code",
   "execution_count": 80,
   "id": "b4aca6a7-e912-4251-9bde-aec042a5a348",
   "metadata": {},
   "outputs": [
    {
     "data": {
      "image/png": "[encoded data removed]",
      "text/plain": [
       "<Figure size 432x288 with 1 Axes>"
      ]
     },
     "metadata": {
      "needs_background": "light"
     },
     "output_type": "display_data"
    }
   ],
   "source": [
    "fig, ax = plt.subplots()\n",
    "focus = [1,2,3]\n",
    "\n",
    "prev_values = np.zeros(len(cdr_mrv_focus.loc[cdr_mrv_focus[\"MRV_focus\"]==focus[0]]))\n",
    "for i, f in enumerate(focus):\n",
    "    ax.barh([i for i in range(len(mrv_topic_colors.keys()))], cdr_mrv_focus.loc[cdr_mrv_focus[\"MRV_focus\"]==f,\"rel\"], \n",
    "              width, left=prev_values, \n",
    "              label=f,\n",
    "              color=cdr_mrv_focus.loc[cdr_mrv_focus[\"MRV_focus\"]==f,\"col\"])\n",
    "    prev_values += np.array(cdr_mrv_focus.loc[cdr_mrv_focus[\"MRV_focus\"]==f,\"rel\"])\n",
    "    \n",
    "ax.set_xlabel('Share of Focus ')\n",
    "_=ax.set_yticks([i for i in range(len(mrv_topic_colors.keys()))],[i for i in mrv_topic_colors.keys()])"
   ]
  },
  {
   "cell_type": "markdown",
   "id": "0c587afe-8ca2-4db3-9e2f-7434f2d6d2d3",
   "metadata": {},
   "source": [
    "### All together"
   ]
  },
  {
   "cell_type": "code",
   "execution_count": 104,
   "id": "772c470c-1d8f-4c8b-bb88-1d63fe5bce3a",
   "metadata": {},
   "outputs": [
    {
     "data": {
      "image/png": "[encoded data removed]",
      "text/plain": [
       "<Figure size 360x504 with 3 Axes>"
      ]
     },
     "metadata": {
      "needs_background": "light"
     },
     "output_type": "display_data"
    }
   ],
   "source": [
    "fig = plt.figure(figsize=(5,7))\n",
    "gs = fig.add_gridspec(2,2,height_ratios=[1,2],width_ratios=[1,1])\n",
    "\n",
    "##### years\n",
    "ax1 = fig.add_subplot(gs[0,:])\n",
    "\n",
    "width=0.6\n",
    "\n",
    "ax1.bar(paper_per_year[\"Year\"], paper_per_year[\"size\"], width, color=\"grey\")\n",
    "ax1.set_ylabel('Number of \\nPublications')\n",
    "\n",
    "#### focus  - CDR ######################\n",
    "focus = [1,2,3]\n",
    "\n",
    "ax2 = fig.add_subplot(gs[1,0])\n",
    "\n",
    "prev_values = np.zeros(len(cdr_meth_focus.loc[cdr_meth_focus[\"CDR_focus\"]==focus[0]]))\n",
    "for i, f in enumerate(focus):\n",
    "    #print(topic)\n",
    "    ax2.barh([i for i in range(len(cdr_method_colors.keys()))], cdr_meth_focus.loc[cdr_meth_focus[\"CDR_focus\"]==f,\"rel\"], \n",
    "              width, left=prev_values, \n",
    "              label=f,\n",
    "              color=cdr_meth_focus.loc[cdr_meth_focus[\"CDR_focus\"]==f,\"col\"])\n",
    "    prev_values += np.array(cdr_meth_focus.loc[cdr_meth_focus[\"CDR_focus\"]==f,\"rel\"])\n",
    "    \n",
    "ax2.set_xlabel('Share of Focus ')\n",
    "_=ax2.set_yticks([i for i in range(len(cdr_method_colors.keys()))],[i for i in cdr_method_colors.keys()])\n",
    "\n",
    "#### focus  - CDR ######################\n",
    "focus = [1,2,3]\n",
    "\n",
    "ax3 = fig.add_subplot(gs[1,1])\n",
    "\n",
    "prev_values = np.zeros(len(cdr_mrv_focus.loc[cdr_mrv_focus[\"MRV_focus\"]==focus[0]]))\n",
    "for i, f in enumerate(focus):\n",
    "    ax3.barh([i for i in range(len(mrv_topic_colors.keys()))], cdr_mrv_focus.loc[cdr_mrv_focus[\"MRV_focus\"]==f,\"rel\"], \n",
    "              width, left=prev_values, \n",
    "              label=f,\n",
    "              color=cdr_mrv_focus.loc[cdr_mrv_focus[\"MRV_focus\"]==f,\"col\"])\n",
    "    prev_values += np.array(cdr_mrv_focus.loc[cdr_mrv_focus[\"MRV_focus\"]==f,\"rel\"])\n",
    "    \n",
    "ax3.set_xlabel('Share of Focus ')\n",
    "_ = ax3.set_yticks([i for i in range(len(mrv_topic_colors.keys()))],[i for i in mrv_topic_colors.keys()])\n",
    "ax3.yaxis.tick_right()\n",
    "ax3.set_xticks([0,0.5,1],[0,0.5,1])\n",
    "\n",
    "ax2.set_xticks([0,0.5,1],[0,0.5,1])\n",
    "ax3.set_xticks([0,0.5,1],[0,0.5,1])\n",
    "\n",
    "legend = []\n",
    "legend.append(mpatches.Patch(color=col_focus[1], label=\"main focus\"))\n",
    "legend.append(mpatches.Patch(color=col_focus[2], label=\"paragraph\"))\n",
    "legend.append(mpatches.Patch(color=col_focus[3], label=\"framing\"))\n",
    "leg_res = ax2.legend(handles=legend, bbox_to_anchor=(2.3,-.15), fontsize=10, frameon=False,ncol=3)\n",
    "\n",
    "\n",
    "fig.savefig('figures/fig1.png', bbox_inches=\"tight\", facecolor='white', edgecolor='none')"
   ]
  }
 ],
 "metadata": {
  "kernelspec": {
   "display_name": "net-env",
   "language": "python",
   "name": "net-env"
  },
  "language_info": {
   "codemirror_mode": {
    "name": "ipython",
    "version": 3
   },
   "file_extension": ".py",
   "mimetype": "text/x-python",
   "name": "python",
   "nbconvert_exporter": "python",
   "pygments_lexer": "ipython3",
   "version": "3.8.10"
  }
 },
 "nbformat": 4,
 "nbformat_minor": 5
}
